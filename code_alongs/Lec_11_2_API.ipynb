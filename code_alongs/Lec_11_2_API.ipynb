{
 "cells": [
  {
   "cell_type": "code",
   "execution_count": null,
   "metadata": {},
   "outputs": [],
   "source": []
  },
  {
   "cell_type": "code",
   "execution_count": 5,
   "metadata": {},
   "outputs": [],
   "source": [
    "from dotenv import load_dotenv\n",
    "import requests\n",
    "import pandas as pd\n",
    "import os\n",
    "\n",
    "load_dotenv()\n",
    "\n",
    "api_key = os.getenv(\"ALPHA_API_KEY\")\n",
    "\n"
   ]
  },
  {
   "cell_type": "code",
   "execution_count": null,
   "metadata": {},
   "outputs": [],
   "source": [
    "symbols = [\"AAPL\", \"NVDA\", \"TSLA\", \"IBM\"]\n",
    "stock_list = []\n",
    "\n",
    "for symbol in symbols:\n",
    "    function = \"TIME_SERIES_DAILY\"\n",
    "\n",
    "    url = f'https://www.alphavantage.co/query?function={function}&symbol={symbol}&apikey={api_key}'\n",
    "    #url = f'https://www.alphavantage.co/query?function={function}&symbol={symbol}&apikey={api_key}'\n",
    "    response = requests.get(url)\n",
    "    data = response.json()\n",
    "    #df = pd.DataFrame(data[\"Time Series (Daily)\"]).transpose()\n",
    "    #df = df[\"4. close\"].rename(symbol).astype(float)\n",
    "    #stock_list.append(df)"
   ]
  }
 ],
 "metadata": {
  "kernelspec": {
   "display_name": "venv",
   "language": "python",
   "name": "python3"
  },
  "language_info": {
   "codemirror_mode": {
    "name": "ipython",
    "version": 3
   },
   "file_extension": ".py",
   "mimetype": "text/x-python",
   "name": "python",
   "nbconvert_exporter": "python",
   "pygments_lexer": "ipython3",
   "version": "3.11.7"
  }
 },
 "nbformat": 4,
 "nbformat_minor": 2
}
