{
 "cells": [
  {
   "cell_type": "markdown",
   "metadata": {},
   "source": [
    "### Uppgifter\n",
    "Alla grafer ska exporteras till en undermapp som heter visualiseringar i ditt repo för labben. Exportera\n",
    "matplotlib/seaborngrafer i png-format och plotly-grafer som html-filer. Ge relevanta namn till dina filer så det blir lätt att\n",
    "referera till dem. Notera att du behöver ställa in bakgrundsfärg när du sparar matplotlibgrafer, annars blir de\n",
    "transparenta och svåra att läsa.\n",
    "Tänk på data storytelling, graferna du skapar ska ha lämpliga rubriker, labels, annoteringar, clutter ska tas bort, jobba\n",
    "med attention mha färger mm"
   ]
  },
  {
   "cell_type": "markdown",
   "metadata": {},
   "source": [
    "### Uppgift 0 - uppvärmning med riket\n",
    "I den här uppgiften ska du visualisera med hjälp av matplotlib och/eller seaborn\n",
    "  - a) Börja med att läsa in filen riket2023_åk9_np.xlsx och sheets för de olika ämnena. Ändra kolumnnamnen på\n",
    "       respektive dataframe så du får något liknande som nedan.\n",
    "  - b) Ta reda på antalet som fått F i matematik totalt, pojkar respektive flickor.\n",
    "  - c) Rita ett stapeldiagram på totala poängen för de olika ämnena.\n",
    "  - d) Rita fyra olika stapeldiagram i subplots på totala poängen för de olika ämnena för de olika huvudmännen.\n",
    "  - e) Rita ett stapeldiagram i subplots på totala poängen för de olika ämnena för de olika huvudmännen.\n",
    "Uppgift 1 - uppvärmning betyg och prov\n",
    "I uppgifterna nedan ska du använda dig av datasetet betyg_o_prov_riksnivå.xlsx. Använd Plotly för att rita diagrammen\n",
    "nedan för de uppgifter som kräver diagram. Använd Pandas för att svara på frågor om datasetet.\n",
    "  - a) Rita ett linjediagram för andel elever som saknar godkänt betyg i ett eller fler ämnen för läsår 18-23. Ta med totalt,\n",
    "flickor och pojkar i samma graf.\n"
   ]
  },
  {
   "cell_type": "code",
   "execution_count": 739,
   "metadata": {},
   "outputs": [
    {
     "data": {
      "text/html": [
       "<div>\n",
       "<style scoped>\n",
       "    .dataframe tbody tr th:only-of-type {\n",
       "        vertical-align: middle;\n",
       "    }\n",
       "\n",
       "    .dataframe tbody tr th {\n",
       "        vertical-align: top;\n",
       "    }\n",
       "\n",
       "    .dataframe thead th {\n",
       "        text-align: right;\n",
       "    }\n",
       "</style>\n",
       "<table border=\"1\" class=\"dataframe\">\n",
       "  <thead>\n",
       "    <tr style=\"text-align: right;\">\n",
       "      <th></th>\n",
       "      <th>Plats</th>\n",
       "      <th>Huvudman</th>\n",
       "      <th>Totalt (A-F)</th>\n",
       "      <th>Flickor (A-F)</th>\n",
       "      <th>Pojkar (A-F)</th>\n",
       "      <th>Totalt (A-E)</th>\n",
       "      <th>Flickor (A-E)</th>\n",
       "      <th>Pojkar (A-E)</th>\n",
       "      <th>Totalt (poäng)</th>\n",
       "      <th>Flickor (poäng)</th>\n",
       "      <th>Pojkar (poäng)</th>\n",
       "    </tr>\n",
       "  </thead>\n",
       "  <tbody>\n",
       "    <tr>\n",
       "      <th>0</th>\n",
       "      <td>Riket</td>\n",
       "      <td>Samtliga</td>\n",
       "      <td>106941</td>\n",
       "      <td>51864</td>\n",
       "      <td>55077</td>\n",
       "      <td>97.0</td>\n",
       "      <td>97.1</td>\n",
       "      <td>97.0</td>\n",
       "      <td>15.7</td>\n",
       "      <td>15.8</td>\n",
       "      <td>15.7</td>\n",
       "    </tr>\n",
       "    <tr>\n",
       "      <th>1</th>\n",
       "      <td>Riket</td>\n",
       "      <td>Kommunal</td>\n",
       "      <td>84310</td>\n",
       "      <td>40675</td>\n",
       "      <td>43635</td>\n",
       "      <td>96.6</td>\n",
       "      <td>96.6</td>\n",
       "      <td>96.6</td>\n",
       "      <td>15.4</td>\n",
       "      <td>15.5</td>\n",
       "      <td>15.4</td>\n",
       "    </tr>\n",
       "    <tr>\n",
       "      <th>2</th>\n",
       "      <td>Riket</td>\n",
       "      <td>Enskild</td>\n",
       "      <td>22582</td>\n",
       "      <td>11165</td>\n",
       "      <td>11417</td>\n",
       "      <td>98.7</td>\n",
       "      <td>98.8</td>\n",
       "      <td>98.7</td>\n",
       "      <td>16.9</td>\n",
       "      <td>17.0</td>\n",
       "      <td>16.8</td>\n",
       "    </tr>\n",
       "    <tr>\n",
       "      <th>3</th>\n",
       "      <td>Riket</td>\n",
       "      <td>Skolverket</td>\n",
       "      <td>49</td>\n",
       "      <td>24</td>\n",
       "      <td>25</td>\n",
       "      <td>100.0</td>\n",
       "      <td>100.0</td>\n",
       "      <td>100.0</td>\n",
       "      <td>18.5</td>\n",
       "      <td>18.9</td>\n",
       "      <td>18.2</td>\n",
       "    </tr>\n",
       "  </tbody>\n",
       "</table>\n",
       "</div>"
      ],
      "text/plain": [
       "   Plats    Huvudman  Totalt (A-F)  Flickor (A-F)  Pojkar (A-F)  Totalt (A-E)  \\\n",
       "0  Riket    Samtliga        106941          51864         55077          97.0   \n",
       "1  Riket    Kommunal         84310          40675         43635          96.6   \n",
       "2  Riket     Enskild         22582          11165         11417          98.7   \n",
       "3  Riket  Skolverket            49             24            25         100.0   \n",
       "\n",
       "   Flickor (A-E)  Pojkar (A-E)  Totalt (poäng)  Flickor (poäng)  \\\n",
       "0           97.1          97.0            15.7             15.8   \n",
       "1           96.6          96.6            15.4             15.5   \n",
       "2           98.8          98.7            16.9             17.0   \n",
       "3          100.0         100.0            18.5             18.9   \n",
       "\n",
       "   Pojkar (poäng)  \n",
       "0            15.7  \n",
       "1            15.4  \n",
       "2            16.8  \n",
       "3            18.2  "
      ]
     },
     "execution_count": 739,
     "metadata": {},
     "output_type": "execute_result"
    }
   ],
   "source": [
    "# A)\n",
    "import pandas as pd\n",
    "\n",
    "# Read the file and all different sheets\n",
    "df_riks_2023 = pd.read_excel(\"../Labb2/data/riket2023_åk9_np.xlsx\", sheet_name=None, skiprows=8)\n",
    "\n",
    "sheets_to_change = [\"Engelska\", \"Matematik\", \"Svenska\", \"Svenska som andraspråk\", \"Rapportbeskrivning och def.\"]\n",
    "\n",
    "# Function to change the columnnames in all sheets\n",
    "def change_columns(df):\n",
    "    df.columns = [\"Plats\", \"Huvudman\", \"Totalt (A-F)\", \"Flickor (A-F)\", \"Pojkar (A-F)\", \"Totalt (A-E)\", \"Flickor (A-E)\", \"Pojkar (A-E)\", \"Totalt (poäng)\", \"Flickor (poäng)\", \"Pojkar (poäng)\"][:len(df.columns)]\n",
    "    return df\n",
    "\n",
    "# Loopas through each sheet and changes the columnnames if the sheet is in sheets_to_change\n",
    "for sheet_name, df in df_riks_2023.items():\n",
    "    if sheet_name in sheets_to_change:\n",
    "        df_riks_2023[sheet_name] = change_columns(df)\n",
    "\n",
    "df_riks_2023[\"Engelska\"]\n"
   ]
  },
  {
   "cell_type": "code",
   "execution_count": 740,
   "metadata": {},
   "outputs": [
    {
     "data": {
      "text/html": [
       "<div>\n",
       "<style scoped>\n",
       "    .dataframe tbody tr th:only-of-type {\n",
       "        vertical-align: middle;\n",
       "    }\n",
       "\n",
       "    .dataframe tbody tr th {\n",
       "        vertical-align: top;\n",
       "    }\n",
       "\n",
       "    .dataframe thead th {\n",
       "        text-align: right;\n",
       "    }\n",
       "</style>\n",
       "<table border=\"1\" class=\"dataframe\">\n",
       "  <thead>\n",
       "    <tr style=\"text-align: right;\">\n",
       "      <th></th>\n",
       "      <th>Plats</th>\n",
       "      <th>Huvudman</th>\n",
       "      <th>Totalt (A-F)</th>\n",
       "      <th>Flickor (A-F)</th>\n",
       "      <th>Pojkar (A-F)</th>\n",
       "      <th>Totalt (A-E)</th>\n",
       "      <th>Flickor (A-E)</th>\n",
       "      <th>Pojkar (A-E)</th>\n",
       "      <th>Totalt (poäng)</th>\n",
       "      <th>Flickor (poäng)</th>\n",
       "      <th>Pojkar (poäng)</th>\n",
       "    </tr>\n",
       "  </thead>\n",
       "  <tbody>\n",
       "    <tr>\n",
       "      <th>0</th>\n",
       "      <td>Riket</td>\n",
       "      <td>Samtliga</td>\n",
       "      <td>106766</td>\n",
       "      <td>51548</td>\n",
       "      <td>55218</td>\n",
       "      <td>89.1</td>\n",
       "      <td>88.7</td>\n",
       "      <td>89.5</td>\n",
       "      <td>11.9</td>\n",
       "      <td>11.8</td>\n",
       "      <td>12.0</td>\n",
       "    </tr>\n",
       "    <tr>\n",
       "      <th>1</th>\n",
       "      <td>Riket</td>\n",
       "      <td>Kommunal</td>\n",
       "      <td>84163</td>\n",
       "      <td>40386</td>\n",
       "      <td>43777</td>\n",
       "      <td>88.1</td>\n",
       "      <td>87.7</td>\n",
       "      <td>88.5</td>\n",
       "      <td>11.6</td>\n",
       "      <td>11.5</td>\n",
       "      <td>11.7</td>\n",
       "    </tr>\n",
       "    <tr>\n",
       "      <th>2</th>\n",
       "      <td>Riket</td>\n",
       "      <td>Enskild</td>\n",
       "      <td>22553</td>\n",
       "      <td>11137</td>\n",
       "      <td>11416</td>\n",
       "      <td>92.9</td>\n",
       "      <td>92.2</td>\n",
       "      <td>93.5</td>\n",
       "      <td>13.0</td>\n",
       "      <td>12.8</td>\n",
       "      <td>13.1</td>\n",
       "    </tr>\n",
       "    <tr>\n",
       "      <th>3</th>\n",
       "      <td>Riket</td>\n",
       "      <td>Skolverket</td>\n",
       "      <td>50</td>\n",
       "      <td>25</td>\n",
       "      <td>25</td>\n",
       "      <td>~100</td>\n",
       "      <td>~100</td>\n",
       "      <td>~100</td>\n",
       "      <td>14.1</td>\n",
       "      <td>13.5</td>\n",
       "      <td>14.7</td>\n",
       "    </tr>\n",
       "  </tbody>\n",
       "</table>\n",
       "</div>"
      ],
      "text/plain": [
       "   Plats    Huvudman  Totalt (A-F)  Flickor (A-F)  Pojkar (A-F) Totalt (A-E)  \\\n",
       "0  Riket    Samtliga        106766          51548         55218         89.1   \n",
       "1  Riket    Kommunal         84163          40386         43777         88.1   \n",
       "2  Riket     Enskild         22553          11137         11416         92.9   \n",
       "3  Riket  Skolverket            50             25            25         ~100   \n",
       "\n",
       "  Flickor (A-E) Pojkar (A-E)  Totalt (poäng)  Flickor (poäng)  Pojkar (poäng)  \n",
       "0          88.7         89.5            11.9             11.8            12.0  \n",
       "1          87.7         88.5            11.6             11.5            11.7  \n",
       "2          92.2         93.5            13.0             12.8            13.1  \n",
       "3          ~100         ~100            14.1             13.5            14.7  "
      ]
     },
     "execution_count": 740,
     "metadata": {},
     "output_type": "execute_result"
    }
   ],
   "source": [
    "# Testing if more than the first sheet can be printed\n",
    "df_math = df_riks_2023[\"Matematik\"]\n",
    "\n",
    "df_math"
   ]
  },
  {
   "cell_type": "code",
   "execution_count": 741,
   "metadata": {},
   "outputs": [
    {
     "name": "stdout",
     "output_type": "stream",
     "text": [
      "Antal flickor som fått betyget F: 5825\n",
      "Antal pojkar som fått betyget F: 5798\n"
     ]
    }
   ],
   "source": [
    "# Extracts number of girls with grades A-F\n",
    "girls_A_F = df_riks_2023[\"Matematik\"].loc[0, \"Flickor (A-F)\"]\n",
    "#Extracts the percentage of girls with grades A-E and converts it to a decimal\n",
    "girls_A_E = df_riks_2023[\"Matematik\"].loc[0, \"Flickor (A-E)\"] / 100  \n",
    "# Calculates the number of girls with F-grade by subtracting the percentage of girls with grades A to E from 1 and multiplying by the total number of girls with grades A to F\n",
    "girls_F = girls_A_F * (1 - girls_A_E)\n",
    "rounded_girls_F =round(girls_F)\n",
    "\n",
    "print(\"Antal flickor som fått betyget F:\", rounded_girls_F)\n",
    "\n",
    "\n",
    "boys_A_F = df_riks_2023[\"Matematik\"].loc[0, \"Pojkar (A-F)\"]\n",
    "boys_A_E = df_riks_2023[\"Matematik\"].loc[0, \"Pojkar (A-E)\"] / 100\n",
    "boys_F = boys_A_F * (1 - boys_A_E)\n",
    "rounded_boys_F =round(boys_F)\n",
    "\n",
    "print(\"Antal pojkar som fått betyget F:\", rounded_boys_F)"
   ]
  },
  {
   "cell_type": "code",
   "execution_count": 742,
   "metadata": {},
   "outputs": [
    {
     "name": "stdout",
     "output_type": "stream",
     "text": [
      "Totalt antal flickor som fått F: 5825\n",
      "Totalt antal killar som fått F: 5798\n"
     ]
    }
   ],
   "source": [
    "# B)\n",
    "\n",
    "# Total number of girls with F in math\n",
    "girls_F = (pd.to_numeric(df_riks_2023[\"Matematik\"][\"Flickor (A-F)\"]) * 0.113)\n",
    "print(\"Totalt antal flickor som fått F:\", round(girls_F[0]))\n",
    "\n",
    "# Total number of boys with F in math\n",
    "boys_F = (pd.to_numeric(df_riks_2023[\"Matematik\"][\"Pojkar (A-F)\"]) * 0.105)\n",
    "print(\"Totalt antal killar som fått F:\", round(boys_F[0]))\n"
   ]
  },
  {
   "cell_type": "code",
   "execution_count": 743,
   "metadata": {},
   "outputs": [
    {
     "data": {
      "image/png": "[encoded data removed]",
      "text/plain": [
       "<Figure size 640x480 with 1 Axes>"
      ]
     },
     "metadata": {},
     "output_type": "display_data"
    }
   ],
   "source": [
    "# C)\n",
    "\n",
    "import matplotlib.pyplot as plt\n",
    "\n",
    "# Loops through each sheet and changes the columnnames as above\n",
    "for sheet_name, df in df_riks_2023.items():\n",
    "    if sheet_name in sheets_to_change:\n",
    "        df_riks_2023[sheet_name] = change_columns(df)\n",
    "\n",
    "# Creates a DataFrame with the total points for each subject\n",
    "df_total_points = pd.DataFrame([\n",
    "    {\"Ämne\": sheet_name, \"Totalt poäng\": pd.to_numeric(df.loc[0][\"Totalt (poäng)\"], errors=\"coerce\")}\n",
    "    for sheet_name, df in df_riks_2023.items() if sheet_name in sheets_to_change and \"Totalt (poäng)\" in df.columns])\n",
    "\n",
    "# Skips/cleans possible NaN-values\n",
    "df_total_points.dropna(inplace=True)\n",
    "\n",
    "# draws the graf\n",
    "fig, ax = plt.subplots()\n",
    "\n",
    "ax.bar(df_total_points[\"Ämne\"], df_total_points[\"Totalt poäng\"], color=\"#FF6D66\")\n",
    "ax.set_title(\"Totala poäng för de olika ämnena\", pad=15)\n",
    "ax.set_xlabel(\"Ämne\")\n",
    "ax.set_ylabel(\"Totalt poäng\")\n",
    "\n",
    "# Creates a grid in the graf that makes it easier\n",
    "ax.grid(axis=\"y\")\n",
    "\n",
    "# Removes the top and right axel-line\n",
    "ax.spines[\"top\"].set_visible(False)\n",
    "ax.spines[\"right\"].set_visible(False)\n",
    "\n",
    "# Changes the labels on the x axel so they fit\n",
    "plt.xticks(ha=\"center\", rotation_mode=\"anchor\", fontsize=10)\n",
    "\n",
    "plt.show()\n"
   ]
  },
  {
   "cell_type": "code",
   "execution_count": 744,
   "metadata": {},
   "outputs": [
    {
     "name": "stderr",
     "output_type": "stream",
     "text": [
      "C:\\Users\\Sandra\\AppData\\Local\\Temp\\ipykernel_6256\\562189424.py:16: FutureWarning: The behavior of DataFrame concatenation with empty or all-NA entries is deprecated. In a future version, this will no longer exclude empty or all-NA columns when determining the result dtypes. To retain the old behavior, exclude the relevant entries before the concat operation.\n",
      "  df_total_points = pd.concat([df_total_points, pd.DataFrame({'Huvudman': [huvudman], 'Ämne': [sheet_name], 'Totalt poäng': [total_points]})])\n"
     ]
    },
    {
     "data": {
      "image/png": "[encoded data removed]",
      "text/plain": [
       "<Figure size 1300x1000 with 4 Axes>"
      ]
     },
     "metadata": {},
     "output_type": "display_data"
    }
   ],
   "source": [
    "# D)\n",
    "\n",
    "import matplotlib.pyplot as plt\n",
    "\n",
    "for sheet_name, df in df_riks_2023.items():\n",
    "    if sheet_name in sheets_to_change:\n",
    "        df_riks_2023[sheet_name] = change_columns(df)\n",
    "\n",
    "df_total_points = pd.DataFrame(columns=['Huvudman', 'Ämne', 'Totalt poäng'])\n",
    "\n",
    "# Loops through each sheet and collects the total points for each subject and \"huvudman\"\n",
    "for sheet_name in sheets_to_change:\n",
    "    for huvudman in df_riks_2023[sheet_name]['Huvudman'].unique():\n",
    "        if 'Totalt (poäng)' in df_riks_2023[sheet_name].columns:\n",
    "            total_points = pd.to_numeric(df_riks_2023[sheet_name][df_riks_2023[sheet_name]['Huvudman'] == huvudman]['Totalt (poäng)'], errors='coerce').sum(axis=0)\n",
    "            df_total_points = pd.concat([df_total_points, pd.DataFrame({'Huvudman': [huvudman], 'Ämne': [sheet_name], 'Totalt poäng': [total_points]})])\n",
    "\n",
    "df_total_points.dropna(inplace=True)\n",
    "\n",
    "# Creates subplots and changes the size of the graf\n",
    "fig, axs = plt.subplots(nrows=2, ncols=2, figsize=(13, 10))\n",
    "\n",
    "# Loops through each \"huvudman\" and draws a bargraf in respective subplot-graf\n",
    "for i, (huvudman, group) in enumerate(df_total_points.groupby('Huvudman')):\n",
    "    # Iindexing the matris axs to get the specifik axel (subplot) on position (row, column) in the grid.\n",
    "    ax = axs[i // 2, i % 2] \n",
    "    cmap = plt.get_cmap('viridis')\n",
    "    colors = [cmap(i/len(group['Ämne'])) for i in range(len(group['Ämne']))]        \n",
    "\n",
    "    bar_width = 0.8\n",
    "\n",
    "    ax.bar(group['Ämne'], group['Totalt poäng'], color=colors, width=bar_width)\n",
    "    ax.set_title(f\"{huvudman}\", pad=15)\n",
    "    ax.set_ylabel('Totalt poäng')\n",
    "    ax.spines['top'].set_visible(False)\n",
    "    ax.spines['right'].set_visible(False)\n",
    "\n",
    "    # Adjust x-label\n",
    "    ax.set_xticks(range(len(group['Ämne'])))\n",
    "    ax.set_xticklabels(group['Ämne'], ha=\"center\", rotation_mode=\"anchor\", fontsize=10)\n",
    "\n",
    "    if huvudman == \"Skolverket\" or sheet_name == \"Svenska som andraspråk\":\n",
    "            ax.set_title(f\"{huvudman}\\n-data saknas från 'Svenska som andraspråk'\", pad=15)\n",
    "            # Removes x-axel-ticks and labels for the last bar\n",
    "            ax.set_xticks([0,1,2])\n",
    "    \n",
    "\n",
    "# Adjust the layout to avoid overlapp in the graf\n",
    "plt.tight_layout()\n",
    "plt.suptitle(\"Totala poäng per ämne under olika huvudmän\", size=20, y=1.02)\n",
    "plt.show()\n"
   ]
  },
  {
   "cell_type": "markdown",
   "metadata": {},
   "source": [
    "### Uppgift 1 - uppvärmning betyg och prov\n",
    "I uppgifterna nedan ska du använda dig av datasetet betyg_o_prov_riksnivå.xlsx. Använd Plotly för att rita diagrammen\n",
    "nedan för de uppgifter som kräver diagram. Använd Pandas för att svara på frågor om datasetet.\n",
    "  - a) Rita ett linjediagram för andel elever som saknar godkänt betyg i ett eller fler ämnen för läsår 18-23. Ta med totalt,\n",
    "flickor och pojkar i samma graf.\n",
    "  - b) Rita ett linjediagram för meritvärde för 16 ämnen för totalt, flickor och pojkar för läsår 18-23.\n",
    "  - c) Undersök nu andra variabler, och hur de påverkar meritvärde och andel med minst ett saknat betyg. Data finns för\n",
    "läsår 22/23. Exempel kan man undersöka föräldrarnas utbildningsbakgrund. Rita lämpliga grafer"
   ]
  },
  {
   "cell_type": "code",
   "execution_count": 745,
   "metadata": {},
   "outputs": [
    {
     "data": {
      "text/html": [
       "<div>\n",
       "<style scoped>\n",
       "    .dataframe tbody tr th:only-of-type {\n",
       "        vertical-align: middle;\n",
       "    }\n",
       "\n",
       "    .dataframe tbody tr th {\n",
       "        vertical-align: top;\n",
       "    }\n",
       "\n",
       "    .dataframe thead th {\n",
       "        text-align: right;\n",
       "    }\n",
       "</style>\n",
       "<table border=\"1\" class=\"dataframe\">\n",
       "  <thead>\n",
       "    <tr style=\"text-align: right;\">\n",
       "      <th></th>\n",
       "      <th>Läsår</th>\n",
       "      <th>Totalt som avslutat åk 9</th>\n",
       "      <th>Totalt som avslutat åk 9: Flickor</th>\n",
       "      <th>Totalt som avslutat åk 9: Pojkar</th>\n",
       "      <th>Elever med slutbetyg: Totalt</th>\n",
       "      <th>Elever med slutbetyg: Flickor</th>\n",
       "      <th>Elever med slutbetyg: Pojkar</th>\n",
       "      <th>Godkända slutbetyg: Totalt</th>\n",
       "      <th>Godkända slutbetyg: Flickor</th>\n",
       "      <th>Godkända slutbetyg: Pojkar</th>\n",
       "    </tr>\n",
       "  </thead>\n",
       "  <tbody>\n",
       "    <tr>\n",
       "      <th>9</th>\n",
       "      <td>2018/19</td>\n",
       "      <td>112731</td>\n",
       "      <td>54667</td>\n",
       "      <td>58064</td>\n",
       "      <td>112280</td>\n",
       "      <td>54430</td>\n",
       "      <td>57850</td>\n",
       "      <td>110663</td>\n",
       "      <td>53757</td>\n",
       "      <td>56906</td>\n",
       "    </tr>\n",
       "    <tr>\n",
       "      <th>10</th>\n",
       "      <td>2019/20</td>\n",
       "      <td>115023</td>\n",
       "      <td>55670</td>\n",
       "      <td>59353</td>\n",
       "      <td>114444</td>\n",
       "      <td>55389</td>\n",
       "      <td>59055</td>\n",
       "      <td>112728</td>\n",
       "      <td>54711</td>\n",
       "      <td>58017</td>\n",
       "    </tr>\n",
       "    <tr>\n",
       "      <th>11</th>\n",
       "      <td>2020/21</td>\n",
       "      <td>116359</td>\n",
       "      <td>56715</td>\n",
       "      <td>59644</td>\n",
       "      <td>115710</td>\n",
       "      <td>56394</td>\n",
       "      <td>59316</td>\n",
       "      <td>114136</td>\n",
       "      <td>55721</td>\n",
       "      <td>58415</td>\n",
       "    </tr>\n",
       "    <tr>\n",
       "      <th>12</th>\n",
       "      <td>2021/22</td>\n",
       "      <td>120525</td>\n",
       "      <td>58513</td>\n",
       "      <td>62012</td>\n",
       "      <td>119891</td>\n",
       "      <td>58207</td>\n",
       "      <td>61684</td>\n",
       "      <td>117935</td>\n",
       "      <td>57312</td>\n",
       "      <td>60623</td>\n",
       "    </tr>\n",
       "    <tr>\n",
       "      <th>13</th>\n",
       "      <td>2022/23</td>\n",
       "      <td>121369</td>\n",
       "      <td>59043</td>\n",
       "      <td>62326</td>\n",
       "      <td>120742</td>\n",
       "      <td>58703</td>\n",
       "      <td>62039</td>\n",
       "      <td>118736</td>\n",
       "      <td>57781</td>\n",
       "      <td>60955</td>\n",
       "    </tr>\n",
       "  </tbody>\n",
       "</table>\n",
       "</div>"
      ],
      "text/plain": [
       "      Läsår Totalt som avslutat åk 9 Totalt som avslutat åk 9: Flickor  \\\n",
       "9   2018/19                   112731                             54667   \n",
       "10  2019/20                   115023                             55670   \n",
       "11  2020/21                   116359                             56715   \n",
       "12  2021/22                   120525                             58513   \n",
       "13  2022/23                   121369                             59043   \n",
       "\n",
       "   Totalt som avslutat åk 9: Pojkar Elever med slutbetyg: Totalt  \\\n",
       "9                             58064                       112280   \n",
       "10                            59353                       114444   \n",
       "11                            59644                       115710   \n",
       "12                            62012                       119891   \n",
       "13                            62326                       120742   \n",
       "\n",
       "   Elever med slutbetyg: Flickor Elever med slutbetyg: Pojkar  \\\n",
       "9                          54430                        57850   \n",
       "10                         55389                        59055   \n",
       "11                         56394                        59316   \n",
       "12                         58207                        61684   \n",
       "13                         58703                        62039   \n",
       "\n",
       "   Godkända slutbetyg: Totalt Godkända slutbetyg: Flickor  \\\n",
       "9                      110663                       53757   \n",
       "10                     112728                       54711   \n",
       "11                     114136                       55721   \n",
       "12                     117935                       57312   \n",
       "13                     118736                       57781   \n",
       "\n",
       "   Godkända slutbetyg: Pojkar  \n",
       "9                       56906  \n",
       "10                      58017  \n",
       "11                      58415  \n",
       "12                      60623  \n",
       "13                      60955  "
      ]
     },
     "metadata": {},
     "output_type": "display_data"
    },
    {
     "data": {
      "text/html": [
       "<div>\n",
       "<style scoped>\n",
       "    .dataframe tbody tr th:only-of-type {\n",
       "        vertical-align: middle;\n",
       "    }\n",
       "\n",
       "    .dataframe tbody tr th {\n",
       "        vertical-align: top;\n",
       "    }\n",
       "\n",
       "    .dataframe thead th {\n",
       "        text-align: right;\n",
       "    }\n",
       "</style>\n",
       "<table border=\"1\" class=\"dataframe\">\n",
       "  <thead>\n",
       "    <tr style=\"text-align: right;\">\n",
       "      <th></th>\n",
       "      <th>Läsår</th>\n",
       "      <th>Medelvärde 16 ämnen: Totalt</th>\n",
       "      <th>Medelvärde 16 ämnen: Flickor</th>\n",
       "      <th>Medelvärde 16 ämnen: Pojkar</th>\n",
       "      <th>Medelvärde 17 ämnen: Totalt</th>\n",
       "      <th>Medelvärde 17 ämnen: Flickor</th>\n",
       "      <th>Medelvärde 17 ämnen: Pojkar</th>\n",
       "      <th>% Som saknar godkänt: Totalt</th>\n",
       "      <th>% Som saknar godkänt: Flickor</th>\n",
       "      <th>% Som saknar godkänt: Pojkar</th>\n",
       "    </tr>\n",
       "  </thead>\n",
       "  <tbody>\n",
       "    <tr>\n",
       "      <th>7</th>\n",
       "      <td>2018/19</td>\n",
       "      <td>221.7</td>\n",
       "      <td>234.3</td>\n",
       "      <td>209.8</td>\n",
       "      <td>229.8</td>\n",
       "      <td>243.3</td>\n",
       "      <td>217</td>\n",
       "      <td>24.5</td>\n",
       "      <td>21.7</td>\n",
       "      <td>27.2</td>\n",
       "    </tr>\n",
       "    <tr>\n",
       "      <th>8</th>\n",
       "      <td>2019/20</td>\n",
       "      <td>222.9</td>\n",
       "      <td>235.7</td>\n",
       "      <td>210.9</td>\n",
       "      <td>231.1</td>\n",
       "      <td>244.9</td>\n",
       "      <td>218.2</td>\n",
       "      <td>23.9</td>\n",
       "      <td>21.4</td>\n",
       "      <td>26.3</td>\n",
       "    </tr>\n",
       "    <tr>\n",
       "      <th>9</th>\n",
       "      <td>2020/21</td>\n",
       "      <td>223.9</td>\n",
       "      <td>235.4</td>\n",
       "      <td>212.9</td>\n",
       "      <td>232.1</td>\n",
       "      <td>244.4</td>\n",
       "      <td>220.3</td>\n",
       "      <td>23.9</td>\n",
       "      <td>21.9</td>\n",
       "      <td>25.9</td>\n",
       "    </tr>\n",
       "    <tr>\n",
       "      <th>10</th>\n",
       "      <td>2021/22</td>\n",
       "      <td>221.2</td>\n",
       "      <td>231.6</td>\n",
       "      <td>211.4</td>\n",
       "      <td>229.2</td>\n",
       "      <td>240.3</td>\n",
       "      <td>218.8</td>\n",
       "      <td>25.9</td>\n",
       "      <td>24.2</td>\n",
       "      <td>27.5</td>\n",
       "    </tr>\n",
       "    <tr>\n",
       "      <th>11</th>\n",
       "      <td>2022/23</td>\n",
       "      <td>220.6</td>\n",
       "      <td>229.7</td>\n",
       "      <td>211.9</td>\n",
       "      <td>228.5</td>\n",
       "      <td>238.2</td>\n",
       "      <td>219.3</td>\n",
       "      <td>26.8</td>\n",
       "      <td>25.5</td>\n",
       "      <td>28</td>\n",
       "    </tr>\n",
       "  </tbody>\n",
       "</table>\n",
       "</div>"
      ],
      "text/plain": [
       "      Läsår Medelvärde 16 ämnen: Totalt Medelvärde 16 ämnen: Flickor  \\\n",
       "7   2018/19                       221.7                        234.3   \n",
       "8   2019/20                       222.9                        235.7   \n",
       "9   2020/21                       223.9                        235.4   \n",
       "10  2021/22                       221.2                        231.6   \n",
       "11  2022/23                       220.6                        229.7   \n",
       "\n",
       "   Medelvärde 16 ämnen: Pojkar Medelvärde 17 ämnen: Totalt  \\\n",
       "7                        209.8                       229.8   \n",
       "8                        210.9                       231.1   \n",
       "9                        212.9                       232.1   \n",
       "10                       211.4                       229.2   \n",
       "11                       211.9                       228.5   \n",
       "\n",
       "   Medelvärde 17 ämnen: Flickor Medelvärde 17 ämnen: Pojkar  \\\n",
       "7                         243.3                         217   \n",
       "8                         244.9                       218.2   \n",
       "9                         244.4                       220.3   \n",
       "10                        240.3                       218.8   \n",
       "11                        238.2                       219.3   \n",
       "\n",
       "   % Som saknar godkänt: Totalt % Som saknar godkänt: Flickor  \\\n",
       "7                          24.5                          21.7   \n",
       "8                          23.9                          21.4   \n",
       "9                          23.9                          21.9   \n",
       "10                         25.9                          24.2   \n",
       "11                         26.8                          25.5   \n",
       "\n",
       "   % Som saknar godkänt: Pojkar  \n",
       "7                          27.2  \n",
       "8                          26.3  \n",
       "9                          25.9  \n",
       "10                         27.5  \n",
       "11                           28  "
      ]
     },
     "metadata": {},
     "output_type": "display_data"
    }
   ],
   "source": [
    "#A )\n",
    "\n",
    "import pandas as pd\n",
    "\n",
    "# Reads data from both tabels in betyg och prov document\n",
    "df_grades_1A = pd.read_excel(\"../Labb2/data/betyg_o_prov_riksnivå.xlsx\", sheet_name=\"Tabell 1A\")\n",
    "df_grades_1B = pd.read_excel(\"../Labb2/data/betyg_o_prov_riksnivå.xlsx\", sheet_name=\"Tabell 1B\")\n",
    "\n",
    "# reads row 9-14 and 7-12 in respective tabel. \n",
    "data_1A = df_grades_1A.iloc[9:14]\n",
    "data_1B = df_grades_1B.iloc[7:12]\n",
    "\n",
    "# Renames the columns\n",
    "a_columns = [\n",
    "    \"Läsår\",\n",
    "    \"Totalt som avslutat åk 9\",\n",
    "    \"Totalt som avslutat åk 9: Flickor\",\n",
    "    \"Totalt som avslutat åk 9: Pojkar\",\n",
    "    \"Elever med slutbetyg: Totalt\",\n",
    "    \"Elever med slutbetyg: Flickor\",\n",
    "    \"Elever med slutbetyg: Pojkar\",\n",
    "    \"Godkända slutbetyg: Totalt\",\n",
    "    \"Godkända slutbetyg: Flickor\",\n",
    "    \"Godkända slutbetyg: Pojkar\"\n",
    "]\n",
    "\n",
    "b_columns = [\n",
    "    \"Läsår\",\n",
    "    \"Medelvärde 16 ämnen: Totalt\",\n",
    "    \"Medelvärde 16 ämnen: Flickor\",\n",
    "    \"Medelvärde 16 ämnen: Pojkar\",\n",
    "    \"Medelvärde 17 ämnen: Totalt\",\n",
    "    \"Medelvärde 17 ämnen: Flickor\",\n",
    "    \"Medelvärde 17 ämnen: Pojkar\",\n",
    "    \"% Som saknar godkänt: Totalt\",\n",
    "    \"% Som saknar godkänt: Flickor\",\n",
    "    \"% Som saknar godkänt: Pojkar\"\n",
    "]\n",
    "\n",
    "data_1A.columns = a_columns\n",
    "data_1B.columns = b_columns\n",
    "\n",
    "display(data_1A)\n",
    "display(data_1B)"
   ]
  },
  {
   "cell_type": "code",
   "execution_count": 819,
   "metadata": {},
   "outputs": [
    {
     "name": "stdout",
     "output_type": "stream",
     "text": [
      "Totalt antal som saknar godkänt:\n",
      " 7     24.5\n",
      "8     23.9\n",
      "9     23.9\n",
      "10    25.9\n",
      "11    26.8\n",
      "Name: % Som saknar godkänt: Totalt, dtype: object\n",
      "Totalt antal flickor som saknar godkänt:\n",
      " 7     21.7\n",
      "8     21.4\n",
      "9     21.9\n",
      "10    24.2\n",
      "11    25.5\n",
      "Name: % Som saknar godkänt: Flickor, dtype: object\n",
      "Totalt antal pojkar som saknar godkänt:\n",
      " 7     27.2\n",
      "8     26.3\n",
      "9     25.9\n",
      "10    27.5\n",
      "11      28\n",
      "Name: % Som saknar godkänt: Pojkar, dtype: object\n"
     ]
    }
   ],
   "source": [
    "# A) Rita ett linjediagram för andel elever som saknar godkänt betyg i ett eller fler ämnen för läsår 18-23. Ta med totalt,\n",
    "#flickor och pojkar i samma graf.\n",
    "\n",
    "# Total number of students that got an F in respective \"department\"\n",
    "total_F = (data_1B[\"% Som saknar godkänt: Totalt\"])\n",
    "print(\"Totalt antal som saknar godkänt:\\n\", round(total_F))\n",
    "\n",
    "girls_F_grade = (data_1B[\"% Som saknar godkänt: Flickor\"])\n",
    "print(\"Totalt antal flickor som saknar godkänt:\\n\", round(girls_F_grade))\n",
    "\n",
    "boys_F_grade = (data_1B[\"% Som saknar godkänt: Pojkar\"])\n",
    "print(\"Totalt antal pojkar som saknar godkänt:\\n\", round(boys_F_grade))\n",
    "\n"
   ]
  },
  {
   "cell_type": "code",
   "execution_count": 820,
   "metadata": {},
   "outputs": [
    {
     "data": {
      "image/png": "[encoded data removed]",
      "text/plain": [
       "<Figure size 640x480 with 1 Axes>"
      ]
     },
     "metadata": {},
     "output_type": "display_data"
    }
   ],
   "source": [
    "# A)\n",
    "\n",
    "# Counts number of students without G or a grade at all\n",
    "total_F = (data_1B[\"% Som saknar godkänt: Totalt\"])\n",
    "girls_F_grade = (data_1B[\"% Som saknar godkänt: Flickor\"])\n",
    "boys_F_grade = (data_1B[\"% Som saknar godkänt: Pojkar\"])\n",
    "\n",
    "\n",
    "# Draws the linediagram\n",
    "plt.plot(total_F, label='Totalt')\n",
    "plt.plot(girls_F_grade, label='Flickor')\n",
    "plt.plot(boys_F_grade, label='Pojkar')\n",
    "\n",
    "# adjusts the labels\n",
    "plt.title('Antal elever som saknar godkänt')\n",
    "plt.xlabel('Årskurs 9')\n",
    "plt.ylabel('Antal elever')\n",
    "plt.legend()\n",
    "\n",
    "plt.show()\n"
   ]
  },
  {
   "cell_type": "code",
   "execution_count": 821,
   "metadata": {},
   "outputs": [
    {
     "data": {
      "image/png": "[encoded data removed]",
      "text/plain": [
       "<Figure size 700x500 with 1 Axes>"
      ]
     },
     "metadata": {},
     "output_type": "display_data"
    }
   ],
   "source": [
    "# A) PLOTLY\n",
    "\n",
    "years = data_1A['Läsår']\n",
    "\n",
    "# Counts number of students without G or a grade at all. as above\n",
    "total_F = (data_1B[\"% Som saknar godkänt: Totalt\"])\n",
    "girls_F_grade = (data_1B[\"% Som saknar godkänt: Flickor\"])\n",
    "boys_F_grade = (data_1B[\"% Som saknar godkänt: Pojkar\"])\n",
    "\n",
    "# Creates subplots and size\n",
    "fig, ax = plt.subplots(figsize=(7, 5))\n",
    "\n",
    "# Draws lines and plots dots based on years\n",
    "plt.plot(years, total_F, label='Totalt', marker='o')\n",
    "plt.plot(years, girls_F_grade, label='Flickor', marker='o')\n",
    "plt.plot(years, boys_F_grade, label='Pojkar', marker='o')\n",
    "\n",
    "# Adjusts labels and gives space between top label and the graf and places it to the left\n",
    "plt.title('Antal elever som saknar godkänt eller slutbetyg 2018 - 2023', pad=20, color=\"gray\", loc=\"left\")\n",
    "plt.xlabel('Årskurs 9')\n",
    "plt.ylabel('Antal elever')\n",
    "\n",
    "# Gives the graf a grid\n",
    "plt.grid(True)\n",
    "plt.legend()\n",
    "\n",
    "ax.spines['top'].set_visible(False)\n",
    "ax.spines['right'].set_visible(False)\n",
    "\n",
    "# Adds three lists at the bottom with year, who and sum for more clarity\n",
    "plt.text(0.0, -0.35, '\\n'.join([f'Totalt {year}: {round(val)}' for val, year in zip(total_F, years)]), transform=plt.gca().transAxes, ha='left', va='bottom', color='gray')\n",
    "plt.text(0.5, -0.35, '\\n'.join([f'Flickor {year}: {round(val)}' for val, year in zip(girls_F_grade, years)]), transform=plt.gca().transAxes, ha='center', va='bottom', color='gray')\n",
    "plt.text(1.0, -0.35, '\\n'.join([f'Pojkar {year}: {round(val)}' for val, year in zip(boys_F_grade, years)]), transform=plt.gca().transAxes, ha='right', va='bottom', color='gray')\n",
    "\n",
    "plt.show()\n"
   ]
  },
  {
   "cell_type": "code",
   "execution_count": 823,
   "metadata": {},
   "outputs": [
    {
     "data": {
      "application/vnd.plotly.v1+json": {
       "config": {
        "plotlyServerURL": "https://plot.ly"
       },
       "data": [
        {
         "hovertemplate": "variable=Total<br>Year=%{x}<br>value=%{y}<extra></extra>",
         "legendgroup": "Total",
         "line": {
          "color": "#636efa",
          "dash": "solid"
         },
         "marker": {
          "symbol": "circle"
         },
         "mode": "lines+markers",
         "name": "Total",
         "orientation": "v",
         "showlegend": true,
         "type": "scatter",
         "x": [
          "2018/19",
          "2019/20",
          "2020/21",
          "2021/22",
          "2022/23"
         ],
         "xaxis": "x",
         "y": [
          24.5,
          23.9,
          23.9,
          25.9,
          26.8
         ],
         "yaxis": "y"
        },
        {
         "hovertemplate": "variable=Girls<br>Year=%{x}<br>value=%{y}<extra></extra>",
         "legendgroup": "Girls",
         "line": {
          "color": "#EF553B",
          "dash": "solid"
         },
         "marker": {
          "symbol": "circle"
         },
         "mode": "lines+markers",
         "name": "Girls",
         "orientation": "v",
         "showlegend": true,
         "type": "scatter",
         "x": [
          "2018/19",
          "2019/20",
          "2020/21",
          "2021/22",
          "2022/23"
         ],
         "xaxis": "x",
         "y": [
          21.7,
          21.4,
          21.9,
          24.2,
          25.5
         ],
         "yaxis": "y"
        },
        {
         "hovertemplate": "variable=Boys<br>Year=%{x}<br>value=%{y}<extra></extra>",
         "legendgroup": "Boys",
         "line": {
          "color": "#00cc96",
          "dash": "solid"
         },
         "marker": {
          "symbol": "circle"
         },
         "mode": "lines+markers",
         "name": "Boys",
         "orientation": "v",
         "showlegend": true,
         "type": "scatter",
         "x": [
          "2018/19",
          "2019/20",
          "2020/21",
          "2021/22",
          "2022/23"
         ],
         "xaxis": "x",
         "y": [
          27.2,
          26.3,
          25.9,
          27.5,
          28
         ],
         "yaxis": "y"
        }
       ],
       "layout": {
        "height": 500,
        "legend": {
         "title": {
          "text": "variable"
         },
         "tracegroupgap": 0
        },
        "showlegend": true,
        "template": {
         "data": {
          "bar": [
           {
            "error_x": {
             "color": "#2a3f5f"
            },
            "error_y": {
             "color": "#2a3f5f"
            },
            "marker": {
             "line": {
              "color": "#E5ECF6",
              "width": 0.5
             },
             "pattern": {
              "fillmode": "overlay",
              "size": 10,
              "solidity": 0.2
             }
            },
            "type": "bar"
           }
          ],
          "barpolar": [
           {
            "marker": {
             "line": {
              "color": "#E5ECF6",
              "width": 0.5
             },
             "pattern": {
              "fillmode": "overlay",
              "size": 10,
              "solidity": 0.2
             }
            },
            "type": "barpolar"
           }
          ],
          "carpet": [
           {
            "aaxis": {
             "endlinecolor": "#2a3f5f",
             "gridcolor": "white",
             "linecolor": "white",
             "minorgridcolor": "white",
             "startlinecolor": "#2a3f5f"
            },
            "baxis": {
             "endlinecolor": "#2a3f5f",
             "gridcolor": "white",
             "linecolor": "white",
             "minorgridcolor": "white",
             "startlinecolor": "#2a3f5f"
            },
            "type": "carpet"
           }
          ],
          "choropleth": [
           {
            "colorbar": {
             "outlinewidth": 0,
             "ticks": ""
            },
            "type": "choropleth"
           }
          ],
          "contour": [
           {
            "colorbar": {
             "outlinewidth": 0,
             "ticks": ""
            },
            "colorscale": [
             [
              0,
              "#0d0887"
             ],
             [
              0.1111111111111111,
              "#46039f"
             ],
             [
              0.2222222222222222,
              "#7201a8"
             ],
             [
              0.3333333333333333,
              "#9c179e"
             ],
             [
              0.4444444444444444,
              "#bd3786"
             ],
             [
              0.5555555555555556,
              "#d8576b"
             ],
             [
              0.6666666666666666,
              "#ed7953"
             ],
             [
              0.7777777777777778,
              "#fb9f3a"
             ],
             [
              0.8888888888888888,
              "#fdca26"
             ],
             [
              1,
              "#f0f921"
             ]
            ],
            "type": "contour"
           }
          ],
          "contourcarpet": [
           {
            "colorbar": {
             "outlinewidth": 0,
             "ticks": ""
            },
            "type": "contourcarpet"
           }
          ],
          "heatmap": [
           {
            "colorbar": {
             "outlinewidth": 0,
             "ticks": ""
            },
            "colorscale": [
             [
              0,
              "#0d0887"
             ],
             [
              0.1111111111111111,
              "#46039f"
             ],
             [
              0.2222222222222222,
              "#7201a8"
             ],
             [
              0.3333333333333333,
              "#9c179e"
             ],
             [
              0.4444444444444444,
              "#bd3786"
             ],
             [
              0.5555555555555556,
              "#d8576b"
             ],
             [
              0.6666666666666666,
              "#ed7953"
             ],
             [
              0.7777777777777778,
              "#fb9f3a"
             ],
             [
              0.8888888888888888,
              "#fdca26"
             ],
             [
              1,
              "#f0f921"
             ]
            ],
            "type": "heatmap"
           }
          ],
          "heatmapgl": [
           {
            "colorbar": {
             "outlinewidth": 0,
             "ticks": ""
            },
            "colorscale": [
             [
              0,
              "#0d0887"
             ],
             [
              0.1111111111111111,
              "#46039f"
             ],
             [
              0.2222222222222222,
              "#7201a8"
             ],
             [
              0.3333333333333333,
              "#9c179e"
             ],
             [
              0.4444444444444444,
              "#bd3786"
             ],
             [
              0.5555555555555556,
              "#d8576b"
             ],
             [
              0.6666666666666666,
              "#ed7953"
             ],
             [
              0.7777777777777778,
              "#fb9f3a"
             ],
             [
              0.8888888888888888,
              "#fdca26"
             ],
             [
              1,
              "#f0f921"
             ]
            ],
            "type": "heatmapgl"
           }
          ],
          "histogram": [
           {
            "marker": {
             "pattern": {
              "fillmode": "overlay",
              "size": 10,
              "solidity": 0.2
             }
            },
            "type": "histogram"
           }
          ],
          "histogram2d": [
           {
            "colorbar": {
             "outlinewidth": 0,
             "ticks": ""
            },
            "colorscale": [
             [
              0,
              "#0d0887"
             ],
             [
              0.1111111111111111,
              "#46039f"
             ],
             [
              0.2222222222222222,
              "#7201a8"
             ],
             [
              0.3333333333333333,
              "#9c179e"
             ],
             [
              0.4444444444444444,
              "#bd3786"
             ],
             [
              0.5555555555555556,
              "#d8576b"
             ],
             [
              0.6666666666666666,
              "#ed7953"
             ],
             [
              0.7777777777777778,
              "#fb9f3a"
             ],
             [
              0.8888888888888888,
              "#fdca26"
             ],
             [
              1,
              "#f0f921"
             ]
            ],
            "type": "histogram2d"
           }
          ],
          "histogram2dcontour": [
           {
            "colorbar": {
             "outlinewidth": 0,
             "ticks": ""
            },
            "colorscale": [
             [
              0,
              "#0d0887"
             ],
             [
              0.1111111111111111,
              "#46039f"
             ],
             [
              0.2222222222222222,
              "#7201a8"
             ],
             [
              0.3333333333333333,
              "#9c179e"
             ],
             [
              0.4444444444444444,
              "#bd3786"
             ],
             [
              0.5555555555555556,
              "#d8576b"
             ],
             [
              0.6666666666666666,
              "#ed7953"
             ],
             [
              0.7777777777777778,
              "#fb9f3a"
             ],
             [
              0.8888888888888888,
              "#fdca26"
             ],
             [
              1,
              "#f0f921"
             ]
            ],
            "type": "histogram2dcontour"
           }
          ],
          "mesh3d": [
           {
            "colorbar": {
             "outlinewidth": 0,
             "ticks": ""
            },
            "type": "mesh3d"
           }
          ],
          "parcoords": [
           {
            "line": {
             "colorbar": {
              "outlinewidth": 0,
              "ticks": ""
             }
            },
            "type": "parcoords"
           }
          ],
          "pie": [
           {
            "automargin": true,
            "type": "pie"
           }
          ],
          "scatter": [
           {
            "fillpattern": {
             "fillmode": "overlay",
             "size": 10,
             "solidity": 0.2
            },
            "type": "scatter"
           }
          ],
          "scatter3d": [
           {
            "line": {
             "colorbar": {
              "outlinewidth": 0,
              "ticks": ""
             }
            },
            "marker": {
             "colorbar": {
              "outlinewidth": 0,
              "ticks": ""
             }
            },
            "type": "scatter3d"
           }
          ],
          "scattercarpet": [
           {
            "marker": {
             "colorbar": {
              "outlinewidth": 0,
              "ticks": ""
             }
            },
            "type": "scattercarpet"
           }
          ],
          "scattergeo": [
           {
            "marker": {
             "colorbar": {
              "outlinewidth": 0,
              "ticks": ""
             }
            },
            "type": "scattergeo"
           }
          ],
          "scattergl": [
           {
            "marker": {
             "colorbar": {
              "outlinewidth": 0,
              "ticks": ""
             }
            },
            "type": "scattergl"
           }
          ],
          "scattermapbox": [
           {
            "marker": {
             "colorbar": {
              "outlinewidth": 0,
              "ticks": ""
             }
            },
            "type": "scattermapbox"
           }
          ],
          "scatterpolar": [
           {
            "marker": {
             "colorbar": {
              "outlinewidth": 0,
              "ticks": ""
             }
            },
            "type": "scatterpolar"
           }
          ],
          "scatterpolargl": [
           {
            "marker": {
             "colorbar": {
              "outlinewidth": 0,
              "ticks": ""
             }
            },
            "type": "scatterpolargl"
           }
          ],
          "scatterternary": [
           {
            "marker": {
             "colorbar": {
              "outlinewidth": 0,
              "ticks": ""
             }
            },
            "type": "scatterternary"
           }
          ],
          "surface": [
           {
            "colorbar": {
             "outlinewidth": 0,
             "ticks": ""
            },
            "colorscale": [
             [
              0,
              "#0d0887"
             ],
             [
              0.1111111111111111,
              "#46039f"
             ],
             [
              0.2222222222222222,
              "#7201a8"
             ],
             [
              0.3333333333333333,
              "#9c179e"
             ],
             [
              0.4444444444444444,
              "#bd3786"
             ],
             [
              0.5555555555555556,
              "#d8576b"
             ],
             [
              0.6666666666666666,
              "#ed7953"
             ],
             [
              0.7777777777777778,
              "#fb9f3a"
             ],
             [
              0.8888888888888888,
              "#fdca26"
             ],
             [
              1,
              "#f0f921"
             ]
            ],
            "type": "surface"
           }
          ],
          "table": [
           {
            "cells": {
             "fill": {
              "color": "#EBF0F8"
             },
             "line": {
              "color": "white"
             }
            },
            "header": {
             "fill": {
              "color": "#C8D4E3"
             },
             "line": {
              "color": "white"
             }
            },
            "type": "table"
           }
          ]
         },
         "layout": {
          "annotationdefaults": {
           "arrowcolor": "#2a3f5f",
           "arrowhead": 0,
           "arrowwidth": 1
          },
          "autotypenumbers": "strict",
          "coloraxis": {
           "colorbar": {
            "outlinewidth": 0,
            "ticks": ""
           }
          },
          "colorscale": {
           "diverging": [
            [
             0,
             "#8e0152"
            ],
            [
             0.1,
             "#c51b7d"
            ],
            [
             0.2,
             "#de77ae"
            ],
            [
             0.3,
             "#f1b6da"
            ],
            [
             0.4,
             "#fde0ef"
            ],
            [
             0.5,
             "#f7f7f7"
            ],
            [
             0.6,
             "#e6f5d0"
            ],
            [
             0.7,
             "#b8e186"
            ],
            [
             0.8,
             "#7fbc41"
            ],
            [
             0.9,
             "#4d9221"
            ],
            [
             1,
             "#276419"
            ]
           ],
           "sequential": [
            [
             0,
             "#0d0887"
            ],
            [
             0.1111111111111111,
             "#46039f"
            ],
            [
             0.2222222222222222,
             "#7201a8"
            ],
            [
             0.3333333333333333,
             "#9c179e"
            ],
            [
             0.4444444444444444,
             "#bd3786"
            ],
            [
             0.5555555555555556,
             "#d8576b"
            ],
            [
             0.6666666666666666,
             "#ed7953"
            ],
            [
             0.7777777777777778,
             "#fb9f3a"
            ],
            [
             0.8888888888888888,
             "#fdca26"
            ],
            [
             1,
             "#f0f921"
            ]
           ],
           "sequentialminus": [
            [
             0,
             "#0d0887"
            ],
            [
             0.1111111111111111,
             "#46039f"
            ],
            [
             0.2222222222222222,
             "#7201a8"
            ],
            [
             0.3333333333333333,
             "#9c179e"
            ],
            [
             0.4444444444444444,
             "#bd3786"
            ],
            [
             0.5555555555555556,
             "#d8576b"
            ],
            [
             0.6666666666666666,
             "#ed7953"
            ],
            [
             0.7777777777777778,
             "#fb9f3a"
            ],
            [
             0.8888888888888888,
             "#fdca26"
            ],
            [
             1,
             "#f0f921"
            ]
           ]
          },
          "colorway": [
           "#636efa",
           "#EF553B",
           "#00cc96",
           "#ab63fa",
           "#FFA15A",
           "#19d3f3",
           "#FF6692",
           "#B6E880",
           "#FF97FF",
           "#FECB52"
          ],
          "font": {
           "color": "#2a3f5f"
          },
          "geo": {
           "bgcolor": "white",
           "lakecolor": "white",
           "landcolor": "#E5ECF6",
           "showlakes": true,
           "showland": true,
           "subunitcolor": "white"
          },
          "hoverlabel": {
           "align": "left"
          },
          "hovermode": "closest",
          "mapbox": {
           "style": "light"
          },
          "paper_bgcolor": "white",
          "plot_bgcolor": "#E5ECF6",
          "polar": {
           "angularaxis": {
            "gridcolor": "white",
            "linecolor": "white",
            "ticks": ""
           },
           "bgcolor": "#E5ECF6",
           "radialaxis": {
            "gridcolor": "white",
            "linecolor": "white",
            "ticks": ""
           }
          },
          "scene": {
           "xaxis": {
            "backgroundcolor": "#E5ECF6",
            "gridcolor": "white",
            "gridwidth": 2,
            "linecolor": "white",
            "showbackground": true,
            "ticks": "",
            "zerolinecolor": "white"
           },
           "yaxis": {
            "backgroundcolor": "#E5ECF6",
            "gridcolor": "white",
            "gridwidth": 2,
            "linecolor": "white",
            "showbackground": true,
            "ticks": "",
            "zerolinecolor": "white"
           },
           "zaxis": {
            "backgroundcolor": "#E5ECF6",
            "gridcolor": "white",
            "gridwidth": 2,
            "linecolor": "white",
            "showbackground": true,
            "ticks": "",
            "zerolinecolor": "white"
           }
          },
          "shapedefaults": {
           "line": {
            "color": "#2a3f5f"
           }
          },
          "ternary": {
           "aaxis": {
            "gridcolor": "white",
            "linecolor": "white",
            "ticks": ""
           },
           "baxis": {
            "gridcolor": "white",
            "linecolor": "white",
            "ticks": ""
           },
           "bgcolor": "#E5ECF6",
           "caxis": {
            "gridcolor": "white",
            "linecolor": "white",
            "ticks": ""
           }
          },
          "title": {
           "x": 0.05
          },
          "xaxis": {
           "automargin": true,
           "gridcolor": "white",
           "linecolor": "white",
           "ticks": "",
           "title": {
            "standoff": 15
           },
           "zerolinecolor": "white",
           "zerolinewidth": 2
          },
          "yaxis": {
           "automargin": true,
           "gridcolor": "white",
           "linecolor": "white",
           "ticks": "",
           "title": {
            "standoff": 15
           },
           "zerolinecolor": "white",
           "zerolinewidth": 2
          }
         }
        },
        "title": {
         "text": "Antal elever som saknar godkänt eller slutbetyg 2018 - 2023"
        },
        "width": 1000,
        "xaxis": {
         "anchor": "y",
         "domain": [
          0,
          1
         ],
         "showgrid": false,
         "showline": true,
         "title": {
          "text": "Årskurs 9"
         }
        },
        "yaxis": {
         "anchor": "x",
         "domain": [
          0,
          1
         ],
         "gridcolor": "LightGray",
         "gridwidth": 1,
         "showgrid": false,
         "showline": true,
         "title": {
          "text": "Antal elever"
         }
        }
       }
      }
     },
     "metadata": {},
     "output_type": "display_data"
    }
   ],
   "source": [
    "# A) Rita ett linjediagram för andel elever som saknar godkänt betyg i ett eller fler ämnen för läsår 18-23. Ta med totalt,\n",
    "#    flickor och pojkar i samma graf.\n",
    "\n",
    "years = data_1B['Läsår']\n",
    "import plotly.express as px\n",
    "\n",
    "# Creates a new DataFrame for Plotly\n",
    "df_plotly = pd.DataFrame({\n",
    "    'Year': years,\n",
    "    'Total': total_F.tolist(),\n",
    "    'Girls': girls_F_grade.tolist(),\n",
    "    'Boys': boys_F_grade.tolist()\n",
    "})\n",
    "\n",
    "# Plotly Express line plot\n",
    "fig = px.line(df_plotly, x='Year', y=['Total', 'Girls', 'Boys'], markers=True, title='Antal elever som saknar godkänt eller slutbetyg 2018 - 2023')\n",
    "\n",
    "# Justera axelbeskrivningarna\n",
    "fig.update_layout(xaxis_title='Årskurs 9', yaxis_title='Antal elever')\n",
    "\n",
    "# Lägg till legend\n",
    "fig.update_layout(showlegend=True)\n",
    "\n",
    "# Lägg till grid\n",
    "fig.update_layout(yaxis=dict(showgrid=True, gridwidth=1, gridcolor='LightGray'))\n",
    "\n",
    "# Ta bort topp- och högerspån\n",
    "fig.update_layout(xaxis=dict(showline=True, showgrid=False),\n",
    "                  yaxis=dict(showline=True, showgrid=False))\n",
    "\n",
    "\n",
    "fig.update_layout(height=500, width=1000)\n",
    "\n",
    "# Visa plotten\n",
    "fig.show()\n"
   ]
  },
  {
   "cell_type": "code",
   "execution_count": 809,
   "metadata": {},
   "outputs": [
    {
     "data": {
      "image/png": "[encoded data removed]",
      "text/plain": [
       "<Figure size 700x500 with 1 Axes>"
      ]
     },
     "metadata": {},
     "output_type": "display_data"
    }
   ],
   "source": [
    "# B) Rita ett linjediagram för meritvärde för 16 ämnen för totalt, flickor och pojkar för läsår 18-23. Gör till PLOTLY\n",
    "\n",
    "years = data_1B[\"Läsår\"]\n",
    "\n",
    "# Sets mean value of total, girls and boys to variables.\n",
    "mean_T = (data_1B[\"Medelvärde 16 ämnen: Totalt\"])\n",
    "mean_G = (data_1B[\"Medelvärde 16 ämnen: Flickor\"])\n",
    "Mean_B = (data_1B[\"Medelvärde 16 ämnen: Pojkar\"])\n",
    "\n",
    "fig, ax = plt.subplots(figsize=(7, 5))\n",
    "\n",
    "ax.plot(years, mean_T, label=\"Totalt\", marker=\"d\", ms=8, ls=\"--\")\n",
    "ax.plot(years, mean_G, label=\"Flickor\", marker=\"d\", ls=\"--\")\n",
    "ax.plot(years, Mean_B, label=\"Pojkar\", marker=\"d\", ls=\"--\")\n",
    "\n",
    "# Renames labels and gives space at top. Places toplabel to the left\n",
    "plt.title(\"Meritvärde för 16 ämnen åk 9 under åren 2018 - 2023\", pad=20, color=\"gray\", loc=\"left\")\n",
    "plt.xlabel(\"År\")\n",
    "plt.ylabel(\"Antal elever\")\n",
    "\n",
    "# Gives the graf a grid on x-axis with dotted lines\n",
    "plt.grid(axis= \"x\", ls = ':', linewidth = 0.8)\n",
    "plt.legend()\n",
    "\n",
    "ax.spines['top'].set_visible(False)\n",
    "ax.spines['right'].set_visible(False)\n",
    "\n",
    "# fig.savefig(\"name.png\")\n",
    "\n",
    "plt.show()\n"
   ]
  },
  {
   "cell_type": "code",
   "execution_count": 816,
   "metadata": {},
   "outputs": [
    {
     "data": {
      "application/vnd.plotly.v1+json": {
       "config": {
        "plotlyServerURL": "https://plot.ly"
       },
       "data": [
        {
         "hovertemplate": "variable=Total<br>Year=%{x}<br>value=%{y}<extra></extra>",
         "legendgroup": "Total",
         "line": {
          "color": "#636efa",
          "dash": "solid"
         },
         "marker": {
          "symbol": "circle"
         },
         "mode": "lines+markers",
         "name": "Total",
         "orientation": "v",
         "showlegend": true,
         "type": "scatter",
         "x": [
          "2018/19",
          "2019/20",
          "2020/21",
          "2021/22",
          "2022/23"
         ],
         "xaxis": "x",
         "y": [
          221.7,
          222.9,
          223.9,
          221.2,
          220.6
         ],
         "yaxis": "y"
        },
        {
         "hovertemplate": "variable=Girls<br>Year=%{x}<br>value=%{y}<extra></extra>",
         "legendgroup": "Girls",
         "line": {
          "color": "#EF553B",
          "dash": "solid"
         },
         "marker": {
          "symbol": "circle"
         },
         "mode": "lines+markers",
         "name": "Girls",
         "orientation": "v",
         "showlegend": true,
         "type": "scatter",
         "x": [
          "2018/19",
          "2019/20",
          "2020/21",
          "2021/22",
          "2022/23"
         ],
         "xaxis": "x",
         "y": [
          234.3,
          235.7,
          235.4,
          231.6,
          229.7
         ],
         "yaxis": "y"
        },
        {
         "hovertemplate": "variable=Boys<br>Year=%{x}<br>value=%{y}<extra></extra>",
         "legendgroup": "Boys",
         "line": {
          "color": "#00cc96",
          "dash": "solid"
         },
         "marker": {
          "symbol": "circle"
         },
         "mode": "lines+markers",
         "name": "Boys",
         "orientation": "v",
         "showlegend": true,
         "type": "scatter",
         "x": [
          "2018/19",
          "2019/20",
          "2020/21",
          "2021/22",
          "2022/23"
         ],
         "xaxis": "x",
         "y": [
          209.8,
          210.9,
          212.9,
          211.4,
          211.9
         ],
         "yaxis": "y"
        }
       ],
       "layout": {
        "height": 600,
        "legend": {
         "title": {
          "text": "variable"
         },
         "tracegroupgap": 0
        },
        "showlegend": true,
        "template": {
         "data": {
          "bar": [
           {
            "error_x": {
             "color": "#2a3f5f"
            },
            "error_y": {
             "color": "#2a3f5f"
            },
            "marker": {
             "line": {
              "color": "#E5ECF6",
              "width": 0.5
             },
             "pattern": {
              "fillmode": "overlay",
              "size": 10,
              "solidity": 0.2
             }
            },
            "type": "bar"
           }
          ],
          "barpolar": [
           {
            "marker": {
             "line": {
              "color": "#E5ECF6",
              "width": 0.5
             },
             "pattern": {
              "fillmode": "overlay",
              "size": 10,
              "solidity": 0.2
             }
            },
            "type": "barpolar"
           }
          ],
          "carpet": [
           {
            "aaxis": {
             "endlinecolor": "#2a3f5f",
             "gridcolor": "white",
             "linecolor": "white",
             "minorgridcolor": "white",
             "startlinecolor": "#2a3f5f"
            },
            "baxis": {
             "endlinecolor": "#2a3f5f",
             "gridcolor": "white",
             "linecolor": "white",
             "minorgridcolor": "white",
             "startlinecolor": "#2a3f5f"
            },
            "type": "carpet"
           }
          ],
          "choropleth": [
           {
            "colorbar": {
             "outlinewidth": 0,
             "ticks": ""
            },
            "type": "choropleth"
           }
          ],
          "contour": [
           {
            "colorbar": {
             "outlinewidth": 0,
             "ticks": ""
            },
            "colorscale": [
             [
              0,
              "#0d0887"
             ],
             [
              0.1111111111111111,
              "#46039f"
             ],
             [
              0.2222222222222222,
              "#7201a8"
             ],
             [
              0.3333333333333333,
              "#9c179e"
             ],
             [
              0.4444444444444444,
              "#bd3786"
             ],
             [
              0.5555555555555556,
              "#d8576b"
             ],
             [
              0.6666666666666666,
              "#ed7953"
             ],
             [
              0.7777777777777778,
              "#fb9f3a"
             ],
             [
              0.8888888888888888,
              "#fdca26"
             ],
             [
              1,
              "#f0f921"
             ]
            ],
            "type": "contour"
           }
          ],
          "contourcarpet": [
           {
            "colorbar": {
             "outlinewidth": 0,
             "ticks": ""
            },
            "type": "contourcarpet"
           }
          ],
          "heatmap": [
           {
            "colorbar": {
             "outlinewidth": 0,
             "ticks": ""
            },
            "colorscale": [
             [
              0,
              "#0d0887"
             ],
             [
              0.1111111111111111,
              "#46039f"
             ],
             [
              0.2222222222222222,
              "#7201a8"
             ],
             [
              0.3333333333333333,
              "#9c179e"
             ],
             [
              0.4444444444444444,
              "#bd3786"
             ],
             [
              0.5555555555555556,
              "#d8576b"
             ],
             [
              0.6666666666666666,
              "#ed7953"
             ],
             [
              0.7777777777777778,
              "#fb9f3a"
             ],
             [
              0.8888888888888888,
              "#fdca26"
             ],
             [
              1,
              "#f0f921"
             ]
            ],
            "type": "heatmap"
           }
          ],
          "heatmapgl": [
           {
            "colorbar": {
             "outlinewidth": 0,
             "ticks": ""
            },
            "colorscale": [
             [
              0,
              "#0d0887"
             ],
             [
              0.1111111111111111,
              "#46039f"
             ],
             [
              0.2222222222222222,
              "#7201a8"
             ],
             [
              0.3333333333333333,
              "#9c179e"
             ],
             [
              0.4444444444444444,
              "#bd3786"
             ],
             [
              0.5555555555555556,
              "#d8576b"
             ],
             [
              0.6666666666666666,
              "#ed7953"
             ],
             [
              0.7777777777777778,
              "#fb9f3a"
             ],
             [
              0.8888888888888888,
              "#fdca26"
             ],
             [
              1,
              "#f0f921"
             ]
            ],
            "type": "heatmapgl"
           }
          ],
          "histogram": [
           {
            "marker": {
             "pattern": {
              "fillmode": "overlay",
              "size": 10,
              "solidity": 0.2
             }
            },
            "type": "histogram"
           }
          ],
          "histogram2d": [
           {
            "colorbar": {
             "outlinewidth": 0,
             "ticks": ""
            },
            "colorscale": [
             [
              0,
              "#0d0887"
             ],
             [
              0.1111111111111111,
              "#46039f"
             ],
             [
              0.2222222222222222,
              "#7201a8"
             ],
             [
              0.3333333333333333,
              "#9c179e"
             ],
             [
              0.4444444444444444,
              "#bd3786"
             ],
             [
              0.5555555555555556,
              "#d8576b"
             ],
             [
              0.6666666666666666,
              "#ed7953"
             ],
             [
              0.7777777777777778,
              "#fb9f3a"
             ],
             [
              0.8888888888888888,
              "#fdca26"
             ],
             [
              1,
              "#f0f921"
             ]
            ],
            "type": "histogram2d"
           }
          ],
          "histogram2dcontour": [
           {
            "colorbar": {
             "outlinewidth": 0,
             "ticks": ""
            },
            "colorscale": [
             [
              0,
              "#0d0887"
             ],
             [
              0.1111111111111111,
              "#46039f"
             ],
             [
              0.2222222222222222,
              "#7201a8"
             ],
             [
              0.3333333333333333,
              "#9c179e"
             ],
             [
              0.4444444444444444,
              "#bd3786"
             ],
             [
              0.5555555555555556,
              "#d8576b"
             ],
             [
              0.6666666666666666,
              "#ed7953"
             ],
             [
              0.7777777777777778,
              "#fb9f3a"
             ],
             [
              0.8888888888888888,
              "#fdca26"
             ],
             [
              1,
              "#f0f921"
             ]
            ],
            "type": "histogram2dcontour"
           }
          ],
          "mesh3d": [
           {
            "colorbar": {
             "outlinewidth": 0,
             "ticks": ""
            },
            "type": "mesh3d"
           }
          ],
          "parcoords": [
           {
            "line": {
             "colorbar": {
              "outlinewidth": 0,
              "ticks": ""
             }
            },
            "type": "parcoords"
           }
          ],
          "pie": [
           {
            "automargin": true,
            "type": "pie"
           }
          ],
          "scatter": [
           {
            "fillpattern": {
             "fillmode": "overlay",
             "size": 10,
             "solidity": 0.2
            },
            "type": "scatter"
           }
          ],
          "scatter3d": [
           {
            "line": {
             "colorbar": {
              "outlinewidth": 0,
              "ticks": ""
             }
            },
            "marker": {
             "colorbar": {
              "outlinewidth": 0,
              "ticks": ""
             }
            },
            "type": "scatter3d"
           }
          ],
          "scattercarpet": [
           {
            "marker": {
             "colorbar": {
              "outlinewidth": 0,
              "ticks": ""
             }
            },
            "type": "scattercarpet"
           }
          ],
          "scattergeo": [
           {
            "marker": {
             "colorbar": {
              "outlinewidth": 0,
              "ticks": ""
             }
            },
            "type": "scattergeo"
           }
          ],
          "scattergl": [
           {
            "marker": {
             "colorbar": {
              "outlinewidth": 0,
              "ticks": ""
             }
            },
            "type": "scattergl"
           }
          ],
          "scattermapbox": [
           {
            "marker": {
             "colorbar": {
              "outlinewidth": 0,
              "ticks": ""
             }
            },
            "type": "scattermapbox"
           }
          ],
          "scatterpolar": [
           {
            "marker": {
             "colorbar": {
              "outlinewidth": 0,
              "ticks": ""
             }
            },
            "type": "scatterpolar"
           }
          ],
          "scatterpolargl": [
           {
            "marker": {
             "colorbar": {
              "outlinewidth": 0,
              "ticks": ""
             }
            },
            "type": "scatterpolargl"
           }
          ],
          "scatterternary": [
           {
            "marker": {
             "colorbar": {
              "outlinewidth": 0,
              "ticks": ""
             }
            },
            "type": "scatterternary"
           }
          ],
          "surface": [
           {
            "colorbar": {
             "outlinewidth": 0,
             "ticks": ""
            },
            "colorscale": [
             [
              0,
              "#0d0887"
             ],
             [
              0.1111111111111111,
              "#46039f"
             ],
             [
              0.2222222222222222,
              "#7201a8"
             ],
             [
              0.3333333333333333,
              "#9c179e"
             ],
             [
              0.4444444444444444,
              "#bd3786"
             ],
             [
              0.5555555555555556,
              "#d8576b"
             ],
             [
              0.6666666666666666,
              "#ed7953"
             ],
             [
              0.7777777777777778,
              "#fb9f3a"
             ],
             [
              0.8888888888888888,
              "#fdca26"
             ],
             [
              1,
              "#f0f921"
             ]
            ],
            "type": "surface"
           }
          ],
          "table": [
           {
            "cells": {
             "fill": {
              "color": "#EBF0F8"
             },
             "line": {
              "color": "white"
             }
            },
            "header": {
             "fill": {
              "color": "#C8D4E3"
             },
             "line": {
              "color": "white"
             }
            },
            "type": "table"
           }
          ]
         },
         "layout": {
          "annotationdefaults": {
           "arrowcolor": "#2a3f5f",
           "arrowhead": 0,
           "arrowwidth": 1
          },
          "autotypenumbers": "strict",
          "coloraxis": {
           "colorbar": {
            "outlinewidth": 0,
            "ticks": ""
           }
          },
          "colorscale": {
           "diverging": [
            [
             0,
             "#8e0152"
            ],
            [
             0.1,
             "#c51b7d"
            ],
            [
             0.2,
             "#de77ae"
            ],
            [
             0.3,
             "#f1b6da"
            ],
            [
             0.4,
             "#fde0ef"
            ],
            [
             0.5,
             "#f7f7f7"
            ],
            [
             0.6,
             "#e6f5d0"
            ],
            [
             0.7,
             "#b8e186"
            ],
            [
             0.8,
             "#7fbc41"
            ],
            [
             0.9,
             "#4d9221"
            ],
            [
             1,
             "#276419"
            ]
           ],
           "sequential": [
            [
             0,
             "#0d0887"
            ],
            [
             0.1111111111111111,
             "#46039f"
            ],
            [
             0.2222222222222222,
             "#7201a8"
            ],
            [
             0.3333333333333333,
             "#9c179e"
            ],
            [
             0.4444444444444444,
             "#bd3786"
            ],
            [
             0.5555555555555556,
             "#d8576b"
            ],
            [
             0.6666666666666666,
             "#ed7953"
            ],
            [
             0.7777777777777778,
             "#fb9f3a"
            ],
            [
             0.8888888888888888,
             "#fdca26"
            ],
            [
             1,
             "#f0f921"
            ]
           ],
           "sequentialminus": [
            [
             0,
             "#0d0887"
            ],
            [
             0.1111111111111111,
             "#46039f"
            ],
            [
             0.2222222222222222,
             "#7201a8"
            ],
            [
             0.3333333333333333,
             "#9c179e"
            ],
            [
             0.4444444444444444,
             "#bd3786"
            ],
            [
             0.5555555555555556,
             "#d8576b"
            ],
            [
             0.6666666666666666,
             "#ed7953"
            ],
            [
             0.7777777777777778,
             "#fb9f3a"
            ],
            [
             0.8888888888888888,
             "#fdca26"
            ],
            [
             1,
             "#f0f921"
            ]
           ]
          },
          "colorway": [
           "#636efa",
           "#EF553B",
           "#00cc96",
           "#ab63fa",
           "#FFA15A",
           "#19d3f3",
           "#FF6692",
           "#B6E880",
           "#FF97FF",
           "#FECB52"
          ],
          "font": {
           "color": "#2a3f5f"
          },
          "geo": {
           "bgcolor": "white",
           "lakecolor": "white",
           "landcolor": "#E5ECF6",
           "showlakes": true,
           "showland": true,
           "subunitcolor": "white"
          },
          "hoverlabel": {
           "align": "left"
          },
          "hovermode": "closest",
          "mapbox": {
           "style": "light"
          },
          "paper_bgcolor": "white",
          "plot_bgcolor": "#E5ECF6",
          "polar": {
           "angularaxis": {
            "gridcolor": "white",
            "linecolor": "white",
            "ticks": ""
           },
           "bgcolor": "#E5ECF6",
           "radialaxis": {
            "gridcolor": "white",
            "linecolor": "white",
            "ticks": ""
           }
          },
          "scene": {
           "xaxis": {
            "backgroundcolor": "#E5ECF6",
            "gridcolor": "white",
            "gridwidth": 2,
            "linecolor": "white",
            "showbackground": true,
            "ticks": "",
            "zerolinecolor": "white"
           },
           "yaxis": {
            "backgroundcolor": "#E5ECF6",
            "gridcolor": "white",
            "gridwidth": 2,
            "linecolor": "white",
            "showbackground": true,
            "ticks": "",
            "zerolinecolor": "white"
           },
           "zaxis": {
            "backgroundcolor": "#E5ECF6",
            "gridcolor": "white",
            "gridwidth": 2,
            "linecolor": "white",
            "showbackground": true,
            "ticks": "",
            "zerolinecolor": "white"
           }
          },
          "shapedefaults": {
           "line": {
            "color": "#2a3f5f"
           }
          },
          "ternary": {
           "aaxis": {
            "gridcolor": "white",
            "linecolor": "white",
            "ticks": ""
           },
           "baxis": {
            "gridcolor": "white",
            "linecolor": "white",
            "ticks": ""
           },
           "bgcolor": "#E5ECF6",
           "caxis": {
            "gridcolor": "white",
            "linecolor": "white",
            "ticks": ""
           }
          },
          "title": {
           "x": 0.05
          },
          "xaxis": {
           "automargin": true,
           "gridcolor": "white",
           "linecolor": "white",
           "ticks": "",
           "title": {
            "standoff": 15
           },
           "zerolinecolor": "white",
           "zerolinewidth": 2
          },
          "yaxis": {
           "automargin": true,
           "gridcolor": "white",
           "linecolor": "white",
           "ticks": "",
           "title": {
            "standoff": 15
           },
           "zerolinecolor": "white",
           "zerolinewidth": 2
          }
         }
        },
        "title": {
         "text": "Meritvärde för 16 ämnen åk 9 under åren 2018 - 2023"
        },
        "width": 1000,
        "xaxis": {
         "anchor": "y",
         "domain": [
          0,
          1
         ],
         "gridcolor": "LightGray",
         "gridwidth": 1,
         "showgrid": false,
         "showline": false,
         "title": {
          "text": "År"
         },
         "zeroline": false
        },
        "yaxis": {
         "anchor": "x",
         "domain": [
          0,
          1
         ],
         "gridcolor": "LightGray",
         "gridwidth": 1,
         "showgrid": false,
         "showline": false,
         "title": {
          "text": "Antal elever"
         },
         "zeroline": false
        }
       }
      }
     },
     "metadata": {},
     "output_type": "display_data"
    }
   ],
   "source": [
    "# B) MED PLOTLY\n",
    "\n",
    "# # Creates a new DataFrame\n",
    "df_plotly_2 = pd.DataFrame({\n",
    "    'Year': years,\n",
    "    'Total': mean_T.tolist(),\n",
    "    'Girls': mean_G.tolist(),\n",
    "    'Boys': Mean_B.tolist()\n",
    "})\n",
    "\n",
    "fig_2 = px.line(df_plotly_2, x='Year', y=['Total', 'Girls', 'Boys'], markers=True, title='Meritvärde för 16 ämnen åk 9 under åren 2018 - 2023')\n",
    "\n",
    "# Adjusts axel descriptions\n",
    "fig_2.update_layout(xaxis_title='År', yaxis_title='Antal elever')\n",
    "\n",
    "# Adds legend with description of whats what\n",
    "fig_2.update_layout(showlegend=True)\n",
    "\n",
    "# Adds grid\n",
    "fig_2.update_layout(xaxis=dict(showgrid=True, gridwidth=1, gridcolor='LightGray', zeroline=False, showline=False),\n",
    "                   yaxis=dict(showgrid=True, gridwidth=1, gridcolor='LightGray', zeroline=False, showline=False))\n",
    "\n",
    "# Removes top and right line\n",
    "fig_2.update_layout(xaxis=dict(showline=False, showgrid=False),\n",
    "                    yaxis=dict(showline=False, showgrid=False))\n",
    "\n",
    "# Updates to change fig size\n",
    "fig_2.update_layout(height=600, width=1000)\n",
    "\n",
    "fig_2.show()\n"
   ]
  },
  {
   "cell_type": "code",
   "execution_count": 750,
   "metadata": {},
   "outputs": [
    {
     "data": {
      "text/html": [
       "<div>\n",
       "<style scoped>\n",
       "    .dataframe tbody tr th:only-of-type {\n",
       "        vertical-align: middle;\n",
       "    }\n",
       "\n",
       "    .dataframe tbody tr th {\n",
       "        vertical-align: top;\n",
       "    }\n",
       "\n",
       "    .dataframe thead th {\n",
       "        text-align: right;\n",
       "    }\n",
       "</style>\n",
       "<table border=\"1\" class=\"dataframe\">\n",
       "  <thead>\n",
       "    <tr style=\"text-align: right;\">\n",
       "      <th></th>\n",
       "      <th>Läsår</th>\n",
       "      <th>Medelvärde 16 ämnen: Totalt</th>\n",
       "      <th>Medelvärde 16 ämnen: Flickor</th>\n",
       "      <th>Medelvärde 16 ämnen: Pojkar</th>\n",
       "      <th>Medelvärde 17 ämnen: Totalt</th>\n",
       "      <th>Medelvärde 17 ämnen: Flickor</th>\n",
       "      <th>Medelvärde 17 ämnen: Pojkar</th>\n",
       "      <th>% Som saknar godkänt: Totalt</th>\n",
       "      <th>% Som saknar godkänt: Flickor</th>\n",
       "      <th>% Som saknar godkänt: Pojkar</th>\n",
       "    </tr>\n",
       "  </thead>\n",
       "  <tbody>\n",
       "    <tr>\n",
       "      <th>29</th>\n",
       "      <td>Förgymnasial utbildning</td>\n",
       "      <td>163.8</td>\n",
       "      <td>172.2</td>\n",
       "      <td>155.8</td>\n",
       "      <td>166.8</td>\n",
       "      <td>175.6</td>\n",
       "      <td>158.3</td>\n",
       "      <td>63.5</td>\n",
       "      <td>61.5</td>\n",
       "      <td>65.3</td>\n",
       "    </tr>\n",
       "    <tr>\n",
       "      <th>30</th>\n",
       "      <td>Gymnasial utbildning</td>\n",
       "      <td>197.4</td>\n",
       "      <td>207.2</td>\n",
       "      <td>188.2</td>\n",
       "      <td>203.2</td>\n",
       "      <td>213.6</td>\n",
       "      <td>193.3</td>\n",
       "      <td>37.4</td>\n",
       "      <td>35.2</td>\n",
       "      <td>39.5</td>\n",
       "    </tr>\n",
       "    <tr>\n",
       "      <th>31</th>\n",
       "      <td>Eftergymnasial utbildning</td>\n",
       "      <td>239.1</td>\n",
       "      <td>247.9</td>\n",
       "      <td>230.7</td>\n",
       "      <td>248.6</td>\n",
       "      <td>258.1</td>\n",
       "      <td>239.6</td>\n",
       "      <td>16.8</td>\n",
       "      <td>16.1</td>\n",
       "      <td>17.5</td>\n",
       "    </tr>\n",
       "  </tbody>\n",
       "</table>\n",
       "</div>"
      ],
      "text/plain": [
       "                        Läsår Medelvärde 16 ämnen: Totalt  \\\n",
       "29    Förgymnasial utbildning                       163.8   \n",
       "30       Gymnasial utbildning                       197.4   \n",
       "31  Eftergymnasial utbildning                       239.1   \n",
       "\n",
       "   Medelvärde 16 ämnen: Flickor Medelvärde 16 ämnen: Pojkar  \\\n",
       "29                        172.2                       155.8   \n",
       "30                        207.2                       188.2   \n",
       "31                        247.9                       230.7   \n",
       "\n",
       "   Medelvärde 17 ämnen: Totalt Medelvärde 17 ämnen: Flickor  \\\n",
       "29                       166.8                        175.6   \n",
       "30                       203.2                        213.6   \n",
       "31                       248.6                        258.1   \n",
       "\n",
       "   Medelvärde 17 ämnen: Pojkar % Som saknar godkänt: Totalt  \\\n",
       "29                       158.3                         63.5   \n",
       "30                       193.3                         37.4   \n",
       "31                       239.6                         16.8   \n",
       "\n",
       "   % Som saknar godkänt: Flickor % Som saknar godkänt: Pojkar  \n",
       "29                          61.5                         65.3  \n",
       "30                          35.2                         39.5  \n",
       "31                          16.1                         17.5  "
      ]
     },
     "metadata": {},
     "output_type": "display_data"
    }
   ],
   "source": [
    "# C) Undersök nu andra variabler, och hur de påverkar meritvärde och andel med minst ett saknat betyg. Data finns för\n",
    "# läsår 22/23. Exempel kan man undersöka föräldrarnas utbildningsbakgrund. Rita lämpliga grafer\n",
    "\n",
    "# Reads from df_grades_1B and locates row 29 to 32 and makes it a variable\n",
    "data_parents = df_grades_1B.iloc[29:32]\n",
    "\n",
    "# Renames the columns\n",
    "b2_columns = [\n",
    "    \"Läsår\",\n",
    "    \"Medelvärde 16 ämnen: Totalt\",\n",
    "    \"Medelvärde 16 ämnen: Flickor\",\n",
    "    \"Medelvärde 16 ämnen: Pojkar\",\n",
    "    \"Medelvärde 17 ämnen: Totalt\",\n",
    "    \"Medelvärde 17 ämnen: Flickor\",\n",
    "    \"Medelvärde 17 ämnen: Pojkar\",\n",
    "    \"% Som saknar godkänt: Totalt\",\n",
    "    \"% Som saknar godkänt: Flickor\",\n",
    "    \"% Som saknar godkänt: Pojkar\"\n",
    "]\n",
    "data_parents.columns = b2_columns\n",
    "\n",
    "# Displays DataFrame data_parents\n",
    "display(data_parents)\n"
   ]
  },
  {
   "cell_type": "code",
   "execution_count": 751,
   "metadata": {},
   "outputs": [
    {
     "name": "stdout",
     "output_type": "stream",
     "text": [
      "29    163.8\n",
      "30    197.4\n",
      "31    239.1\n",
      "Name: Medelvärde 16 ämnen: Totalt, dtype: object\n",
      "29    172.2\n",
      "30    207.2\n",
      "31    247.9\n",
      "Name: Medelvärde 16 ämnen: Flickor, dtype: object\n",
      "29    155.8\n",
      "30    188.2\n",
      "31    230.7\n",
      "Name: Medelvärde 16 ämnen: Pojkar, dtype: object\n"
     ]
    }
   ],
   "source": [
    "# C)\n",
    "\n",
    "# Counts mean value for each gender and total\n",
    "Parents_T = data_parents[\"Medelvärde 16 ämnen: Totalt\"]\n",
    "Parents_F = data_parents[\"Medelvärde 16 ämnen: Flickor\"]\n",
    "Parents_P = data_parents[\"Medelvärde 16 ämnen: Pojkar\"]\n",
    "\n",
    "# Prints to check result\n",
    "print(Parents_T)\n",
    "print(Parents_F)\n",
    "print(Parents_P)"
   ]
  },
  {
   "cell_type": "code",
   "execution_count": 752,
   "metadata": {},
   "outputs": [
    {
     "name": "stdout",
     "output_type": "stream",
     "text": [
      "29    163.8\n",
      "30    197.4\n",
      "31    239.1\n",
      "Name: Medelvärde 16 ämnen: Totalt, dtype: float64\n",
      "29    172.2\n",
      "30    207.2\n",
      "31    247.9\n",
      "Name: Medelvärde 16 ämnen: Flickor, dtype: float64\n",
      "29    155.8\n",
      "30    188.2\n",
      "31    230.7\n",
      "Name: Medelvärde 16 ämnen: Pojkar, dtype: float64\n"
     ]
    }
   ],
   "source": [
    "# C)\n",
    "# Converts columns to numeric values\n",
    "Parents_T_numeric = pd.to_numeric(Parents_T)\n",
    "Parents_F_numeric = pd.to_numeric(Parents_F)\n",
    "Parents_P_numeric = pd.to_numeric(Parents_P)\n",
    "\n",
    "# Prints to check result\n",
    "print(Parents_T_numeric)\n",
    "print(Parents_F_numeric)\n",
    "print(Parents_P_numeric)"
   ]
  },
  {
   "cell_type": "code",
   "execution_count": 753,
   "metadata": {},
   "outputs": [
    {
     "name": "stdout",
     "output_type": "stream",
     "text": [
      "[0 1 2]\n",
      "[0.2 1.2 2.2]\n",
      "[0.4 1.4 2.4]\n"
     ]
    }
   ],
   "source": [
    "# C)\n",
    "import numpy as np\n",
    "\n",
    "# Width on each bar\n",
    "bar_width = 0.2\n",
    "\n",
    "# Creates lists for x-values\n",
    "x_values_totalt = np.arange(len(Parents_T_numeric))\n",
    "x_values_flickor = x_values_totalt + bar_width\n",
    "x_values_pojkar = x_values_totalt + 2 * bar_width\n",
    "\n",
    "# Prints to check result\n",
    "print(x_values_totalt)\n",
    "print(x_values_flickor)\n",
    "print(x_values_pojkar)"
   ]
  },
  {
   "cell_type": "code",
   "execution_count": 754,
   "metadata": {},
   "outputs": [
    {
     "data": {
      "text/plain": [
       "<BarContainer object of 3 artists>"
      ]
     },
     "execution_count": 754,
     "metadata": {},
     "output_type": "execute_result"
    },
    {
     "data": {
      "image/png": "[encoded data removed]",
      "text/plain": [
       "<Figure size 640x480 with 1 Axes>"
      ]
     },
     "metadata": {},
     "output_type": "display_data"
    }
   ],
   "source": [
    "# C)\n",
    "# Draws bardiagrams for each gender and educationlevel with the converted num values. Gives it a label, color and the bar width from above\n",
    "plt.bar(x_values_totalt, Parents_T_numeric, label=\"Meritvärde: Totalt\", color=\"g\", width=bar_width)\n",
    "plt.bar(x_values_flickor, Parents_F_numeric, label=\"Meritvärde: Flickor\", color=\"y\", width=bar_width)\n",
    "plt.bar(x_values_pojkar, Parents_P_numeric, label=\"Meritvärde: Pojkar\", color=\"b\", width=bar_width)"
   ]
  },
  {
   "cell_type": "code",
   "execution_count": 755,
   "metadata": {},
   "outputs": [
    {
     "name": "stdout",
     "output_type": "stream",
     "text": [
      "RangeIndex(start=29, stop=32, step=1)\n"
     ]
    }
   ],
   "source": [
    "# C)\n",
    "# Prints to check result\n",
    "print(data_parents.index)"
   ]
  },
  {
   "cell_type": "code",
   "execution_count": 756,
   "metadata": {},
   "outputs": [
    {
     "data": {
      "image/png": "[encoded data removed]",
      "text/plain": [
       "<Figure size 1000x600 with 1 Axes>"
      ]
     },
     "metadata": {},
     "output_type": "display_data"
    }
   ],
   "source": [
    "# C) Undersök nu andra variabler, och hur de påverkar meritvärde och andel med minst ett saknat betyg. Data finns för\n",
    "# läsår 22/23. Exempel kan man undersöka föräldrarnas utbildningsbakgrund. Rita lämpliga grafer\n",
    "\n",
    "fig, ax = plt.subplots(figsize=(10, 6))\n",
    "\n",
    "# Width of bars\n",
    "bar_width = 0.15\n",
    "\n",
    "x_values_totalt = np.arange(len(Parents_T_numeric))\n",
    "x_values_flickor = x_values_totalt + bar_width\n",
    "x_values_pojkar = x_values_totalt + 2 * bar_width\n",
    "\n",
    "plt.bar(x_values_totalt, Parents_T_numeric, label=\"Meritvärde: Totalt\", color=\"g\", width=bar_width)\n",
    "plt.bar(x_values_flickor, Parents_F_numeric, label=\"Meritvärde: Flickor\", color=\"#8C12FF\", width=bar_width)\n",
    "plt.bar(x_values_pojkar, Parents_P_numeric, label=\"Meritvärde: Pojkar\", color=\"#FF5F2C\", width=bar_width)\n",
    "\n",
    "\n",
    "\n",
    "# Adjusts labels and gives space between top label and the graf and places it to the left\n",
    "plt.title(\"Meritvärde för 16 ämnen åk 9 under åren 2018 - 2023\\nBaserat på föräldrarnas utbildningsnivå\\n- Mätdatan visar att elever vars föräldrar har högre utbildning får bättre meritvärde\", pad=20, color=\"gray\", loc=\"left\")\n",
    "plt.xlabel(\"Föräldrars utbildningsnivå\")\n",
    "plt.ylabel(\"Meritvärde\")\n",
    "\n",
    "# Use year/educationlevel as x-axel tick positions\n",
    "group_labels = [\"Förgymnasial utbildning\", \"Gymnasial utbildning\", \"Eftergymnasial utbildning\"]\n",
    "plt.xticks(x_values_totalt + bar_width, group_labels)\n",
    "\n",
    "plt.grid(axis=\"y\")\n",
    "plt.legend()\n",
    "\n",
    "ax.spines['top'].set_visible(False)\n",
    "ax.spines['right'].set_visible(False)\n",
    "\n",
    "plt.show()\n"
   ]
  },
  {
   "cell_type": "code",
   "execution_count": 844,
   "metadata": {},
   "outputs": [
    {
     "data": {
      "application/vnd.plotly.v1+json": {
       "config": {
        "plotlyServerURL": "https://plot.ly"
       },
       "data": [
        {
         "alignmentgroup": "True",
         "hovertemplate": "Category=Meritvärde: Totalt<br>Education Level=%{x}<br>Meritvärde=%{y}<extra></extra>",
         "legendgroup": "Meritvärde: Totalt",
         "marker": {
          "color": "green",
          "pattern": {
           "shape": ""
          }
         },
         "name": "Meritvärde: Totalt",
         "offsetgroup": "Meritvärde: Totalt",
         "orientation": "v",
         "showlegend": true,
         "textposition": "auto",
         "type": "bar",
         "x": [
          "Förgymnasial utbildning",
          "Gymnasial utbildning",
          "Eftergymnasial utbildning"
         ],
         "xaxis": "x",
         "y": [
          163.8,
          197.4,
          239.1
         ],
         "yaxis": "y"
        },
        {
         "alignmentgroup": "True",
         "hovertemplate": "Category=Meritvärde: Flickor<br>Education Level=%{x}<br>Meritvärde=%{y}<extra></extra>",
         "legendgroup": "Meritvärde: Flickor",
         "marker": {
          "color": "#8C12FF",
          "pattern": {
           "shape": ""
          }
         },
         "name": "Meritvärde: Flickor",
         "offsetgroup": "Meritvärde: Flickor",
         "orientation": "v",
         "showlegend": true,
         "textposition": "auto",
         "type": "bar",
         "x": [
          "Förgymnasial utbildning",
          "Gymnasial utbildning",
          "Eftergymnasial utbildning"
         ],
         "xaxis": "x",
         "y": [
          172.2,
          207.2,
          247.9
         ],
         "yaxis": "y"
        },
        {
         "alignmentgroup": "True",
         "hovertemplate": "Category=Meritvärde: Pojkar<br>Education Level=%{x}<br>Meritvärde=%{y}<extra></extra>",
         "legendgroup": "Meritvärde: Pojkar",
         "marker": {
          "color": "#FF5F2C",
          "pattern": {
           "shape": ""
          }
         },
         "name": "Meritvärde: Pojkar",
         "offsetgroup": "Meritvärde: Pojkar",
         "orientation": "v",
         "showlegend": true,
         "textposition": "auto",
         "type": "bar",
         "x": [
          "Förgymnasial utbildning",
          "Gymnasial utbildning",
          "Eftergymnasial utbildning"
         ],
         "xaxis": "x",
         "y": [
          155.8,
          188.2,
          230.7
         ],
         "yaxis": "y"
        }
       ],
       "layout": {
        "barmode": "group",
        "legend": {
         "title": {
          "text": "Category"
         },
         "tracegroupgap": 0
        },
        "showlegend": true,
        "template": {
         "data": {
          "bar": [
           {
            "error_x": {
             "color": "#2a3f5f"
            },
            "error_y": {
             "color": "#2a3f5f"
            },
            "marker": {
             "line": {
              "color": "#E5ECF6",
              "width": 0.5
             },
             "pattern": {
              "fillmode": "overlay",
              "size": 10,
              "solidity": 0.2
             }
            },
            "type": "bar"
           }
          ],
          "barpolar": [
           {
            "marker": {
             "line": {
              "color": "#E5ECF6",
              "width": 0.5
             },
             "pattern": {
              "fillmode": "overlay",
              "size": 10,
              "solidity": 0.2
             }
            },
            "type": "barpolar"
           }
          ],
          "carpet": [
           {
            "aaxis": {
             "endlinecolor": "#2a3f5f",
             "gridcolor": "white",
             "linecolor": "white",
             "minorgridcolor": "white",
             "startlinecolor": "#2a3f5f"
            },
            "baxis": {
             "endlinecolor": "#2a3f5f",
             "gridcolor": "white",
             "linecolor": "white",
             "minorgridcolor": "white",
             "startlinecolor": "#2a3f5f"
            },
            "type": "carpet"
           }
          ],
          "choropleth": [
           {
            "colorbar": {
             "outlinewidth": 0,
             "ticks": ""
            },
            "type": "choropleth"
           }
          ],
          "contour": [
           {
            "colorbar": {
             "outlinewidth": 0,
             "ticks": ""
            },
            "colorscale": [
             [
              0,
              "#0d0887"
             ],
             [
              0.1111111111111111,
              "#46039f"
             ],
             [
              0.2222222222222222,
              "#7201a8"
             ],
             [
              0.3333333333333333,
              "#9c179e"
             ],
             [
              0.4444444444444444,
              "#bd3786"
             ],
             [
              0.5555555555555556,
              "#d8576b"
             ],
             [
              0.6666666666666666,
              "#ed7953"
             ],
             [
              0.7777777777777778,
              "#fb9f3a"
             ],
             [
              0.8888888888888888,
              "#fdca26"
             ],
             [
              1,
              "#f0f921"
             ]
            ],
            "type": "contour"
           }
          ],
          "contourcarpet": [
           {
            "colorbar": {
             "outlinewidth": 0,
             "ticks": ""
            },
            "type": "contourcarpet"
           }
          ],
          "heatmap": [
           {
            "colorbar": {
             "outlinewidth": 0,
             "ticks": ""
            },
            "colorscale": [
             [
              0,
              "#0d0887"
             ],
             [
              0.1111111111111111,
              "#46039f"
             ],
             [
              0.2222222222222222,
              "#7201a8"
             ],
             [
              0.3333333333333333,
              "#9c179e"
             ],
             [
              0.4444444444444444,
              "#bd3786"
             ],
             [
              0.5555555555555556,
              "#d8576b"
             ],
             [
              0.6666666666666666,
              "#ed7953"
             ],
             [
              0.7777777777777778,
              "#fb9f3a"
             ],
             [
              0.8888888888888888,
              "#fdca26"
             ],
             [
              1,
              "#f0f921"
             ]
            ],
            "type": "heatmap"
           }
          ],
          "heatmapgl": [
           {
            "colorbar": {
             "outlinewidth": 0,
             "ticks": ""
            },
            "colorscale": [
             [
              0,
              "#0d0887"
             ],
             [
              0.1111111111111111,
              "#46039f"
             ],
             [
              0.2222222222222222,
              "#7201a8"
             ],
             [
              0.3333333333333333,
              "#9c179e"
             ],
             [
              0.4444444444444444,
              "#bd3786"
             ],
             [
              0.5555555555555556,
              "#d8576b"
             ],
             [
              0.6666666666666666,
              "#ed7953"
             ],
             [
              0.7777777777777778,
              "#fb9f3a"
             ],
             [
              0.8888888888888888,
              "#fdca26"
             ],
             [
              1,
              "#f0f921"
             ]
            ],
            "type": "heatmapgl"
           }
          ],
          "histogram": [
           {
            "marker": {
             "pattern": {
              "fillmode": "overlay",
              "size": 10,
              "solidity": 0.2
             }
            },
            "type": "histogram"
           }
          ],
          "histogram2d": [
           {
            "colorbar": {
             "outlinewidth": 0,
             "ticks": ""
            },
            "colorscale": [
             [
              0,
              "#0d0887"
             ],
             [
              0.1111111111111111,
              "#46039f"
             ],
             [
              0.2222222222222222,
              "#7201a8"
             ],
             [
              0.3333333333333333,
              "#9c179e"
             ],
             [
              0.4444444444444444,
              "#bd3786"
             ],
             [
              0.5555555555555556,
              "#d8576b"
             ],
             [
              0.6666666666666666,
              "#ed7953"
             ],
             [
              0.7777777777777778,
              "#fb9f3a"
             ],
             [
              0.8888888888888888,
              "#fdca26"
             ],
             [
              1,
              "#f0f921"
             ]
            ],
            "type": "histogram2d"
           }
          ],
          "histogram2dcontour": [
           {
            "colorbar": {
             "outlinewidth": 0,
             "ticks": ""
            },
            "colorscale": [
             [
              0,
              "#0d0887"
             ],
             [
              0.1111111111111111,
              "#46039f"
             ],
             [
              0.2222222222222222,
              "#7201a8"
             ],
             [
              0.3333333333333333,
              "#9c179e"
             ],
             [
              0.4444444444444444,
              "#bd3786"
             ],
             [
              0.5555555555555556,
              "#d8576b"
             ],
             [
              0.6666666666666666,
              "#ed7953"
             ],
             [
              0.7777777777777778,
              "#fb9f3a"
             ],
             [
              0.8888888888888888,
              "#fdca26"
             ],
             [
              1,
              "#f0f921"
             ]
            ],
            "type": "histogram2dcontour"
           }
          ],
          "mesh3d": [
           {
            "colorbar": {
             "outlinewidth": 0,
             "ticks": ""
            },
            "type": "mesh3d"
           }
          ],
          "parcoords": [
           {
            "line": {
             "colorbar": {
              "outlinewidth": 0,
              "ticks": ""
             }
            },
            "type": "parcoords"
           }
          ],
          "pie": [
           {
            "automargin": true,
            "type": "pie"
           }
          ],
          "scatter": [
           {
            "fillpattern": {
             "fillmode": "overlay",
             "size": 10,
             "solidity": 0.2
            },
            "type": "scatter"
           }
          ],
          "scatter3d": [
           {
            "line": {
             "colorbar": {
              "outlinewidth": 0,
              "ticks": ""
             }
            },
            "marker": {
             "colorbar": {
              "outlinewidth": 0,
              "ticks": ""
             }
            },
            "type": "scatter3d"
           }
          ],
          "scattercarpet": [
           {
            "marker": {
             "colorbar": {
              "outlinewidth": 0,
              "ticks": ""
             }
            },
            "type": "scattercarpet"
           }
          ],
          "scattergeo": [
           {
            "marker": {
             "colorbar": {
              "outlinewidth": 0,
              "ticks": ""
             }
            },
            "type": "scattergeo"
           }
          ],
          "scattergl": [
           {
            "marker": {
             "colorbar": {
              "outlinewidth": 0,
              "ticks": ""
             }
            },
            "type": "scattergl"
           }
          ],
          "scattermapbox": [
           {
            "marker": {
             "colorbar": {
              "outlinewidth": 0,
              "ticks": ""
             }
            },
            "type": "scattermapbox"
           }
          ],
          "scatterpolar": [
           {
            "marker": {
             "colorbar": {
              "outlinewidth": 0,
              "ticks": ""
             }
            },
            "type": "scatterpolar"
           }
          ],
          "scatterpolargl": [
           {
            "marker": {
             "colorbar": {
              "outlinewidth": 0,
              "ticks": ""
             }
            },
            "type": "scatterpolargl"
           }
          ],
          "scatterternary": [
           {
            "marker": {
             "colorbar": {
              "outlinewidth": 0,
              "ticks": ""
             }
            },
            "type": "scatterternary"
           }
          ],
          "surface": [
           {
            "colorbar": {
             "outlinewidth": 0,
             "ticks": ""
            },
            "colorscale": [
             [
              0,
              "#0d0887"
             ],
             [
              0.1111111111111111,
              "#46039f"
             ],
             [
              0.2222222222222222,
              "#7201a8"
             ],
             [
              0.3333333333333333,
              "#9c179e"
             ],
             [
              0.4444444444444444,
              "#bd3786"
             ],
             [
              0.5555555555555556,
              "#d8576b"
             ],
             [
              0.6666666666666666,
              "#ed7953"
             ],
             [
              0.7777777777777778,
              "#fb9f3a"
             ],
             [
              0.8888888888888888,
              "#fdca26"
             ],
             [
              1,
              "#f0f921"
             ]
            ],
            "type": "surface"
           }
          ],
          "table": [
           {
            "cells": {
             "fill": {
              "color": "#EBF0F8"
             },
             "line": {
              "color": "white"
             }
            },
            "header": {
             "fill": {
              "color": "#C8D4E3"
             },
             "line": {
              "color": "white"
             }
            },
            "type": "table"
           }
          ]
         },
         "layout": {
          "annotationdefaults": {
           "arrowcolor": "#2a3f5f",
           "arrowhead": 0,
           "arrowwidth": 1
          },
          "autotypenumbers": "strict",
          "coloraxis": {
           "colorbar": {
            "outlinewidth": 0,
            "ticks": ""
           }
          },
          "colorscale": {
           "diverging": [
            [
             0,
             "#8e0152"
            ],
            [
             0.1,
             "#c51b7d"
            ],
            [
             0.2,
             "#de77ae"
            ],
            [
             0.3,
             "#f1b6da"
            ],
            [
             0.4,
             "#fde0ef"
            ],
            [
             0.5,
             "#f7f7f7"
            ],
            [
             0.6,
             "#e6f5d0"
            ],
            [
             0.7,
             "#b8e186"
            ],
            [
             0.8,
             "#7fbc41"
            ],
            [
             0.9,
             "#4d9221"
            ],
            [
             1,
             "#276419"
            ]
           ],
           "sequential": [
            [
             0,
             "#0d0887"
            ],
            [
             0.1111111111111111,
             "#46039f"
            ],
            [
             0.2222222222222222,
             "#7201a8"
            ],
            [
             0.3333333333333333,
             "#9c179e"
            ],
            [
             0.4444444444444444,
             "#bd3786"
            ],
            [
             0.5555555555555556,
             "#d8576b"
            ],
            [
             0.6666666666666666,
             "#ed7953"
            ],
            [
             0.7777777777777778,
             "#fb9f3a"
            ],
            [
             0.8888888888888888,
             "#fdca26"
            ],
            [
             1,
             "#f0f921"
            ]
           ],
           "sequentialminus": [
            [
             0,
             "#0d0887"
            ],
            [
             0.1111111111111111,
             "#46039f"
            ],
            [
             0.2222222222222222,
             "#7201a8"
            ],
            [
             0.3333333333333333,
             "#9c179e"
            ],
            [
             0.4444444444444444,
             "#bd3786"
            ],
            [
             0.5555555555555556,
             "#d8576b"
            ],
            [
             0.6666666666666666,
             "#ed7953"
            ],
            [
             0.7777777777777778,
             "#fb9f3a"
            ],
            [
             0.8888888888888888,
             "#fdca26"
            ],
            [
             1,
             "#f0f921"
            ]
           ]
          },
          "colorway": [
           "#636efa",
           "#EF553B",
           "#00cc96",
           "#ab63fa",
           "#FFA15A",
           "#19d3f3",
           "#FF6692",
           "#B6E880",
           "#FF97FF",
           "#FECB52"
          ],
          "font": {
           "color": "#2a3f5f"
          },
          "geo": {
           "bgcolor": "white",
           "lakecolor": "white",
           "landcolor": "#E5ECF6",
           "showlakes": true,
           "showland": true,
           "subunitcolor": "white"
          },
          "hoverlabel": {
           "align": "left"
          },
          "hovermode": "closest",
          "mapbox": {
           "style": "light"
          },
          "paper_bgcolor": "white",
          "plot_bgcolor": "#E5ECF6",
          "polar": {
           "angularaxis": {
            "gridcolor": "white",
            "linecolor": "white",
            "ticks": ""
           },
           "bgcolor": "#E5ECF6",
           "radialaxis": {
            "gridcolor": "white",
            "linecolor": "white",
            "ticks": ""
           }
          },
          "scene": {
           "xaxis": {
            "backgroundcolor": "#E5ECF6",
            "gridcolor": "white",
            "gridwidth": 2,
            "linecolor": "white",
            "showbackground": true,
            "ticks": "",
            "zerolinecolor": "white"
           },
           "yaxis": {
            "backgroundcolor": "#E5ECF6",
            "gridcolor": "white",
            "gridwidth": 2,
            "linecolor": "white",
            "showbackground": true,
            "ticks": "",
            "zerolinecolor": "white"
           },
           "zaxis": {
            "backgroundcolor": "#E5ECF6",
            "gridcolor": "white",
            "gridwidth": 2,
            "linecolor": "white",
            "showbackground": true,
            "ticks": "",
            "zerolinecolor": "white"
           }
          },
          "shapedefaults": {
           "line": {
            "color": "#2a3f5f"
           }
          },
          "ternary": {
           "aaxis": {
            "gridcolor": "white",
            "linecolor": "white",
            "ticks": ""
           },
           "baxis": {
            "gridcolor": "white",
            "linecolor": "white",
            "ticks": ""
           },
           "bgcolor": "#E5ECF6",
           "caxis": {
            "gridcolor": "white",
            "linecolor": "white",
            "ticks": ""
           }
          },
          "title": {
           "x": 0.05
          },
          "xaxis": {
           "automargin": true,
           "gridcolor": "white",
           "linecolor": "white",
           "ticks": "",
           "title": {
            "standoff": 15
           },
           "zerolinecolor": "white",
           "zerolinewidth": 2
          },
          "yaxis": {
           "automargin": true,
           "gridcolor": "white",
           "linecolor": "white",
           "ticks": "",
           "title": {
            "standoff": 15
           },
           "zerolinecolor": "white",
           "zerolinewidth": 2
          }
         }
        },
        "title": {
         "text": "Meritvärde för 16 ämnen åk 9 under åren 2018 - 2023, baserat på föräldrarnas utbildningsnivå<br>- Mätdatan visar att elever vars föräldrar har högre utbildning får bättre meritvärde",
         "x": 0.5,
         "xanchor": "center",
         "y": 0.95,
         "yanchor": "top"
        },
        "xaxis": {
         "anchor": "y",
         "domain": [
          0,
          1
         ],
         "showgrid": false,
         "showline": true,
         "title": {
          "text": "Föräldrarnas utbildningsnivå"
         }
        },
        "yaxis": {
         "anchor": "x",
         "domain": [
          0,
          1
         ],
         "gridcolor": "LightGray",
         "gridwidth": 1,
         "showgrid": false,
         "showline": true,
         "title": {
          "text": "Meritvärde"
         }
        }
       }
      }
     },
     "metadata": {},
     "output_type": "display_data"
    }
   ],
   "source": [
    "import plotly.express as px\n",
    "\n",
    "df_plotly_3 = pd.DataFrame({\n",
    "    'Education Level': [\"Förgymnasial utbildning\", \"Gymnasial utbildning\", \"Eftergymnasial utbildning\"],\n",
    "    'Meritvärde: Totalt': Parents_T_numeric.tolist(),\n",
    "    'Meritvärde: Flickor': Parents_F_numeric.tolist(),\n",
    "    'Meritvärde: Pojkar': Parents_P_numeric.tolist()\n",
    "})\n",
    "\n",
    "# Melts DataFrame so that the bars are next to each other\n",
    "df_plotly_melted = pd.melt(df_plotly_3, id_vars=['Education Level'], var_name='Category', value_name='Meritvärde')\n",
    "\n",
    "# Plotly Express bar, gives names to labels and changes colors of the bars \n",
    "fig_3 = px.bar(df_plotly_melted, x='Education Level', y='Meritvärde', color='Category',\n",
    "               color_discrete_sequence=['green', '#8C12FF', '#FF5F2C'],\n",
    "               title=(\"Meritvärde för 16 ämnen åk 9 under åren 2018 - 2023\\nBaserat på föräldrarnas utbildningsnivå\\n- Mätdatan visar att elever vars föräldrar har högre utbildning får bättre meritvärde\"))\n",
    "\n",
    "fig_3.update_layout(xaxis_title='Föräldrarnas utbildningsnivå', yaxis_title='Meritvärde')\n",
    "\n",
    "fig_3.update_layout(showlegend=True)\n",
    "# Fixes the titel position and splits it into lines\n",
    "fig_3.update_layout(\n",
    "    title={\n",
    "        'text': \"Meritvärde för 16 ämnen åk 9 under åren 2018 - 2023, baserat på föräldrarnas utbildningsnivå<br>\"\n",
    "                \"- Mätdatan visar att elever vars föräldrar har högre utbildning får bättre meritvärde\",\n",
    "        # Adjusts text and changes the vertical position of the title\n",
    "        'y': 0.95,\n",
    "        # Adjusts text and changes the horisontal position of the title\n",
    "        'x': 0.5,\n",
    "        'xanchor': 'center',\n",
    "        'yanchor': 'top'\n",
    "    }\n",
    ")\n",
    "\n",
    "fig_3.update_layout(yaxis=dict(showgrid=True, gridwidth=1, gridcolor='LightGray'))\n",
    "\n",
    "fig_3.update_layout(xaxis=dict(showline=True, showgrid=False),\n",
    "                    yaxis=dict(showline=True, showgrid=False))\n",
    "\n",
    "# Groups bars\n",
    "fig_3.update_layout(barmode='group')\n",
    "\n",
    "fig_3.show()\n"
   ]
  },
  {
   "cell_type": "markdown",
   "metadata": {},
   "source": [
    "### Uppgift 2 - KPIer & EDA\n",
    "Definiera 3-6 KPIer utöver de som använts i ovanstående uppgifter och gör explorativ dataanalys på en eller flera\n",
    "dataset som ni får söka själva. Ni får inte ta dataseten som ni redan jobbat med i uppgift 0 och 1. Excel och eller csv-filer\n",
    "kan ni hitta i skolverkets statistik\n",
    "Se till att dokumentera vad du undersöker med markdown kombinerad med kod i Jupyter notebook eller om du\n",
    "använder Pythonskript, skriv en markdown vid sidan om. Dokumentera också vad du kommer fram till och spara alla\n",
    "visualiseringar."
   ]
  },
  {
   "cell_type": "markdown",
   "metadata": {},
   "source": [
    "    - Andel elever med minst ett saknat betyg:\n",
    "        - (Antal elever med minst ett saknat betyg / Totalt antal elever) * 100\n",
    "        - Ger andelen elever som inte uppnår ett godkänt betyg i minst ett ämne.\n",
    "\n",
    "    - Genomsnittligt meritvärde för elever med föräldrar som jobbar inom skola:\n",
    "        - Genomsnittligt meritvärde för elever vars föräldrar arbetar inom skolverket.\n",
    "        - Kan indikera om det finns något sammanhang mellan föräldrarnas yrke och elevernas prestationer.\n",
    "\n",
    "    - Andel flickor med minst ett saknat betyg:\n",
    "        - (Antal flickor med minst ett saknat betyg / Totalt antal flickor) * 100\n",
    "        - Ger insikt i andelen flickor som har svårigheter att uppnå godkänt betyg i minst ett ämne.\n",
    "\n",
    "    - Andel elever som går vidare till högre utbildning:\n",
    "        - (Antal elever som går vidare till högre utbildning / Totalt antal elever som tog examen) * 100\n",
    "        - Mäter skolans framgång i att förbereda elever för fortsatta studier.\n",
    "\n",
    "    - Andel elever som uppnår nationella standarder i alla ämnen:\n",
    "        - Beräkning: (Antal elever som uppnår nationella standarder i alla ämnen / Totalt antal elever) * 100\n",
    "        - Syfte: Ger en indikation på skolans framgång i att uppfylla nationella akademiska standarder.\n",
    "\n",
    "    - Andel elever med förbättrat meritvärde från föregående år:\n",
    "        - Beräkning: (Antal elever med ökat meritvärde från föregående år / Totalt antal elever) * 100\n",
    "        - Syfte: Mäter elevernas akademiska framsteg över tiden."
   ]
  },
  {
   "cell_type": "markdown",
   "metadata": {},
   "source": [
    "### Gymnasieskola - Riksnivå - Relationen mellan prov och betyg - VT22 och VT23 för att jämföra\n",
    "\n",
    "or \n",
    "\n",
    "### Gymnasieskola - Riksnivå - Betyg - Jämförelse av betygsresultat över tid 2022/2023"
   ]
  },
  {
   "cell_type": "code",
   "execution_count": 757,
   "metadata": {},
   "outputs": [
    {
     "name": "stdout",
     "output_type": "stream",
     "text": [
      "Antal elever: Antal elever som har både provbetyg och kursbetyg\n",
      "Andel lägre: Lägre betyder att kursbetyget är ett eller flera betygssteg under provbetyget\n",
      "Andel lika: Lika, ingen avvikelse, betyder att eleven har fått samma kursbetyg som provbetyg\n",
      "Andel högre: Högre betyder att kursbetyget är ett eller flera betygssteg över provbetyget\n",
      "Antal kvinnor: Antal kvinnliga elever som har både provbetyg och kursbetyg\n",
      "Antal män: Antal manliga elever som har både provbetyg och kursbetyg\n"
     ]
    },
    {
     "data": {
      "text/html": [
       "<div>\n",
       "<style scoped>\n",
       "    .dataframe tbody tr th:only-of-type {\n",
       "        vertical-align: middle;\n",
       "    }\n",
       "\n",
       "    .dataframe tbody tr th {\n",
       "        vertical-align: top;\n",
       "    }\n",
       "\n",
       "    .dataframe thead th {\n",
       "        text-align: right;\n",
       "    }\n",
       "</style>\n",
       "<table border=\"1\" class=\"dataframe\">\n",
       "  <thead>\n",
       "    <tr style=\"text-align: right;\">\n",
       "      <th></th>\n",
       "      <th>Riket</th>\n",
       "      <th>Huvudman</th>\n",
       "      <th>Antal elever som har både provbetyg och kursbetyg</th>\n",
       "      <th>Andel lägre</th>\n",
       "      <th>Andel lika</th>\n",
       "      <th>Andel högre</th>\n",
       "      <th>Antal kvinnor</th>\n",
       "      <th>Andel lägre kvinnor</th>\n",
       "      <th>Andel lika kvinnor</th>\n",
       "      <th>Andel högre kvinnor</th>\n",
       "      <th>Antal män</th>\n",
       "      <th>Andel lägre män</th>\n",
       "      <th>Andel lika män</th>\n",
       "      <th>Andel högre män</th>\n",
       "    </tr>\n",
       "  </thead>\n",
       "  <tbody>\n",
       "    <tr>\n",
       "      <th>0</th>\n",
       "      <td>Riket</td>\n",
       "      <td>Samtliga</td>\n",
       "      <td>23197</td>\n",
       "      <td>10.6</td>\n",
       "      <td>73.8</td>\n",
       "      <td>15.6</td>\n",
       "      <td>9100</td>\n",
       "      <td>7.4</td>\n",
       "      <td>73.9</td>\n",
       "      <td>18.7</td>\n",
       "      <td>14097</td>\n",
       "      <td>12.6</td>\n",
       "      <td>73.7</td>\n",
       "      <td>13.6</td>\n",
       "    </tr>\n",
       "    <tr>\n",
       "      <th>1</th>\n",
       "      <td>Riket</td>\n",
       "      <td>Kommunal</td>\n",
       "      <td>15451</td>\n",
       "      <td>11.2</td>\n",
       "      <td>74.3</td>\n",
       "      <td>14.5</td>\n",
       "      <td>5768</td>\n",
       "      <td>8.0</td>\n",
       "      <td>74.5</td>\n",
       "      <td>17.5</td>\n",
       "      <td>9683</td>\n",
       "      <td>13.1</td>\n",
       "      <td>74.2</td>\n",
       "      <td>12.7</td>\n",
       "    </tr>\n",
       "    <tr>\n",
       "      <th>2</th>\n",
       "      <td>Riket</td>\n",
       "      <td>Enskild</td>\n",
       "      <td>7336</td>\n",
       "      <td>9.4</td>\n",
       "      <td>72.3</td>\n",
       "      <td>18.3</td>\n",
       "      <td>3094</td>\n",
       "      <td>6.3</td>\n",
       "      <td>72.3</td>\n",
       "      <td>21.3</td>\n",
       "      <td>4242</td>\n",
       "      <td>11.6</td>\n",
       "      <td>72.3</td>\n",
       "      <td>16.1</td>\n",
       "    </tr>\n",
       "    <tr>\n",
       "      <th>3</th>\n",
       "      <td>Riket</td>\n",
       "      <td>Region</td>\n",
       "      <td>410</td>\n",
       "      <td>9.5</td>\n",
       "      <td>79.8</td>\n",
       "      <td>10.7</td>\n",
       "      <td>238</td>\n",
       "      <td>7.1</td>\n",
       "      <td>78.6</td>\n",
       "      <td>14.3</td>\n",
       "      <td>172</td>\n",
       "      <td>12.8</td>\n",
       "      <td>81.4</td>\n",
       "      <td>5.8</td>\n",
       "    </tr>\n",
       "  </tbody>\n",
       "</table>\n",
       "</div>"
      ],
      "text/plain": [
       "   Riket  Huvudman  Antal elever som har både provbetyg och kursbetyg  \\\n",
       "0  Riket  Samtliga                                              23197   \n",
       "1  Riket  Kommunal                                              15451   \n",
       "2  Riket   Enskild                                               7336   \n",
       "3  Riket    Region                                                410   \n",
       "\n",
       "   Andel lägre  Andel lika  Andel högre  Antal kvinnor  Andel lägre kvinnor  \\\n",
       "0         10.6        73.8         15.6           9100                  7.4   \n",
       "1         11.2        74.3         14.5           5768                  8.0   \n",
       "2          9.4        72.3         18.3           3094                  6.3   \n",
       "3          9.5        79.8         10.7            238                  7.1   \n",
       "\n",
       "   Andel lika kvinnor  Andel högre kvinnor  Antal män  Andel lägre män  \\\n",
       "0                73.9                 18.7      14097             12.6   \n",
       "1                74.5                 17.5       9683             13.1   \n",
       "2                72.3                 21.3       4242             11.6   \n",
       "3                78.6                 14.3        172             12.8   \n",
       "\n",
       "   Andel lika män  Andel högre män  \n",
       "0            73.7             13.6  \n",
       "1            74.2             12.7  \n",
       "2            72.3             16.1  \n",
       "3            81.4              5.8  "
      ]
     },
     "metadata": {},
     "output_type": "display_data"
    },
    {
     "data": {
      "text/html": [
       "<div>\n",
       "<style scoped>\n",
       "    .dataframe tbody tr th:only-of-type {\n",
       "        vertical-align: middle;\n",
       "    }\n",
       "\n",
       "    .dataframe tbody tr th {\n",
       "        vertical-align: top;\n",
       "    }\n",
       "\n",
       "    .dataframe thead th {\n",
       "        text-align: right;\n",
       "    }\n",
       "</style>\n",
       "<table border=\"1\" class=\"dataframe\">\n",
       "  <thead>\n",
       "    <tr style=\"text-align: right;\">\n",
       "      <th></th>\n",
       "      <th>Riket</th>\n",
       "      <th>Huvudman</th>\n",
       "      <th>Antal elever som har både provbetyg och kursbetyg</th>\n",
       "      <th>Andel lägre</th>\n",
       "      <th>Andel lika</th>\n",
       "      <th>Andel högre</th>\n",
       "      <th>Antal kvinnor</th>\n",
       "      <th>Andel lägre kvinnor</th>\n",
       "      <th>Andel lika kvinnor</th>\n",
       "      <th>Andel högre kvinnor</th>\n",
       "      <th>Antal män</th>\n",
       "      <th>Andel lägre män</th>\n",
       "      <th>Andel lika män</th>\n",
       "      <th>Andel högre män</th>\n",
       "    </tr>\n",
       "  </thead>\n",
       "  <tbody>\n",
       "    <tr>\n",
       "      <th>0</th>\n",
       "      <td>Riket</td>\n",
       "      <td>Samtliga</td>\n",
       "      <td>22813</td>\n",
       "      <td>11.5</td>\n",
       "      <td>69.7</td>\n",
       "      <td>18.8</td>\n",
       "      <td>8941</td>\n",
       "      <td>8.1</td>\n",
       "      <td>69.1</td>\n",
       "      <td>22.7</td>\n",
       "      <td>13872</td>\n",
       "      <td>13.7</td>\n",
       "      <td>70.0</td>\n",
       "      <td>16.3</td>\n",
       "    </tr>\n",
       "    <tr>\n",
       "      <th>1</th>\n",
       "      <td>Riket</td>\n",
       "      <td>Kommunal</td>\n",
       "      <td>14920</td>\n",
       "      <td>11.4</td>\n",
       "      <td>71.9</td>\n",
       "      <td>16.7</td>\n",
       "      <td>5485</td>\n",
       "      <td>7.8</td>\n",
       "      <td>71.3</td>\n",
       "      <td>20.8</td>\n",
       "      <td>9435</td>\n",
       "      <td>13.4</td>\n",
       "      <td>72.3</td>\n",
       "      <td>14.3</td>\n",
       "    </tr>\n",
       "    <tr>\n",
       "      <th>2</th>\n",
       "      <td>Riket</td>\n",
       "      <td>Enskild</td>\n",
       "      <td>7501</td>\n",
       "      <td>12.1</td>\n",
       "      <td>65.0</td>\n",
       "      <td>22.9</td>\n",
       "      <td>3217</td>\n",
       "      <td>8.9</td>\n",
       "      <td>65.3</td>\n",
       "      <td>25.7</td>\n",
       "      <td>4284</td>\n",
       "      <td>14.5</td>\n",
       "      <td>64.7</td>\n",
       "      <td>20.8</td>\n",
       "    </tr>\n",
       "    <tr>\n",
       "      <th>3</th>\n",
       "      <td>Riket</td>\n",
       "      <td>Region</td>\n",
       "      <td>392</td>\n",
       "      <td>5.9</td>\n",
       "      <td>72.4</td>\n",
       "      <td>21.7</td>\n",
       "      <td>239</td>\n",
       "      <td>4.6</td>\n",
       "      <td>69.9</td>\n",
       "      <td>25.5</td>\n",
       "      <td>153</td>\n",
       "      <td>7.8</td>\n",
       "      <td>76.5</td>\n",
       "      <td>15.7</td>\n",
       "    </tr>\n",
       "  </tbody>\n",
       "</table>\n",
       "</div>"
      ],
      "text/plain": [
       "   Riket  Huvudman  Antal elever som har både provbetyg och kursbetyg  \\\n",
       "0  Riket  Samtliga                                              22813   \n",
       "1  Riket  Kommunal                                              14920   \n",
       "2  Riket   Enskild                                               7501   \n",
       "3  Riket    Region                                                392   \n",
       "\n",
       "   Andel lägre  Andel lika  Andel högre  Antal kvinnor  Andel lägre kvinnor  \\\n",
       "0         11.5        69.7         18.8           8941                  8.1   \n",
       "1         11.4        71.9         16.7           5485                  7.8   \n",
       "2         12.1        65.0         22.9           3217                  8.9   \n",
       "3          5.9        72.4         21.7            239                  4.6   \n",
       "\n",
       "   Andel lika kvinnor  Andel högre kvinnor  Antal män  Andel lägre män  \\\n",
       "0                69.1                 22.7      13872             13.7   \n",
       "1                71.3                 20.8       9435             13.4   \n",
       "2                65.3                 25.7       4284             14.5   \n",
       "3                69.9                 25.5        153              7.8   \n",
       "\n",
       "   Andel lika män  Andel högre män  \n",
       "0            70.0             16.3  \n",
       "1            72.3             14.3  \n",
       "2            64.7             20.8  \n",
       "3            76.5             15.7  "
      ]
     },
     "metadata": {},
     "output_type": "display_data"
    }
   ],
   "source": [
    "gymnasie_vt23 = pd.read_excel(\"../Labb2/data/Gymnasieskola_kursbetyg_o_kursprovsbetyg_VT23_Riket.xlsx\", sheet_name=None, skiprows=8)\n",
    "gymnasie_vt22 = pd.read_excel(\"../Labb2/data/Gymnasieskola_kursbetyg_o_kursprovsbetyg_VT22_Riket.xlsx\", sheet_name=None, skiprows=8)\n",
    "\n",
    "sheets_to_change2 = [\"Engelska 5\", \"Engelska 6\", \"Matematik 1A\", \"Matematik 1B\", \"Matematik 2B\", \"Matematik 3B\", \"Matematik 3C\", \"Matematik 4\", \"Svenska 1\", \"Svenska 3\", \"Svenska som andraspråk 1\", \"Svenska som andraspråk 3\", \"Rapportbeskrivning och def.\"]\n",
    "\n",
    "# Function to change columnnames in all sheets\n",
    "def change_columns(df2):\n",
    "    df2.columns = [\"Riket\", \"Huvudman\", \"Antal elever som har både provbetyg och kursbetyg\", \"Andel lägre\", \"Andel lika\", \"Andel högre\", \"Antal kvinnor\", \"Andel lägre kvinnor\", \"Andel lika kvinnor\", \"Andel högre kvinnor\", \"Antal män\", \"Andel lägre män\", \"Andel lika män\", \"Andel högre män\"][:len(df2.columns)]\n",
    "    return df2\n",
    "\n",
    "# Loops through each sheet and changescolumnnames if it's in sheets_to_change\n",
    "for sheet_name, df2 in gymnasie_vt23.items():\n",
    "    if sheet_name in sheets_to_change2:\n",
    "        gymnasie_vt23[sheet_name] = change_columns(df2)\n",
    "\n",
    "for sheet_name, df2 in gymnasie_vt22.items():\n",
    "    if sheet_name in sheets_to_change2:\n",
    "        gymnasie_vt22[sheet_name] = change_columns(df2)\n",
    "\n",
    "print(\"Antal elever: Antal elever som har både provbetyg och kursbetyg\\nAndel lägre: Lägre betyder att kursbetyget är ett eller flera betygssteg under provbetyget\\nAndel lika: Lika, ingen avvikelse, betyder att eleven har fått samma kursbetyg som provbetyg\"\n",
    "      \"\\nAndel högre: Högre betyder att kursbetyget är ett eller flera betygssteg över provbetyget\\nAntal kvinnor: Antal kvinnliga elever som har både provbetyg och kursbetyg\\nAntal män: Antal manliga elever som har både provbetyg och kursbetyg\")\n",
    "\n",
    "display(gymnasie_vt23[\"Engelska 5\"])\n",
    "display(gymnasie_vt22[\"Engelska 5\"])"
   ]
  },
  {
   "cell_type": "code",
   "execution_count": 758,
   "metadata": {},
   "outputs": [
    {
     "data": {
      "text/html": [
       "<div>\n",
       "<style scoped>\n",
       "    .dataframe tbody tr th:only-of-type {\n",
       "        vertical-align: middle;\n",
       "    }\n",
       "\n",
       "    .dataframe tbody tr th {\n",
       "        vertical-align: top;\n",
       "    }\n",
       "\n",
       "    .dataframe thead th {\n",
       "        text-align: right;\n",
       "    }\n",
       "</style>\n",
       "<table border=\"1\" class=\"dataframe\">\n",
       "  <thead>\n",
       "    <tr style=\"text-align: right;\">\n",
       "      <th></th>\n",
       "      <th>Riket</th>\n",
       "      <th>Huvudman</th>\n",
       "      <th>Antal elever som har både provbetyg och kursbetyg</th>\n",
       "      <th>Andel lägre</th>\n",
       "      <th>Andel lika</th>\n",
       "      <th>Andel högre</th>\n",
       "      <th>Antal kvinnor</th>\n",
       "      <th>Andel lägre kvinnor</th>\n",
       "      <th>Andel lika kvinnor</th>\n",
       "      <th>Andel högre kvinnor</th>\n",
       "      <th>Antal män</th>\n",
       "      <th>Andel lägre män</th>\n",
       "      <th>Andel lika män</th>\n",
       "      <th>Andel högre män</th>\n",
       "    </tr>\n",
       "  </thead>\n",
       "  <tbody>\n",
       "    <tr>\n",
       "      <th>0</th>\n",
       "      <td>Riket</td>\n",
       "      <td>Samtliga</td>\n",
       "      <td>22813</td>\n",
       "      <td>11.5</td>\n",
       "      <td>69.7</td>\n",
       "      <td>18.8</td>\n",
       "      <td>8941</td>\n",
       "      <td>8.1</td>\n",
       "      <td>69.1</td>\n",
       "      <td>22.7</td>\n",
       "      <td>13872</td>\n",
       "      <td>13.7</td>\n",
       "      <td>70.0</td>\n",
       "      <td>16.3</td>\n",
       "    </tr>\n",
       "    <tr>\n",
       "      <th>1</th>\n",
       "      <td>Riket</td>\n",
       "      <td>Kommunal</td>\n",
       "      <td>14920</td>\n",
       "      <td>11.4</td>\n",
       "      <td>71.9</td>\n",
       "      <td>16.7</td>\n",
       "      <td>5485</td>\n",
       "      <td>7.8</td>\n",
       "      <td>71.3</td>\n",
       "      <td>20.8</td>\n",
       "      <td>9435</td>\n",
       "      <td>13.4</td>\n",
       "      <td>72.3</td>\n",
       "      <td>14.3</td>\n",
       "    </tr>\n",
       "    <tr>\n",
       "      <th>2</th>\n",
       "      <td>Riket</td>\n",
       "      <td>Enskild</td>\n",
       "      <td>7501</td>\n",
       "      <td>12.1</td>\n",
       "      <td>65.0</td>\n",
       "      <td>22.9</td>\n",
       "      <td>3217</td>\n",
       "      <td>8.9</td>\n",
       "      <td>65.3</td>\n",
       "      <td>25.7</td>\n",
       "      <td>4284</td>\n",
       "      <td>14.5</td>\n",
       "      <td>64.7</td>\n",
       "      <td>20.8</td>\n",
       "    </tr>\n",
       "    <tr>\n",
       "      <th>3</th>\n",
       "      <td>Riket</td>\n",
       "      <td>Region</td>\n",
       "      <td>392</td>\n",
       "      <td>5.9</td>\n",
       "      <td>72.4</td>\n",
       "      <td>21.7</td>\n",
       "      <td>239</td>\n",
       "      <td>4.6</td>\n",
       "      <td>69.9</td>\n",
       "      <td>25.5</td>\n",
       "      <td>153</td>\n",
       "      <td>7.8</td>\n",
       "      <td>76.5</td>\n",
       "      <td>15.7</td>\n",
       "    </tr>\n",
       "  </tbody>\n",
       "</table>\n",
       "</div>"
      ],
      "text/plain": [
       "   Riket  Huvudman  Antal elever som har både provbetyg och kursbetyg  \\\n",
       "0  Riket  Samtliga                                              22813   \n",
       "1  Riket  Kommunal                                              14920   \n",
       "2  Riket   Enskild                                               7501   \n",
       "3  Riket    Region                                                392   \n",
       "\n",
       "   Andel lägre  Andel lika  Andel högre  Antal kvinnor  Andel lägre kvinnor  \\\n",
       "0         11.5        69.7         18.8           8941                  8.1   \n",
       "1         11.4        71.9         16.7           5485                  7.8   \n",
       "2         12.1        65.0         22.9           3217                  8.9   \n",
       "3          5.9        72.4         21.7            239                  4.6   \n",
       "\n",
       "   Andel lika kvinnor  Andel högre kvinnor  Antal män  Andel lägre män  \\\n",
       "0                69.1                 22.7      13872             13.7   \n",
       "1                71.3                 20.8       9435             13.4   \n",
       "2                65.3                 25.7       4284             14.5   \n",
       "3                69.9                 25.5        153              7.8   \n",
       "\n",
       "   Andel lika män  Andel högre män  \n",
       "0            70.0             16.3  \n",
       "1            72.3             14.3  \n",
       "2            64.7             20.8  \n",
       "3            76.5             15.7  "
      ]
     },
     "execution_count": 758,
     "metadata": {},
     "output_type": "execute_result"
    }
   ],
   "source": [
    "# Display to check result\n",
    "gymnasie_vt22[\"Engelska 5\"].head()"
   ]
  },
  {
   "cell_type": "code",
   "execution_count": 759,
   "metadata": {},
   "outputs": [
    {
     "name": "stdout",
     "output_type": "stream",
     "text": [
      "Index(['Riket', 'Huvudman',\n",
      "       'Antal elever som har både provbetyg och kursbetyg', 'Andel lägre',\n",
      "       'Andel lika', 'Andel högre', 'Antal kvinnor', 'Andel lägre kvinnor',\n",
      "       'Andel lika kvinnor', 'Andel högre kvinnor', 'Antal män',\n",
      "       'Andel lägre män', 'Andel lika män', 'Andel högre män'],\n",
      "      dtype='object')\n"
     ]
    }
   ],
   "source": [
    "# Checks columnnames in dataset\n",
    "print(gymnasie_vt22[\"Engelska 5\"].columns)"
   ]
  },
  {
   "cell_type": "code",
   "execution_count": 760,
   "metadata": {},
   "outputs": [
    {
     "data": {
      "text/plain": [
       "0    11.5\n",
       "1    11.4\n",
       "2    12.1\n",
       "3     5.9\n",
       "Name: Andel lägre, dtype: float64"
      ]
     },
     "metadata": {},
     "output_type": "display_data"
    }
   ],
   "source": [
    "# Variabel for classyear\n",
    "grades_A = gymnasie_vt22[\"Engelska 5\"]\n",
    "grades_B = gymnasie_vt23[\"Engelska 5\"]\n",
    "\n",
    "# Creates numpy-array for x-values\n",
    "grades_A_np = np.arange(len(grades_A))\n",
    "grades_B_np = np.arange(len(grades_B))\n",
    "\n",
    "# Counts number students without G or a grade at all\n",
    "grade_low_A = (grades_A[\"Andel lägre\"])\n",
    "grade_same_A = (grades_A[\"Andel lika\"])\n",
    "grade_high_A = (grades_A[\"Andel högre\"])\n",
    "grade_low_B = (grades_B[\"Andel lägre\"])\n",
    "grade_same_B = (grades_B[\"Andel lika\"])\n",
    "grade_high_B = (grades_B[\"Andel högre\"])\n",
    "\n",
    "display(grade_low_A)"
   ]
  },
  {
   "cell_type": "code",
   "execution_count": 761,
   "metadata": {},
   "outputs": [
    {
     "data": {
      "text/plain": [
       "[<matplotlib.lines.Line2D at 0x1a78c70d690>]"
      ]
     },
     "execution_count": 761,
     "metadata": {},
     "output_type": "execute_result"
    },
    {
     "data": {
      "image/png": "[encoded data removed]",
      "text/plain": [
       "<Figure size 700x500 with 1 Axes>"
      ]
     },
     "metadata": {},
     "output_type": "display_data"
    }
   ],
   "source": [
    "fig, ax = plt.subplots(figsize=(7, 5))\n",
    "\n",
    "plt.plot(grades_A_np, grade_low_A, label=\"Lägre\", marker=\"d\", ms=8, ls=\"--\")\n",
    "plt.plot(grades_A_np, grade_same_A, label=\"Samma\", marker=\"d\", ls=\"--\")\n",
    "plt.plot(grades_A_np, grade_high_A, label=\"Högre\", marker=\"d\", ls=\"--\")"
   ]
  },
  {
   "cell_type": "markdown",
   "metadata": {},
   "source": [
    "### Undersöker om elever i åk nio får högre, samma eller lägre betyg i snitt från år 2022 till 2023"
   ]
  },
  {
   "cell_type": "code",
   "execution_count": 762,
   "metadata": {},
   "outputs": [
    {
     "data": {
      "image/png": "[encoded data removed]",
      "text/plain": [
       "<Figure size 700x500 with 1 Axes>"
      ]
     },
     "metadata": {},
     "output_type": "display_data"
    }
   ],
   "source": [
    "# 2.\n",
    "\n",
    "grades_A = gymnasie_vt22[\"Engelska 5\"]\n",
    "grades_B = gymnasie_vt23[\"Engelska 5\"]\n",
    "\n",
    "# Creates variable where numpy aranges by length\n",
    "grades_A_np = np.arange(len(grades_A))\n",
    "grades_B_np = np.arange(len(grades_B))\n",
    "\n",
    "# Checks the grade from tabel A to check value of lower, same and higher grader from VT22\n",
    "grade_low_A = (grades_A[\"Andel lägre\"])\n",
    "grade_same_A = (grades_A[\"Andel lika\"])\n",
    "grade_high_A = (grades_A[\"Andel högre\"])\n",
    "\n",
    "# Checks the grade from tabel B to check value of lower, same and higher grader from VT23\n",
    "grade_low_B = (grades_B[\"Andel lägre\"])\n",
    "grade_same_B = (grades_B[\"Andel lika\"])\n",
    "grade_high_B = (grades_B[\"Andel högre\"])\n",
    "\n",
    "fig, ax = plt.subplots(figsize=(7, 5))\n",
    "\n",
    "ax.plot(grades_A_np, grade_low_A, label=\"VT22: Lägre\", marker=\"d\", ms=8, color=\"r\", mec = \"black\", alpha=0.7)\n",
    "ax.plot(grades_A_np, grade_same_A, label=\"VT22: Samma\", marker=\"d\", color=\"gray\", alpha=0.5)\n",
    "ax.plot(grades_A_np, grade_high_A, label=\"VT22: Högre\", marker=\"d\", ms=10, color=\"g\", mec = \"black\")\n",
    "\n",
    "ax.plot(grades_B_np, grade_low_B, label=\"VT23: Lägre\", marker=\"o\", ls=\"--\", color=\"r\", mec = \"black\", alpha=0.7)\n",
    "ax.plot(grades_B_np, grade_same_B, label=\"VT23: Samma\", marker=\"o\", ls=\"--\", color=\"gray\", alpha=0.5)\n",
    "ax.plot(grades_B_np, grade_high_B, label=\"VT23: Högre\", marker=\"o\", ms=10, ls=\"--\", color=\"g\", mec = \"black\")\n",
    "\n",
    "plt.title(\"Förändringar i åk9 betyg från år 2022 till 2023\", pad=20, size=15, color=\"gray\", loc=\"left\")\n",
    "plt.xlabel(\"Betygsförändring | Lägre | Samma | Högre |\")\n",
    "plt.ylabel(\"Antal elever\")\n",
    "\n",
    "plt.grid(ls = ':', linewidth = 0.8)\n",
    "plt.legend()\n",
    "\n",
    "ax.spines['top'].set_visible(False)\n",
    "ax.spines['right'].set_visible(False)\n",
    "\n",
    "plt.show()\n"
   ]
  },
  {
   "cell_type": "markdown",
   "metadata": {},
   "source": [
    "### SKriv en diskussion som beskriver resultatet och hur jag kom fram till det"
   ]
  },
  {
   "cell_type": "code",
   "execution_count": 763,
   "metadata": {},
   "outputs": [
    {
     "data": {
      "text/plain": [
       "'\\ngymnasie_betyg_22_23 = pd.read_excel(\"../Labb2/data/Gymnasieskola_Jämförelse_betygsresultat_över_tid_2023_Riket.xlsx\", sheet_name=None, skiprows=8)\\n\\nsheets_to_change2 = [\"Nationella program\", \"Högskoleförberedande program\", \"Yrkesprogram\", \"Barn- och fritidsprogrammet\", \"Bygg- och anläggningsprogrammet\", \"Ekonomiprogrammet\", \"El- och energiprogrammet\", \"Estetiska programmet\", \"Fordons- och transportprogrammet\", \"Handels- och administrationsprogrammet\", \"Hantverksprogrammet\", \"Hotell- och turismprogrammet\", \"Humanistiska programmet\", \"Industritekniska programmet\", \"Naturbruksprogrammet\", \"Naturvetenskapsprogrammet\", \"Restaurang- och livsmedelsprogrammet\", \"Riksrekryterande utbildningar\", \"Samhällsvetenskapsprogrammet\", \"Teknikprogrammet\", \"VVS- och fastighetsprogrammet\", \"Vård- och omsorgsprogrammet\", \"Rapportbeskrivning och def.\"]\\n\\n# Funktion för att ändra kolumnnamnen i alla sheets\\ndef change_columns(df3):\\n    df3.columns = [\"Riket\", \"Huvudman\", \"Betygsresultat\", \"22/23 \", \"21/22\", \"20/21\", \"19/20\", \"18/19\", \"17/18\", \"16/17\", \"15/16\", \"14/15\", \"13/14\"][:len(df3.columns)]\\n    return df3\\n\\n# Loopar genom varje sheet och ändrar kolumnnamnen om sheetet finns med i sheets_to_change\\nfor sheet_name, df2 in gymnasie_vt23.items():\\n    if sheet_name in sheets_to_change2:\\n        gymnasie_vt23[sheet_name] = change_columns(df2)\\n\\ndisplay(gymnasie_betyg_22_23)'"
      ]
     },
     "execution_count": 763,
     "metadata": {},
     "output_type": "execute_result"
    }
   ],
   "source": [
    "'''\n",
    "gymnasie_betyg_22_23 = pd.read_excel(\"../Labb2/data/Gymnasieskola_Jämförelse_betygsresultat_över_tid_2023_Riket.xlsx\", sheet_name=None, skiprows=8)\n",
    "\n",
    "sheets_to_change2 = [\"Nationella program\", \"Högskoleförberedande program\", \"Yrkesprogram\", \"Barn- och fritidsprogrammet\", \"Bygg- och anläggningsprogrammet\", \"Ekonomiprogrammet\", \"El- och energiprogrammet\", \"Estetiska programmet\", \"Fordons- och transportprogrammet\", \"Handels- och administrationsprogrammet\", \"Hantverksprogrammet\", \"Hotell- och turismprogrammet\", \"Humanistiska programmet\", \"Industritekniska programmet\", \"Naturbruksprogrammet\", \"Naturvetenskapsprogrammet\", \"Restaurang- och livsmedelsprogrammet\", \"Riksrekryterande utbildningar\", \"Samhällsvetenskapsprogrammet\", \"Teknikprogrammet\", \"VVS- och fastighetsprogrammet\", \"Vård- och omsorgsprogrammet\", \"Rapportbeskrivning och def.\"]\n",
    "\n",
    "# Funktion för att ändra kolumnnamnen i alla sheets\n",
    "def change_columns(df3):\n",
    "    df3.columns = [\"Riket\", \"Huvudman\", \"Betygsresultat\", \"22/23 \", \"21/22\", \"20/21\", \"19/20\", \"18/19\", \"17/18\", \"16/17\", \"15/16\", \"14/15\", \"13/14\"][:len(df3.columns)]\n",
    "    return df3\n",
    "\n",
    "# Loopar genom varje sheet och ändrar kolumnnamnen om sheetet finns med i sheets_to_change\n",
    "for sheet_name, df2 in gymnasie_vt23.items():\n",
    "    if sheet_name in sheets_to_change2:\n",
    "        gymnasie_vt23[sheet_name] = change_columns(df2)\n",
    "\n",
    "display(gymnasie_betyg_22_23)'''"
   ]
  },
  {
   "cell_type": "code",
   "execution_count": null,
   "metadata": {},
   "outputs": [],
   "source": []
  }
 ],
 "metadata": {
  "kernelspec": {
   "display_name": "venv",
   "language": "python",
   "name": "python3"
  },
  "language_info": {
   "codemirror_mode": {
    "name": "ipython",
    "version": 3
   },
   "file_extension": ".py",
   "mimetype": "text/x-python",
   "name": "python",
   "nbconvert_exporter": "python",
   "pygments_lexer": "ipython3",
   "version": "3.11.7"
  }
 },
 "nbformat": 4,
 "nbformat_minor": 2
}
