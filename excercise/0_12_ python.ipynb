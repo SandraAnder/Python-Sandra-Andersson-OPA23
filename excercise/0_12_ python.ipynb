{
 "cells": [
  {
   "cell_type": "markdown",
   "metadata": {},
   "source": [
    "## 0.1 Pythagorean theorem"
   ]
  },
  {
   "cell_type": "code",
   "execution_count": 22,
   "metadata": {},
   "outputs": [
    {
     "name": "stdout",
     "output_type": "stream",
     "text": [
      "5.0\n"
     ]
    }
   ],
   "source": [
    "import math\n",
    "a = 3\n",
    "b = 4\n",
    "\n",
    "c = a**2 + b**2\n",
    "c = math.sqrt(c)\n",
    "\n",
    "\n",
    "print(c)"
   ]
  },
  {
   "cell_type": "code",
   "execution_count": 27,
   "metadata": {},
   "outputs": [
    {
     "name": "stdout",
     "output_type": "stream",
     "text": [
      "Cathetusen 'b' blir 4.9\n"
     ]
    }
   ],
   "source": [
    "import math\n",
    "c = 7.0\n",
    "a = 5.0\n",
    "\n",
    "b = math.sqrt(c**2 - a**2)\n",
    "b_round = round(b, 1)\n",
    "\n",
    "print(f\"Cathetusen 'b' blir {b_round}\")\n"
   ]
  },
  {
   "cell_type": "markdown",
   "metadata": {},
   "source": [
    "## 0.2 Classification accuracy"
   ]
  },
  {
   "cell_type": "code",
   "execution_count": 32,
   "metadata": {},
   "outputs": [
    {
     "name": "stdout",
     "output_type": "stream",
     "text": [
      "Correct procent is 82.19%\n"
     ]
    }
   ],
   "source": [
    "prediction = 365\n",
    "correct = 300\n",
    "\n",
    "accuracy = correct / prediction\n",
    "\n",
    "print(f\"Correct procent is {accuracy:.2%}\")"
   ]
  },
  {
   "cell_type": "markdown",
   "metadata": {},
   "source": [
    "## 0.3 Classification accuracy"
   ]
  },
  {
   "cell_type": "code",
   "execution_count": 47,
   "metadata": {},
   "outputs": [
    {
     "name": "stdout",
     "output_type": "stream",
     "text": [
      "The accuracy is 0.987\n"
     ]
    }
   ],
   "source": [
    "TP = 2\n",
    "FP = 2\n",
    "FN = 11\n",
    "TN = 985\n",
    "\n",
    "A = TP + TN + FP + FN\n",
    "B = TP + TN  #(TP + TN + FP + FN)\n",
    "C = B / A\n",
    "\n",
    "print(f\"The accuracy is {C}\")"
   ]
  },
  {
   "cell_type": "markdown",
   "metadata": {},
   "source": [
    "## 0.4 Line"
   ]
  },
  {
   "cell_type": "code",
   "execution_count": 49,
   "metadata": {},
   "outputs": [
    {
     "name": "stdout",
     "output_type": "stream",
     "text": [
      "Slope of the line: 0.75\n",
      "Constant term of the line: 1.0\n"
     ]
    }
   ],
   "source": [
    "x1 = 4\n",
    "y1 = 4\n",
    "\n",
    "x2 = 0\n",
    "y2 = 1\n",
    "\n",
    "slope = (y2 - y1) / (x2 - x1)\n",
    "constant = y1 - slope * x1\n",
    "\n",
    "print(\"Slope of the line:\", slope)\n",
    "print(\"Constant term of the line:\", constant)"
   ]
  },
  {
   "cell_type": "markdown",
   "metadata": {},
   "source": [
    "## 0.5 Euclidean distance"
   ]
  },
  {
   "cell_type": "code",
   "execution_count": 63,
   "metadata": {},
   "outputs": [
    {
     "name": "stdout",
     "output_type": "stream",
     "text": [
      "Distansen blir  5.1\n"
     ]
    }
   ],
   "source": [
    "import math\n",
    "x1 = 3\n",
    "y1 = 5\n",
    "\n",
    "x2 = -2\n",
    "y2 = 4\n",
    "\n",
    "d = math.sqrt((-2 - 3)**2 + (4 - 5)**2)\n",
    "\n",
    "print(f\"Distansen blir {d: .1f}\")"
   ]
  },
  {
   "cell_type": "markdown",
   "metadata": {},
   "source": [
    "## 0.6(**) Euclidean distance in 3D"
   ]
  },
  {
   "cell_type": "code",
   "execution_count": null,
   "metadata": {},
   "outputs": [],
   "source": [
    "# Behöver göras"
   ]
  },
  {
   "cell_type": "markdown",
   "metadata": {},
   "source": [
    "## 1.0 Check sign"
   ]
  },
  {
   "cell_type": "code",
   "execution_count": 3,
   "metadata": {},
   "outputs": [
    {
     "name": "stdout",
     "output_type": "stream",
     "text": [
      "Du skrev 0\n"
     ]
    }
   ],
   "source": [
    "u_input = int(input(\"skriv ett nummer: \"))\n",
    "\n",
    "if u_input > 0:\n",
    "    print(f\"Du har valt {u_input}: ett positivt nummer\")\n",
    "elif u_input < 0:\n",
    "    print(f\"Du har valt {u_input}: ett negativt nummer\")\n",
    "else:\n",
    "    print(f\"Du skrev 0\")\n"
   ]
  },
  {
   "cell_type": "markdown",
   "metadata": {},
   "source": [
    "## 1.1 Smallest"
   ]
  },
  {
   "cell_type": "code",
   "execution_count": 11,
   "metadata": {},
   "outputs": [
    {
     "name": "stdout",
     "output_type": "stream",
     "text": [
      "Det minsta är 2\n"
     ]
    }
   ],
   "source": [
    "x_input = int(input(\"skriv ett nummer: \"))\n",
    "y_input = int(input(\"skriv ett till nummer: \"))\n",
    "\n",
    "t = min(x_input, y_input)\n",
    "\n",
    "print(f\"Det minsta är {t}\")"
   ]
  },
  {
   "cell_type": "markdown",
   "metadata": {},
   "source": [
    "## 1.2 Right angle "
   ]
  },
  {
   "cell_type": "code",
   "execution_count": 10,
   "metadata": {},
   "outputs": [
    {
     "name": "stdout",
     "output_type": "stream",
     "text": [
      "Det blir en triangel\n"
     ]
    }
   ],
   "source": [
    "a_input = int(input(\"skriv nummer\"))\n",
    "b_input = int(input(\"Skriv ett till\"))\n",
    "c_input = int(input(\"En till\"))\n",
    "\n",
    "d = a_input + b_input + c_input\n",
    "\n",
    "if d == 180:\n",
    "    print(f\"Det blir en triangel\")\n",
    "else:\n",
    "    print(f\"Du har fel\")"
   ]
  },
  {
   "cell_type": "markdown",
   "metadata": {},
   "source": [
    "## 1.3 Medicine"
   ]
  },
  {
   "cell_type": "code",
   "execution_count": null,
   "metadata": {},
   "outputs": [],
   "source": [
    "weight = int(input(\"Type your weight\"))\n",
    "age = int(input(\"Type your age\"))\n",
    "\n",
    "if weight < 15:\n",
    "    print(f\"Do not give your child this!\")\n",
    "elif 15 <= weight <=25:\n",
    "    print(f\"Take 1/2 a tablet\")\n",
    "elif 26 <= weight <=40:\n",
    "    print(f\"Take 1/2-1 tablet\")\n",
    "else:\n",
    "    print(f\"Take 1-2 tablets\")"
   ]
  },
  {
   "cell_type": "markdown",
   "metadata": {},
   "source": [
    "## 1.4 Divisible"
   ]
  },
  {
   "cell_type": "code",
   "execution_count": null,
   "metadata": {},
   "outputs": [],
   "source": [
    "## Här ska det stå kod"
   ]
  },
  {
   "cell_type": "markdown",
   "metadata": {},
   "source": [
    "## 1.5 Luggage size"
   ]
  },
  {
   "cell_type": "code",
   "execution_count": null,
   "metadata": {},
   "outputs": [],
   "source": [
    "## Här ska det vara kod"
   ]
  },
  {
   "cell_type": "markdown",
   "metadata": {},
   "source": [
    "## 2.0 Count numbers"
   ]
  },
  {
   "cell_type": "code",
   "execution_count": 15,
   "metadata": {},
   "outputs": [
    {
     "name": "stdout",
     "output_type": "stream",
     "text": [
      "-10\n",
      "-9\n",
      "-8\n",
      "-7\n",
      "-6\n",
      "-5\n",
      "-4\n",
      "-3\n",
      "-2\n",
      "-1\n",
      "0\n",
      "1\n",
      "2\n",
      "3\n",
      "4\n",
      "5\n",
      "6\n",
      "7\n",
      "8\n",
      "9\n",
      "10\n"
     ]
    }
   ],
   "source": [
    "x = -10\n",
    "\n",
    "while x < 11:\n",
    "    print(x)\n",
    "    x += 1"
   ]
  },
  {
   "cell_type": "markdown",
   "metadata": {},
   "source": [
    "## 2.1 Arithmetic sum"
   ]
  },
  {
   "cell_type": "code",
   "execution_count": 16,
   "metadata": {},
   "outputs": [
    {
     "name": "stdout",
     "output_type": "stream",
     "text": [
      "Summan av 1 till 100 är: 5050\n"
     ]
    }
   ],
   "source": [
    "summa = 0\n",
    "tal = 1\n",
    "\n",
    "while tal <= 100:\n",
    "    summa += tal\n",
    "    tal += 1\n",
    "\n",
    "print(f\"Summan av 1 till 100 är: {summa}\")"
   ]
  },
  {
   "cell_type": "code",
   "execution_count": 19,
   "metadata": {},
   "outputs": [
    {
     "name": "stdout",
     "output_type": "stream",
     "text": [
      "Summan av ojämna tal från 1 till 99 är: 2500\n"
     ]
    }
   ],
   "source": [
    "summa = 0\n",
    "tal = 1\n",
    "\n",
    "while tal <= 99:\n",
    "    summa += tal\n",
    "    tal += 2\n",
    "\n",
    "print(f\"Summan av ojämna tal från 1 till 99 är: {summa}\")"
   ]
  },
  {
   "cell_type": "markdown",
   "metadata": {},
   "source": [
    "## 2.2 Guess number game"
   ]
  },
  {
   "cell_type": "code",
   "execution_count": 30,
   "metadata": {},
   "outputs": [
    {
     "name": "stdout",
     "output_type": "stream",
     "text": [
      "Gissa ett nummer: \n",
      "Fel, för lågt. Försök igen:\n",
      "Fel, för lågt. Försök igen:\n",
      "Fel, för lågt. Försök igen:\n",
      "Fel, för lågt. Försök igen:\n",
      "Korrekt! Du gissade rätt med 100\n"
     ]
    }
   ],
   "source": [
    "#a\n",
    "import random\n",
    "\n",
    "n = random.randint(1, 101)\n",
    "\n",
    "print(\"Gissa ett nummer: \")\n",
    "user_inp = int(input())\n",
    "\n",
    "while user_inp != n:\n",
    "    if user_inp < n:\n",
    "        print(\"Fel, för lågt. Försök igen:\")\n",
    "    else:\n",
    "        print(\"Fel, för högt. Försök igen:\")\n",
    "    \n",
    "    user_inp = int(input())\n",
    "\n",
    "print(f\"Korrekt! Du gissade rätt med {user_inp}\")"
   ]
  },
  {
   "cell_type": "code",
   "execution_count": 32,
   "metadata": {},
   "outputs": [
    {
     "name": "stdout",
     "output_type": "stream",
     "text": [
      "50 är fel och för lågt. Försök igen:\n",
      "75 är fel och för lågt. Försök igen:\n",
      "88 är fel och för lågt. Försök igen:\n",
      "94 är fel och för lågt. Försök igen:\n",
      "97 är fel och för lågt. Försök igen:\n",
      "Hemligt nummer: 99\n",
      "Antal försök: 6\n"
     ]
    }
   ],
   "source": [
    "#b (**)\n",
    "\n",
    "import random\n",
    "\n",
    "secret_n = random.randint(1, 100)\n",
    "lower_limit = 1\n",
    "upper_limit = 100\n",
    "attempts = 0\n",
    "\n",
    "while True:\n",
    "    guess = (lower_limit + upper_limit) // 2\n",
    "    attempts += 1\n",
    "\n",
    "    if guess == secret_n:\n",
    "        print(f\"Hemligt nummer: {secret_n}\")\n",
    "        print(f\"Antal försök: {attempts}\")\n",
    "        break\n",
    "    elif guess < secret_n:\n",
    "        print(f\"{guess} är fel och för lågt. Försök igen:\")\n",
    "        lower_limit = guess + 1\n",
    "    else:\n",
    "        print(\"{guess} är fel och för högt. Försök igen:\")\n",
    "        upper_limit = guess - 1\n"
   ]
  },
  {
   "cell_type": "markdown",
   "metadata": {},
   "source": [
    "## 2.3 Multiplication game"
   ]
  },
  {
   "cell_type": "code",
   "execution_count": 18,
   "metadata": {},
   "outputs": [
    {
     "name": "stdout",
     "output_type": "stream",
     "text": [
      "What is 10 * 1? \n",
      "Yaay rätt\n",
      "poäng: 1\n",
      "Do you want to play again, y/n?\n",
      "Kul, då kör vi igen!\n",
      "What is 9 * 9? \n",
      "Yaay rätt\n",
      "poäng: 2\n",
      "Do you want to play again, y/n?\n",
      "Tack för idag!\n"
     ]
    }
   ],
   "source": [
    "# Finns a, b, c. Bara gjort a!\n",
    "score = 0\n",
    "while True:\n",
    "    import random\n",
    "    rand_x = random.randint(1, 10)\n",
    "    rand_y = random.randint(1, 10)\n",
    "\n",
    "    print(f\"What is {rand_x} * {rand_y}? \")\n",
    "    user_input = int(input())\n",
    "\n",
    "    answer = rand_x * rand_y\n",
    "\n",
    "    if user_input == answer:\n",
    "        score += 1\n",
    "        print(f\"Yaay rätt\")\n",
    "        print(f\"poäng: {score}\")\n",
    "        print(f\"Do you want to play again, y/n?\")\n",
    "\n",
    "        u_ans = input()\n",
    "        if u_ans == \"y\":\n",
    "            print(\"Kul, då kör vi igen!\")\n",
    "        else:\n",
    "            print(\"Tack för idag!\")\n",
    "            break\n",
    "        \n",
    "    elif user_input != answer:\n",
    "        print(f\"Tyvärr, det var {answer}\")\n",
    "        print(f\"Do you want to play again, y/n?\")\n",
    "\n",
    "        u_ans = input()\n",
    "        if u_ans == \"y\":\n",
    "            print(\"Kul, då kör vi igen!\")\n",
    "        else:\n",
    "            print(\"Tack för idag!\")\n",
    "            break\n",
    "    else:\n",
    "        (f\"oh no\")\n",
    "        break\n"
   ]
  },
  {
   "cell_type": "markdown",
   "metadata": {},
   "source": [
    "## 2.4 Check convergence (**)"
   ]
  },
  {
   "cell_type": "code",
   "execution_count": null,
   "metadata": {},
   "outputs": [],
   "source": [
    "# Här kan man ha kod "
   ]
  },
  {
   "cell_type": "markdown",
   "metadata": {},
   "source": [
    "## 3.0 Count Numbers"
   ]
  },
  {
   "cell_type": "code",
   "execution_count": 4,
   "metadata": {},
   "outputs": [
    {
     "name": "stdout",
     "output_type": "stream",
     "text": [
      "-10\n",
      "-9\n",
      "-8\n",
      "-7\n",
      "-6\n",
      "-5\n",
      "-4\n",
      "-3\n",
      "-2\n",
      "-1\n",
      "0\n",
      "1\n",
      "2\n",
      "3\n",
      "4\n",
      "5\n",
      "6\n",
      "7\n",
      "8\n",
      "9\n",
      "10\n"
     ]
    }
   ],
   "source": [
    "#a\n",
    "'''\n",
    "for i in range(-11, 10):\n",
    "    i += 1\n",
    "    print(i)'''\n",
    "\n",
    "#b\n",
    "    \n",
    "for i in range(-12, 9):\n",
    "    i +=2\n",
    "    print(i)"
   ]
  },
  {
   "cell_type": "markdown",
   "metadata": {},
   "source": [
    "## 3.1 Arithmetic sum"
   ]
  },
  {
   "cell_type": "code",
   "execution_count": 10,
   "metadata": {},
   "outputs": [
    {
     "name": "stdout",
     "output_type": "stream",
     "text": [
      "1\n",
      "2\n",
      "3\n",
      "4\n",
      "5\n",
      "6\n",
      "7\n",
      "8\n",
      "9\n",
      "10\n",
      "11\n",
      "12\n",
      "13\n",
      "14\n",
      "15\n",
      "16\n",
      "17\n",
      "18\n",
      "19\n",
      "20\n",
      "21\n",
      "22\n",
      "23\n",
      "24\n",
      "25\n",
      "26\n",
      "27\n",
      "28\n",
      "29\n",
      "30\n",
      "31\n",
      "32\n",
      "33\n",
      "34\n",
      "35\n",
      "36\n",
      "37\n",
      "38\n",
      "39\n",
      "40\n",
      "41\n",
      "42\n",
      "43\n",
      "44\n",
      "45\n",
      "46\n",
      "47\n",
      "48\n",
      "49\n",
      "50\n",
      "51\n",
      "52\n",
      "53\n",
      "54\n",
      "55\n",
      "56\n",
      "57\n",
      "58\n",
      "59\n",
      "60\n",
      "61\n",
      "62\n",
      "63\n",
      "64\n",
      "65\n",
      "66\n",
      "67\n",
      "68\n",
      "69\n",
      "70\n",
      "71\n",
      "72\n",
      "73\n",
      "74\n",
      "75\n",
      "76\n",
      "77\n",
      "78\n",
      "79\n",
      "80\n",
      "81\n",
      "82\n",
      "83\n",
      "84\n",
      "85\n",
      "86\n",
      "87\n",
      "88\n",
      "89\n",
      "90\n",
      "91\n",
      "92\n",
      "93\n",
      "94\n",
      "95\n",
      "96\n",
      "97\n",
      "98\n",
      "99\n",
      "100\n"
     ]
    }
   ],
   "source": [
    "for i in range(1, 101):\n",
    "    print(i)"
   ]
  },
  {
   "cell_type": "code",
   "execution_count": 12,
   "metadata": {},
   "outputs": [
    {
     "name": "stdout",
     "output_type": "stream",
     "text": [
      "1\n",
      "3\n",
      "5\n",
      "7\n",
      "9\n",
      "11\n",
      "13\n",
      "15\n",
      "17\n",
      "19\n",
      "21\n",
      "23\n",
      "25\n",
      "27\n",
      "29\n",
      "31\n",
      "33\n",
      "35\n",
      "37\n",
      "39\n",
      "41\n",
      "43\n",
      "45\n",
      "47\n",
      "49\n",
      "51\n",
      "53\n",
      "55\n",
      "57\n",
      "59\n",
      "61\n",
      "63\n",
      "65\n",
      "67\n",
      "69\n",
      "71\n",
      "73\n",
      "75\n",
      "77\n",
      "79\n",
      "81\n",
      "83\n",
      "85\n",
      "87\n",
      "89\n",
      "91\n",
      "93\n",
      "95\n",
      "97\n",
      "99\n"
     ]
    }
   ],
   "source": [
    "for i in range(1, 101, 2):\n",
    "    print(i)"
   ]
  },
  {
   "cell_type": "markdown",
   "metadata": {},
   "source": [
    "## 3.2 Multiplication table"
   ]
  },
  {
   "cell_type": "code",
   "execution_count": 82,
   "metadata": {},
   "outputs": [
    {
     "name": "stdout",
     "output_type": "stream",
     "text": [
      "0\n",
      "6\n",
      "12\n",
      "18\n",
      "24\n",
      "30\n",
      "36\n",
      "42\n",
      "48\n",
      "54\n",
      "60\n"
     ]
    },
    {
     "data": {
      "text/plain": [
       "'\\n#B\\nuser_tabel = int(input(\"Vilken tabell vill du använda? \"))\\nuser_start = int(input(\"Vart vill du börja? \"))\\nuser_end = int(input(\"Vart vill du sluta? \"))\\n\\nfor i in range(user_start, user_end):\\n    print(i*user_tabel)'"
      ]
     },
     "execution_count": 82,
     "metadata": {},
     "output_type": "execute_result"
    }
   ],
   "source": [
    "# A\n",
    "\n",
    "for i in range(0,11):\n",
    "    print(i*6)\n",
    "'''\n",
    "#B\n",
    "user_tabel = int(input(\"Vilken tabell vill du använda? \"))\n",
    "user_start = int(input(\"Vart vill du börja? \"))\n",
    "user_end = int(input(\"Vart vill du sluta? \"))\n",
    "\n",
    "for i in range(user_start, user_end):\n",
    "    print(i*user_tabel)'''\n",
    "\n",
    "#C\n"
   ]
  },
  {
   "cell_type": "markdown",
   "metadata": {},
   "source": [
    "## 3.3 Faculty (*)\n",
    "Use a for statement to compute n!.\n",
    "\n",
    "n! = 1 * 2 * 3 * (n - 1) * 1\n",
    "\n",
    "\n",
    "Let the user input n."
   ]
  },
  {
   "cell_type": "code",
   "execution_count": null,
   "metadata": {},
   "outputs": [],
   "source": []
  },
  {
   "cell_type": "markdown",
   "metadata": {},
   "source": [
    "## 3.4 Pin code cracking (*)\n",
    "Start by creating a random four-digit number. Use for statement to do a brute force approach to figure out a correct guess."
   ]
  },
  {
   "cell_type": "code",
   "execution_count": null,
   "metadata": {},
   "outputs": [],
   "source": []
  },
  {
   "cell_type": "markdown",
   "metadata": {},
   "source": [
    "## 3.5 Rice on chessboard (*)\n",
    "In first square of the chessboard there is one grain of rice, in the second square there is two grains, in the third square there is four grains and so on. How many grains are there in the whole chessboard when all squares are filled using this pattern?"
   ]
  },
  {
   "cell_type": "code",
   "execution_count": null,
   "metadata": {},
   "outputs": [],
   "source": []
  },
  {
   "cell_type": "markdown",
   "metadata": {},
   "source": [
    "## 4.0. Dice rolls (*)\n",
    "Simulate 10 dice rolls and append the rolls to a list or use list comprehension.\n",
    "\n",
    "  a)   sort the list in ascending order (*)\n",
    "\n",
    "  b)   sort the list in descending order (*)\n",
    "\n",
    "  c)   find the maximum and minimum value in the list (*)"
   ]
  },
  {
   "cell_type": "code",
   "execution_count": null,
   "metadata": {},
   "outputs": [],
   "source": [
    "import random as rnd\n",
    "\n",
    "def dice_roll():\n",
    "    return rnd.randint(1,6)\n",
    "\n",
    "rolls = [roll_die() for _ in range(10)]\n",
    "\n",
    "sorted_asc = sorted(rolls)\n",
    "print(\"Sorted in ascending order:\", sorted_asc)\n",
    "\n",
    "sorted_descending = sorted(rolls, reverse=True)\n",
    "print(\"Sorted in descending order:\", sorted_descending)\n",
    "\n",
    "max_value = max(rolls)\n",
    "min_value = min(rolls)\n",
    "print(\"Max value:\", max_value)\n",
    "print(\"Min value:\", min_value)\n"
   ]
  },
  {
   "cell_type": "markdown",
   "metadata": {},
   "source": [
    "## 4.1 Food menu (*)\n",
    "Create a:\n",
    "\n",
    "  a)   list with the following elements: \"vegetarisk lasagne\", \"spaghetti\", \"fisk\", \"grönsakssoppa\", \"pannkakor\". (*)\n",
    "\n",
    "  b)   list with the weekdays (*)\n",
    "\n",
    "  c)   create a food menu with each day corresponding to each food item and print it out. (*)"
   ]
  },
  {
   "cell_type": "code",
   "execution_count": 84,
   "metadata": {},
   "outputs": [
    {
     "name": "stdout",
     "output_type": "stream",
     "text": [
      "['vegetarisk lasagne', 'spaghetti', 'fisk', 'grönsakssoppa', 'pannkakor']\n"
     ]
    }
   ],
   "source": [
    "food = [\"vegetarisk lasagne\", \"spaghetti\", \"fisk\", \"grönsakssoppa\", \"pannkakor\"]\n",
    "\n",
    "print(food)"
   ]
  },
  {
   "cell_type": "markdown",
   "metadata": {},
   "source": [
    "## 4.2 Squares (*)\n",
    "  a)   Use list comprehension to create a list of squares from -10 to 10 (*)\n",
    "\n",
    "  b)   Plot this list using matplotlib. (*)"
   ]
  },
  {
   "cell_type": "code",
   "execution_count": null,
   "metadata": {},
   "outputs": [],
   "source": []
  },
  {
   "cell_type": "markdown",
   "metadata": {},
   "source": [
    "## 5.0 Counting letters (*)\n",
    "Let the user input a word:\n",
    "\n",
    "  a)   print out the number of letters in the word. (*)\n",
    "\n",
    "  b)   print out the number of uppercase and lowercase letters of the word (*)"
   ]
  },
  {
   "cell_type": "code",
   "execution_count": null,
   "metadata": {},
   "outputs": [],
   "source": []
  },
  {
   "cell_type": "markdown",
   "metadata": {},
   "source": [
    "## 5.1 Counting words (*)\n",
    "Count the number of words in this sentence: \"A picture says more than a thousand words, a matematical formula says more than a thousand pictures.\" (*)"
   ]
  },
  {
   "cell_type": "code",
   "execution_count": null,
   "metadata": {},
   "outputs": [],
   "source": []
  },
  {
   "cell_type": "markdown",
   "metadata": {},
   "source": [
    "## 5.2 Palindrome (*)\n",
    "A palindrome is a sequence of characters that is the same, when read forward as backwards (ignoring spaces). For example:\n",
    "\n",
    "\"Anna\" is a palindrome\n",
    "\"Ni talar bra latin\"\n",
    "bjkjb\n",
    "Here is a flowchart of the algorithm.\n",
    "\n",
    "Pic on site:\n",
    "\n",
    "Let the user input a sequence of characters and check if it is a palindrome. (*)"
   ]
  },
  {
   "cell_type": "code",
   "execution_count": null,
   "metadata": {},
   "outputs": [],
   "source": []
  },
  {
   "cell_type": "markdown",
   "metadata": {},
   "source": [
    "## 6.0 Area (*)\n",
    "Create a function that takes the base and height of a triangle as input parameters and returns the area of the triangle."
   ]
  },
  {
   "cell_type": "code",
   "execution_count": null,
   "metadata": {},
   "outputs": [],
   "source": []
  },
  {
   "cell_type": "markdown",
   "metadata": {},
   "source": [
    "## 6.1. Euclidean distance (*)\n",
    "The formula for Euclidean distance in 2D between P: (p1, p2) and Q: (q1, q2)\n",
    " is:\n",
    "d(P,Q) = sqrt(p1,q1)**2 + (p2,q2)**2\n",
    "\n",
    "  a)   Create a function that takes two points as input parameters and return the Euclidean between them. (*)\n",
    "\n",
    "  b)   Let the user input two points. Call the function using the users input points. (*)\n",
    "\n",
    "  c)   Use your function to calculate distances between the origin (0, 0) and each of these points: (10, 3), (-1, -9), (10, -10), (4, -2), (9, -10). (*)"
   ]
  },
  {
   "cell_type": "code",
   "execution_count": null,
   "metadata": {},
   "outputs": [],
   "source": []
  },
  {
   "cell_type": "markdown",
   "metadata": {},
   "source": [
    "## 6.2. Mathematical functions (*)\n",
    "Make the following functions with def or lambda and plot their graphs in the same figure window, with (Massa ekvationer på sidan)\n",
    "  a)   \n",
    " (*)\n",
    "\n",
    "  b)   \n",
    " (*)\n",
    "\n",
    "What could the relation between \n",
    " and \n",
    " be?"
   ]
  },
  {
   "cell_type": "code",
   "execution_count": null,
   "metadata": {},
   "outputs": [],
   "source": []
  },
  {
   "cell_type": "markdown",
   "metadata": {},
   "source": [
    "## 6.3. Name cleaner (*)\n",
    "Create a function that takes a name as an input and:\n",
    "\n",
    "- removes all leading and trailing blank spaces\n",
    "- make capitalize the first character of each name, and make the rest lowercase\n",
    "\n",
    "Use your function on this list of strings:\n",
    "\n",
    "[\"  MaRcUs \", \" iDA aNderSon\", \"OLOF Olofsson            \"  ]"
   ]
  },
  {
   "cell_type": "markdown",
   "metadata": {},
   "source": [
    "## 7.0 Find and fix errors"
   ]
  },
  {
   "cell_type": "code",
   "execution_count": 23,
   "metadata": {},
   "outputs": [
    {
     "name": "stdout",
     "output_type": "stream",
     "text": [
      "1.0\n"
     ]
    }
   ],
   "source": [
    "import numpy as np\n",
    "\n",
    "def distance(x, y):\n",
    "    return np.sqrt(x+y)\n",
    "\n",
    "print(distance(0.5, 0.5))"
   ]
  },
  {
   "cell_type": "markdown",
   "metadata": {},
   "source": [
    "## 7.1 Find and fix errors"
   ]
  },
  {
   "cell_type": "code",
   "execution_count": 34,
   "metadata": {},
   "outputs": [
    {
     "name": "stdout",
     "output_type": "stream",
     "text": [
      "231 is not four-digit\n",
      "3124 is four-digit\n",
      "-4124 is four-digit\n",
      "-1000 is four-digit\n",
      "-999 is not four-digit\n",
      "1001 is four-digit\n",
      "10000 is not four-digit\n",
      "-10000 is not four-digit\n",
      "999 is not four-digit\n"
     ]
    }
   ],
   "source": [
    "def is_fourdigit(number):\n",
    "    if 1000 <= abs(number) < 10000:\n",
    "        return True\n",
    "    else:\n",
    "        return False\n",
    "\n",
    "# test program\n",
    "    test_numbers = [231, 3124, -4124, -1000,-999, 1001, 10000, -10000, 999]\n",
    "\n",
    "for number in test_numbers:\n",
    "    if is_fourdigit(number):\n",
    "        print(f\"{number} is four-digit\")\n",
    "    else:\n",
    "        print(f\"{number} is not four-digit\")"
   ]
  },
  {
   "cell_type": "markdown",
   "metadata": {},
   "source": [
    "## 7.2. Tram (*)\n",
    "\n",
    "Kokchun is a clumpsy computer user that doesn't take trams too often. Write a program to prompt the user for:\n",
    "\n",
    "- number of times he/she wants to take tram in one month\n",
    "- cost for one ticket\n",
    "- cost for monthly card\n",
    "\n",
    "The program should calculate if it's worth for him to buy monthly card or not. Make the program user friendly with clear error messages and ask again in case of input errors."
   ]
  },
  {
   "cell_type": "markdown",
   "metadata": {},
   "source": [
    "## 9.0 Curriculum"
   ]
  },
  {
   "cell_type": "code",
   "execution_count": 72,
   "metadata": {},
   "outputs": [
    {
     "name": "stdout",
     "output_type": "stream",
     "text": [
      "60\n"
     ]
    }
   ],
   "source": [
    "courses = [\n",
    "    {\"course\": \"OOP-grund\", \"points\": 30},\n",
    "    {\"course\": \"agilt\", \"points\": 10},\n",
    "    {\"course\": \"databaser\", \"points\": 20}\n",
    "]\n",
    "\n",
    "sum_ = sum(course[\"points\"] for course in courses)\n",
    "\n",
    "print(sum_)"
   ]
  },
  {
   "cell_type": "markdown",
   "metadata": {},
   "source": [
    "## 1. Dice simulation (*)\n",
    "\n",
    "Simulate 1000000 dice rolls and save the number of ones, twos, ..., \n",
    "sixes in a dictionary. Then print them out in the terminal. (*)"
   ]
  },
  {
   "cell_type": "code",
   "execution_count": 75,
   "metadata": {},
   "outputs": [
    {
     "name": "stdout",
     "output_type": "stream",
     "text": [
      "Antal 1: 166699\n",
      "Antal 2: 166167\n",
      "Antal 3: 166316\n",
      "Antal 4: 167039\n",
      "Antal 5: 166793\n",
      "Antal 6: 166986\n"
     ]
    }
   ],
   "source": [
    "import random\n",
    "\n",
    "def roll_die():\n",
    "    return random.randint(1, 6)\n",
    "\n",
    "num_rolls = 1000000\n",
    "rolls = [roll_die() for _ in range(num_rolls)]\n",
    "\n",
    "# Skapa en dictionary för att räkna antalet förekomster av varje sida\n",
    "results = {1: 0, 2: 0, 3: 0, 4: 0, 5: 0, 6: 0}\n",
    "\n",
    "# Räkna antalet förekomster\n",
    "for roll in rolls:\n",
    "    results[roll] += 1\n",
    "\n",
    "for number, count in results.items():\n",
    "    print(f\"Antal {number}: {count}\")\n"
   ]
  },
  {
   "cell_type": "markdown",
   "metadata": {},
   "source": [
    "## 10.0. Dice simulations (*)\n",
    "Simulations of one die,\n",
    "\n",
    "- a) Calculate theoretical mean of a dice (six-sided) (*)\n",
    "\n",
    "- b) Now do simulations of\n",
    "\n",
    "- 10\n",
    "- 100\n",
    "- 1000\n",
    "- 10000\n",
    "- 100000\n",
    "- 1000000\n",
    "- 10000000\n",
    "number of dices and plot their means. (*)"
   ]
  }
 ],
 "metadata": {
  "kernelspec": {
   "display_name": "venv",
   "language": "python",
   "name": "python3"
  },
  "language_info": {
   "codemirror_mode": {
    "name": "ipython",
    "version": 3
   },
   "file_extension": ".py",
   "mimetype": "text/x-python",
   "name": "python",
   "nbconvert_exporter": "python",
   "pygments_lexer": "ipython3",
   "version": "3.11.7"
  }
 },
 "nbformat": 4,
 "nbformat_minor": 2
}
