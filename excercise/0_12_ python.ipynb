{
 "cells": [
  {
   "cell_type": "markdown",
   "metadata": {},
   "source": [
    "## 0.1 Pythagorean theorem"
   ]
  },
  {
   "cell_type": "code",
   "execution_count": 22,
   "metadata": {},
   "outputs": [
    {
     "name": "stdout",
     "output_type": "stream",
     "text": [
      "5.0\n"
     ]
    }
   ],
   "source": [
    "import math\n",
    "a = 3\n",
    "b = 4\n",
    "\n",
    "c = a**2 + b**2\n",
    "c = math.sqrt(c)\n",
    "\n",
    "\n",
    "print(c)"
   ]
  },
  {
   "cell_type": "code",
   "execution_count": 27,
   "metadata": {},
   "outputs": [
    {
     "name": "stdout",
     "output_type": "stream",
     "text": [
      "Cathetusen 'b' blir 4.9\n"
     ]
    }
   ],
   "source": [
    "import math\n",
    "c = 7.0\n",
    "a = 5.0\n",
    "\n",
    "b = math.sqrt(c**2 - a**2)\n",
    "b_round = round(b, 1)\n",
    "\n",
    "print(f\"Cathetusen 'b' blir {b_round}\")\n"
   ]
  },
  {
   "cell_type": "markdown",
   "metadata": {},
   "source": [
    "## 0.2 Classification accuracy"
   ]
  },
  {
   "cell_type": "code",
   "execution_count": 32,
   "metadata": {},
   "outputs": [
    {
     "name": "stdout",
     "output_type": "stream",
     "text": [
      "Correct procent is 82.19%\n"
     ]
    }
   ],
   "source": [
    "prediction = 365\n",
    "correct = 300\n",
    "\n",
    "accuracy = correct / prediction\n",
    "\n",
    "print(f\"Correct procent is {accuracy:.2%}\")"
   ]
  },
  {
   "cell_type": "markdown",
   "metadata": {},
   "source": [
    "## 0.3 Classification accuracy"
   ]
  },
  {
   "cell_type": "code",
   "execution_count": 47,
   "metadata": {},
   "outputs": [
    {
     "name": "stdout",
     "output_type": "stream",
     "text": [
      "The accuracy is 0.987\n"
     ]
    }
   ],
   "source": [
    "TP = 2\n",
    "FP = 2\n",
    "FN = 11\n",
    "TN = 985\n",
    "\n",
    "A = TP + TN + FP + FN\n",
    "B = TP + TN  #(TP + TN + FP + FN)\n",
    "C = B / A\n",
    "\n",
    "print(f\"The accuracy is {C}\")"
   ]
  },
  {
   "cell_type": "markdown",
   "metadata": {},
   "source": [
    "## 0.4 Line"
   ]
  },
  {
   "cell_type": "code",
   "execution_count": 49,
   "metadata": {},
   "outputs": [
    {
     "name": "stdout",
     "output_type": "stream",
     "text": [
      "Slope of the line: 0.75\n",
      "Constant term of the line: 1.0\n"
     ]
    }
   ],
   "source": [
    "x1 = 4\n",
    "y1 = 4\n",
    "\n",
    "x2 = 0\n",
    "y2 = 1\n",
    "\n",
    "slope = (y2 - y1) / (x2 - x1)\n",
    "constant = y1 - slope * x1\n",
    "\n",
    "print(\"Slope of the line:\", slope)\n",
    "print(\"Constant term of the line:\", constant)"
   ]
  },
  {
   "cell_type": "markdown",
   "metadata": {},
   "source": [
    "## 0.5 Euclidean distance"
   ]
  },
  {
   "cell_type": "code",
   "execution_count": 63,
   "metadata": {},
   "outputs": [
    {
     "name": "stdout",
     "output_type": "stream",
     "text": [
      "Distansen blir  5.1\n"
     ]
    }
   ],
   "source": [
    "import math\n",
    "x1 = 3\n",
    "y1 = 5\n",
    "\n",
    "x2 = -2\n",
    "y2 = 4\n",
    "\n",
    "d = math.sqrt((-2 - 3)**2 + (4 - 5)**2)\n",
    "\n",
    "print(f\"Distansen blir {d: .1f}\")"
   ]
  },
  {
   "cell_type": "markdown",
   "metadata": {},
   "source": [
    "## 0.6(**) Euclidean distance in 3D"
   ]
  },
  {
   "cell_type": "code",
   "execution_count": null,
   "metadata": {},
   "outputs": [],
   "source": [
    "# Behöver göras"
   ]
  },
  {
   "cell_type": "markdown",
   "metadata": {},
   "source": [
    "## 1.0 Check sign"
   ]
  },
  {
   "cell_type": "code",
   "execution_count": 3,
   "metadata": {},
   "outputs": [
    {
     "name": "stdout",
     "output_type": "stream",
     "text": [
      "Du skrev 0\n"
     ]
    }
   ],
   "source": [
    "u_input = int(input(\"skriv ett nummer: \"))\n",
    "\n",
    "if u_input > 0:\n",
    "    print(f\"Du har valt {u_input}: ett positivt nummer\")\n",
    "elif u_input < 0:\n",
    "    print(f\"Du har valt {u_input}: ett negativt nummer\")\n",
    "else:\n",
    "    print(f\"Du skrev 0\")\n"
   ]
  },
  {
   "cell_type": "markdown",
   "metadata": {},
   "source": [
    "## 1.1 Smallest"
   ]
  },
  {
   "cell_type": "code",
   "execution_count": 11,
   "metadata": {},
   "outputs": [
    {
     "name": "stdout",
     "output_type": "stream",
     "text": [
      "Det minsta är 2\n"
     ]
    }
   ],
   "source": [
    "x_input = int(input(\"skriv ett nummer: \"))\n",
    "y_input = int(input(\"skriv ett till nummer: \"))\n",
    "\n",
    "t = min(x_input, y_input)\n",
    "\n",
    "print(f\"Det minsta är {t}\")"
   ]
  },
  {
   "cell_type": "markdown",
   "metadata": {},
   "source": [
    "## 1.2 Right angle "
   ]
  },
  {
   "cell_type": "code",
   "execution_count": 10,
   "metadata": {},
   "outputs": [
    {
     "name": "stdout",
     "output_type": "stream",
     "text": [
      "Det blir en triangel\n"
     ]
    }
   ],
   "source": [
    "a_input = int(input(\"skriv nummer\"))\n",
    "b_input = int(input(\"Skriv ett till\"))\n",
    "c_input = int(input(\"En till\"))\n",
    "\n",
    "d = a_input + b_input + c_input\n",
    "\n",
    "if d == 180:\n",
    "    print(f\"Det blir en triangel\")\n",
    "else:\n",
    "    print(f\"Du har fel\")"
   ]
  },
  {
   "cell_type": "markdown",
   "metadata": {},
   "source": [
    "## 1.3 Medicine"
   ]
  },
  {
   "cell_type": "code",
   "execution_count": null,
   "metadata": {},
   "outputs": [],
   "source": [
    "weight = int(input(\"Type your weight\"))\n",
    "age = int(input(\"Type your age\"))\n",
    "\n",
    "if weight < 15:\n",
    "    print(f\"Do not give your child this!\")\n",
    "elif 15 <= weight <=25:\n",
    "    print(f\"Take 1/2 a tablet\")\n",
    "elif 26 <= weight <=40:\n",
    "    print(f\"Take 1/2-1 tablet\")\n",
    "else:\n",
    "    print(f\"Take 1-2 tablets\")"
   ]
  },
  {
   "cell_type": "markdown",
   "metadata": {},
   "source": [
    "## 1.4 Divisible"
   ]
  },
  {
   "cell_type": "code",
   "execution_count": null,
   "metadata": {},
   "outputs": [],
   "source": [
    "## Här ska det stå kod"
   ]
  },
  {
   "cell_type": "markdown",
   "metadata": {},
   "source": [
    "## 1.5 Luggage size"
   ]
  },
  {
   "cell_type": "code",
   "execution_count": null,
   "metadata": {},
   "outputs": [],
   "source": [
    "## Här ska det vara kod"
   ]
  },
  {
   "cell_type": "markdown",
   "metadata": {},
   "source": [
    "## 2.0 Count numbers"
   ]
  },
  {
   "cell_type": "code",
   "execution_count": 15,
   "metadata": {},
   "outputs": [
    {
     "name": "stdout",
     "output_type": "stream",
     "text": [
      "-10\n",
      "-9\n",
      "-8\n",
      "-7\n",
      "-6\n",
      "-5\n",
      "-4\n",
      "-3\n",
      "-2\n",
      "-1\n",
      "0\n",
      "1\n",
      "2\n",
      "3\n",
      "4\n",
      "5\n",
      "6\n",
      "7\n",
      "8\n",
      "9\n",
      "10\n"
     ]
    }
   ],
   "source": [
    "x = -10\n",
    "\n",
    "while x < 11:\n",
    "    print(x)\n",
    "    x += 1"
   ]
  },
  {
   "cell_type": "markdown",
   "metadata": {},
   "source": [
    "## 2.1 Arithmetic sum"
   ]
  },
  {
   "cell_type": "code",
   "execution_count": 16,
   "metadata": {},
   "outputs": [
    {
     "name": "stdout",
     "output_type": "stream",
     "text": [
      "Summan av 1 till 100 är: 5050\n"
     ]
    }
   ],
   "source": [
    "summa = 0\n",
    "tal = 1\n",
    "\n",
    "while tal <= 100:\n",
    "    summa += tal\n",
    "    tal += 1\n",
    "\n",
    "print(f\"Summan av 1 till 100 är: {summa}\")"
   ]
  },
  {
   "cell_type": "code",
   "execution_count": 19,
   "metadata": {},
   "outputs": [
    {
     "name": "stdout",
     "output_type": "stream",
     "text": [
      "Summan av ojämna tal från 1 till 99 är: 2500\n"
     ]
    }
   ],
   "source": [
    "summa = 0\n",
    "tal = 1\n",
    "\n",
    "while tal <= 99:\n",
    "    summa += tal\n",
    "    tal += 2\n",
    "\n",
    "print(f\"Summan av ojämna tal från 1 till 99 är: {summa}\")"
   ]
  },
  {
   "cell_type": "markdown",
   "metadata": {},
   "source": [
    "## 2.2 Guess number game"
   ]
  },
  {
   "cell_type": "code",
   "execution_count": 30,
   "metadata": {},
   "outputs": [
    {
     "name": "stdout",
     "output_type": "stream",
     "text": [
      "Gissa ett nummer: \n",
      "Fel, för lågt. Försök igen:\n",
      "Fel, för lågt. Försök igen:\n",
      "Fel, för lågt. Försök igen:\n",
      "Fel, för lågt. Försök igen:\n",
      "Korrekt! Du gissade rätt med 100\n"
     ]
    }
   ],
   "source": [
    "#a\n",
    "import random\n",
    "\n",
    "n = random.randint(1, 101)\n",
    "\n",
    "print(\"Gissa ett nummer: \")\n",
    "user_inp = int(input())\n",
    "\n",
    "while user_inp != n:\n",
    "    if user_inp < n:\n",
    "        print(\"Fel, för lågt. Försök igen:\")\n",
    "    else:\n",
    "        print(\"Fel, för högt. Försök igen:\")\n",
    "    \n",
    "    user_inp = int(input())\n",
    "\n",
    "print(f\"Korrekt! Du gissade rätt med {user_inp}\")"
   ]
  },
  {
   "cell_type": "code",
   "execution_count": 32,
   "metadata": {},
   "outputs": [
    {
     "name": "stdout",
     "output_type": "stream",
     "text": [
      "50 är fel och för lågt. Försök igen:\n",
      "75 är fel och för lågt. Försök igen:\n",
      "88 är fel och för lågt. Försök igen:\n",
      "94 är fel och för lågt. Försök igen:\n",
      "97 är fel och för lågt. Försök igen:\n",
      "Hemligt nummer: 99\n",
      "Antal försök: 6\n"
     ]
    }
   ],
   "source": [
    "#b (**)\n",
    "\n",
    "import random\n",
    "\n",
    "secret_n = random.randint(1, 100)\n",
    "lower_limit = 1\n",
    "upper_limit = 100\n",
    "attempts = 0\n",
    "\n",
    "while True:\n",
    "    guess = (lower_limit + upper_limit) // 2\n",
    "    attempts += 1\n",
    "\n",
    "    if guess == secret_n:\n",
    "        print(f\"Hemligt nummer: {secret_n}\")\n",
    "        print(f\"Antal försök: {attempts}\")\n",
    "        break\n",
    "    elif guess < secret_n:\n",
    "        print(f\"{guess} är fel och för lågt. Försök igen:\")\n",
    "        lower_limit = guess + 1\n",
    "    else:\n",
    "        print(\"{guess} är fel och för högt. Försök igen:\")\n",
    "        upper_limit = guess - 1\n"
   ]
  },
  {
   "cell_type": "markdown",
   "metadata": {},
   "source": [
    "## 2.3 Multiplication game"
   ]
  },
  {
   "cell_type": "code",
   "execution_count": 18,
   "metadata": {},
   "outputs": [
    {
     "name": "stdout",
     "output_type": "stream",
     "text": [
      "What is 10 * 1? \n",
      "Yaay rätt\n",
      "poäng: 1\n",
      "Do you want to play again, y/n?\n",
      "Kul, då kör vi igen!\n",
      "What is 9 * 9? \n",
      "Yaay rätt\n",
      "poäng: 2\n",
      "Do you want to play again, y/n?\n",
      "Tack för idag!\n"
     ]
    }
   ],
   "source": [
    "# Finns a, b, c. Bara gjort a!\n",
    "score = 0\n",
    "while True:\n",
    "    import random\n",
    "    rand_x = random.randint(1, 10)\n",
    "    rand_y = random.randint(1, 10)\n",
    "\n",
    "    print(f\"What is {rand_x} * {rand_y}? \")\n",
    "    user_input = int(input())\n",
    "\n",
    "    answer = rand_x * rand_y\n",
    "\n",
    "    if user_input == answer:\n",
    "        score += 1\n",
    "        print(f\"Yaay rätt\")\n",
    "        print(f\"poäng: {score}\")\n",
    "        print(f\"Do you want to play again, y/n?\")\n",
    "\n",
    "        u_ans = input()\n",
    "        if u_ans == \"y\":\n",
    "            print(\"Kul, då kör vi igen!\")\n",
    "        else:\n",
    "            print(\"Tack för idag!\")\n",
    "            break\n",
    "        \n",
    "    elif user_input != answer:\n",
    "        print(f\"Tyvärr, det var {answer}\")\n",
    "        print(f\"Do you want to play again, y/n?\")\n",
    "\n",
    "        u_ans = input()\n",
    "        if u_ans == \"y\":\n",
    "            print(\"Kul, då kör vi igen!\")\n",
    "        else:\n",
    "            print(\"Tack för idag!\")\n",
    "            break\n",
    "    else:\n",
    "        (f\"oh no\")\n",
    "        break\n"
   ]
  },
  {
   "cell_type": "markdown",
   "metadata": {},
   "source": [
    "## 2.4 Check convergence (**)"
   ]
  },
  {
   "cell_type": "code",
   "execution_count": null,
   "metadata": {},
   "outputs": [],
   "source": [
    "# Här kan man ha kod "
   ]
  },
  {
   "cell_type": "markdown",
   "metadata": {},
   "source": [
    "## 3.0 Count Numbers"
   ]
  },
  {
   "cell_type": "code",
   "execution_count": 24,
   "metadata": {},
   "outputs": [
    {
     "name": "stdout",
     "output_type": "stream",
     "text": [
      "-9\n",
      "-8\n",
      "-7\n",
      "-6\n",
      "-5\n",
      "-4\n",
      "-3\n",
      "-2\n",
      "-1\n",
      "0\n",
      "1\n",
      "2\n",
      "3\n",
      "4\n",
      "5\n",
      "6\n",
      "7\n",
      "8\n",
      "9\n",
      "10\n",
      "11\n"
     ]
    }
   ],
   "source": [
    "#a\n",
    "'''\n",
    "for i in range(-11, 10):\n",
    "    i += 1\n",
    "    print(i)'''\n",
    "\n",
    "#b\n",
    "    \n",
    "for i in range(-11, 10):\n",
    "    i +=2\n",
    "    print(i)"
   ]
  }
 ],
 "metadata": {
  "kernelspec": {
   "display_name": "venv",
   "language": "python",
   "name": "python3"
  },
  "language_info": {
   "codemirror_mode": {
    "name": "ipython",
    "version": 3
   },
   "file_extension": ".py",
   "mimetype": "text/x-python",
   "name": "python",
   "nbconvert_exporter": "python",
   "pygments_lexer": "ipython3",
   "version": "3.11.7"
  }
 },
 "nbformat": 4,
 "nbformat_minor": 2
}
