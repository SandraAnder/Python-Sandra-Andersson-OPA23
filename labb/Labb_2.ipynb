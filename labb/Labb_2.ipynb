{
 "cells": [
  {
   "cell_type": "code",
   "execution_count": null,
   "metadata": {},
   "outputs": [],
   "source": [
    "pichu_path = \"../data/pichu.txt\"\n",
    "pikachu_path = \"../data/pikachu.txt\"\n",
    "#test_points_path = \"../data/test_points.txt\"\n",
    "\n",
    "rounded_pichu = []\n",
    "with open(pichu_path, \"r\") as file:\n",
    "    next(file)\n",
    "    for line in file:\n",
    "        # Dela raden vid kommatecken för att separera decimaltalen\n",
    "        nums = line.strip().strip('()').split(',')\n",
    "        # Konvertera decimaltalen till flyttal och avrunda dem till närmaste heltal\n",
    "        rounded_pichu.append([\"{:.2f}\".format(float(nums[0]), 2), \"{:.2f}\".format(float(nums[1]), 2)])\n",
    "        # Skriv ut de avrundade heltalen\n",
    "        print(rounded_pichu)\n",
    "\n",
    "rounded_pikachu = []\n",
    "with open(pikachu_path, \"r\") as pikachu_file:\n",
    "    next(pikachu_file)\n",
    "    for line in pikachu_file:\n",
    "        # Dela raden vid kommatecken för att separera decimaltalen\n",
    "        nums = line.strip().strip('()').split(',')\n",
    "        # Konvertera decimaltalen till flyttal och avrunda dem till närmaste heltal\n",
    "        rounded_pikachu.append([\"{:.2f}\".format(float(nums[0]), 2), \"{:.2f}\".format(float(nums[1]), 2)])\n",
    "        # Skriv ut de avrundade heltalen\n",
    "        print(rounded_pikachu)\n",
    "\n",
    "\n"
   ]
  },
  {
   "cell_type": "code",
   "execution_count": 40,
   "metadata": {},
   "outputs": [
    {
     "data": {
      "text/plain": [
       "'\\nwith open(pikachu_output_path, \"w\") as pikachu_output_file:\\n    pikachu_output_file.write(\"PIKACHU: Width (cm), Height (cm)\\n\")\\n    for width, height in rounded_pikachu:\\n        pikachu_output_file.write(f\"{width}, {height}\\n\")'"
      ]
     },
     "execution_count": 40,
     "metadata": {},
     "output_type": "execute_result"
    }
   ],
   "source": [
    "pichu_output_path = \"../data/Pichu_dimensions_cleanedup.txt\"\n",
    "pikachu_output_path = \"../data/Pikachu_dimensions_cleanedup.txt\"\n",
    "\n",
    "# Skriver ut listorna och avrundar till närmsta heltal och genererar en ny fixad textfil.\n",
    "\n",
    "with open(pichu_output_path, \"w\") as pichu_output_file:\n",
    "    pichu_output_file.write(\"PICHU: Width (cm), Height (cm)\\n\")\n",
    "    for width, height in rounded_pichu:\n",
    "        pichu_output_file.write(f\"({width}, {height})\\n\")\n",
    "\n",
    "with open(pikachu_output_path, \"w\") as pikachu_output_file:\n",
    "    pikachu_output_file.write(\"PIKACHU: Width (cm), Height (cm)\\n\")\n",
    "    for width, height in rounded_pikachu:\n",
    "        pikachu_output_file.write(f\"({width}, {height})\\n\")\n",
    "\n",
    "#print(f\"Pichu-dimensionerna har sparats i {output_pichu_path}\")\n"
   ]
  },
  {
   "cell_type": "code",
   "execution_count": null,
   "metadata": {},
   "outputs": [],
   "source": []
  },
  {
   "cell_type": "markdown",
   "metadata": {},
   "source": [
    "class Antagning:\n",
    "    #dunder init\n",
    "    def __init__(self, school, program, name, accept):\n",
    "        self.school = school\n",
    "        self.program = program\n",
    "        self.name = name\n",
    "        self.accept = accept"
   ]
  }
 ],
 "metadata": {
  "kernelspec": {
   "display_name": "venv",
   "language": "python",
   "name": "python3"
  },
  "language_info": {
   "codemirror_mode": {
    "name": "ipython",
    "version": 3
   },
   "file_extension": ".py",
   "mimetype": "text/x-python",
   "name": "python",
   "nbconvert_exporter": "python",
   "pygments_lexer": "ipython3",
   "version": "3.11.7"
  }
 },
 "nbformat": 4,
 "nbformat_minor": 2
}
