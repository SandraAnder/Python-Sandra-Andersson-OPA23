{
 "cells": [
  {
   "cell_type": "markdown",
   "metadata": {},
   "source": [
    "## Labb 1\n",
    "\n",
    "Syftet med den här laborationen är att använda verktygen du lärt dig i Python för att implementera en\n",
    "förenklad maskininlärningsalgoritm.\n",
    "\n",
    "I den här laborationen finns (simulerad) data på Pichus och Pikachus längder och bredder. \n",
    "\n",
    "Du ska skapa en algoritm som baserat på den givna datan kunna avgöra om en ny data ska klassificeras som Pichu eller\n",
    "Pikachu.\n"
   ]
  },
  {
   "cell_type": "code",
   "execution_count": 8,
   "metadata": {},
   "outputs": [
    {
     "name": "stdout",
     "output_type": "stream",
     "text": [
      "(25, 35), (15,14), (26,30), (22,45)\n"
     ]
    }
   ],
   "source": [
    "pichu_path = \"../data/pichu.txt\"\n",
    "pikachu_path = \"../data/pikachu.txt\"\n",
    "test_points = \"../data/test_points.txt\"\n",
    "\n",
    "with open(pichu_path, \"r\") as file:\n",
    "    pichu_text = file.read()\n",
    "\n",
    "with open(pikachu_path, \"r\") as file:\n",
    "    pikachu_text = file.read()\n",
    "\n",
    "with open(test_points, \"r\") as file:\n",
    "    TP_text = file.read()\n",
    "\n",
    "#print(pichu_text)\n",
    "#print(pikachu_text)\n",
    "#print(TP_text)"
   ]
  },
  {
   "cell_type": "code",
   "execution_count": null,
   "metadata": {},
   "outputs": [],
   "source": []
  }
 ],
 "metadata": {
  "kernelspec": {
   "display_name": "venv",
   "language": "python",
   "name": "python3"
  },
  "language_info": {
   "codemirror_mode": {
    "name": "ipython",
    "version": 3
   },
   "file_extension": ".py",
   "mimetype": "text/x-python",
   "name": "python",
   "nbconvert_exporter": "python",
   "pygments_lexer": "ipython3",
   "version": "3.11.7"
  }
 },
 "nbformat": 4,
 "nbformat_minor": 2
}
